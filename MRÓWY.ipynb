{
 "cells": [
  {
   "cell_type": "markdown",
   "metadata": {},
   "source": [
    "\n",
    "Algorytm mrówkowy"
   ]
  },
  {
   "cell_type": "markdown",
   "metadata": {},
   "source": [
    "Biblioteki"
   ]
  },
  {
   "cell_type": "code",
   "execution_count": 13,
   "metadata": {},
   "outputs": [],
   "source": [
    "import pandas as pd\n",
    "import numpy as np\n",
    "import matplotlib.pyplot as plt\n",
    "import time\n",
    "import itertools\n",
    "import random\n",
    "import math\n",
    "from collections import deque\n",
    "from openpyxl import load_workbook"
   ]
  },
  {
   "cell_type": "markdown",
   "metadata": {},
   "source": [
    "Pobór danych"
   ]
  },
  {
   "cell_type": "code",
   "execution_count": 14,
   "metadata": {},
   "outputs": [],
   "source": [
    "file_path1 = \"C:/Users/olgas/OneDrive/Documents/GitHub/TSP-problem/Dane_TSP_48.xlsx\"\n",
    "file_path2 = \"C:/Users/olgas/OneDrive/Documents/GitHub/TSP-problem/Dane_TSP_76.xlsx\"\n",
    "file_path3 = \"C:/Users/olgas/OneDrive/Documents/GitHub/TSP-problem/Dane_TSP_127.xlsx\"\n",
    "\n",
    "# file_path1 = \"C:/Users/Justyna/source/repos/Projekt_IO/TSP-problem/Dane_TSP_48.xlsx\"\n",
    "# file_path2 = \"C:/Users/Justyna/source/repos/Projekt_IO/TSP-problem/Dane_TSP_76.xlsx\"\n",
    "# file_path3 = \"C:/Users/Justyna/source/repos/Projekt_IO/TSP-problem/Dane_TSP_127.xlsx\"\n",
    "\n",
    "# file_path1 = \"C:/Users/ameli/OneDrive/Documents/GitHub/TSP-problem/Dane_TSP_48.xlsx\"\n",
    "# file_path2 = \"C:/Users/ameli/OneDrive/Documents/GitHub/TSP-problem/Dane_TSP_76.xlsx\"\n",
    "# file_path3 = \"C:/Users/ameli/OneDrive/Documents/GitHub/TSP-problem/Dane_TSP_127.xlsx\"\n",
    "\n",
    "# file_path1 = \"C:/Users/wera6/Downloads/Dane_TSP_48.xlsx\"\n",
    "# file_path2 = \"C:/Users/wera6/Downloads/Dane_TSP_76.xlsx\"\n",
    "# file_path3 = \"C:/Users/wera6/Downloads/Dane_TSP_127.xlsx\"\n",
    "\n",
    "# index_col=0 zamienia pierwszą kolumne na indeksy wierszy \n",
    "# .to_numpy() zamienia ramkę danych na macierz\n",
    "data1 = pd.read_excel(file_path1, index_col=0).to_numpy()\n",
    "\n",
    "data2 = pd.read_excel(file_path2, index_col=0).to_numpy()\n",
    "\n",
    "data3 = pd.read_excel(file_path3, index_col=0).to_numpy()"
   ]
  },
  {
   "cell_type": "markdown",
   "metadata": {},
   "source": [
    "Algorytm"
   ]
  },
  {
   "cell_type": "code",
   "execution_count": 15,
   "metadata": {},
   "outputs": [],
   "source": [
    "\n",
    "\n",
    "def ant_colony_optimization(dist_matrix, num_ants=10, num_iterations=100, alpha=1, beta=2, rho=0.5, Q=100):\n",
    "    start_time = time.time()\n",
    "    num_cities = len(dist_matrix)\n",
    "    pheromone = np.ones((num_cities, num_cities)) / num_cities  # Inicjalizacja feromonów\n",
    "    best_path = None\n",
    "    best_path_length = float('inf')\n",
    "\n",
    "    def compute_path_length(path):\n",
    "        return sum(dist_matrix[path[i]][path[i + 1]] for i in range(len(path) - 1)) + dist_matrix[path[-1]][path[0]]\n",
    "\n",
    "    def select_next_city(visited, current_city):\n",
    "        probabilities = []\n",
    "        for next_city in range(num_cities):\n",
    "            if next_city not in visited:\n",
    "                tau = pheromone[current_city][next_city] ** alpha\n",
    "                eta = (1 / dist_matrix[current_city][next_city]) ** beta\n",
    "                probabilities.append(tau * eta)\n",
    "            else:\n",
    "                probabilities.append(0)\n",
    "        total = sum(probabilities)\n",
    "        probabilities = [p / total for p in probabilities]\n",
    "        return random.choices(range(num_cities), probabilities)[0]\n",
    "\n",
    "    for iteration in range(num_iterations):\n",
    "        all_paths = []\n",
    "        all_path_lengths = []\n",
    "        \n",
    "        for ant in range(num_ants):\n",
    "            path = []\n",
    "            visited = set()\n",
    "            current_city = random.randint(0, num_cities - 1)\n",
    "            path.append(current_city)\n",
    "            visited.add(current_city)\n",
    "            \n",
    "            while len(visited) < num_cities:\n",
    "                next_city = select_next_city(visited, current_city)\n",
    "                path.append(next_city)\n",
    "                visited.add(next_city)\n",
    "                current_city = next_city\n",
    "\n",
    "            path_length = compute_path_length(path)\n",
    "            all_paths.append(path)\n",
    "            all_path_lengths.append(path_length)\n",
    "\n",
    "            if path_length < best_path_length:\n",
    "                best_path_length = path_length\n",
    "                best_path = path\n",
    "\n",
    "        # Aktualizacja feromonów\n",
    "        pheromone *= (1 - rho)  # Parowanie\n",
    "        for path, length in zip(all_paths, all_path_lengths):\n",
    "            for i in range(len(path)):\n",
    "                pheromone[path[i]][path[(i + 1) % num_cities]] += Q / length\n",
    "\n",
    "\n",
    "    \n",
    "    total_time = time.time() - start_time\n",
    "\n",
    "    best_path = [city + 1 for city in best_path]\n",
    "\n",
    "\n",
    "    return best_path, best_path_length, total_time\n",
    "\n",
    "# Przykład użycia\n",
    "# dist_matrix = np.array([\n",
    "#     [0, 10, 15, 20],\n",
    "#     [10, 0, 35, 25],\n",
    "#     [15, 35, 0, 30],\n",
    "#     [20, 25, 30, 0]\n",
    "# ])\n",
    "\n",
    "# best_path, best_length = ant_colony_optimization(dist_matrix)\n",
    "# print(f\"Najlepsza ścieżka: {best_path}\")\n",
    "# print(f\"Długość ścieżki: {best_length}\")\n"
   ]
  },
  {
   "cell_type": "markdown",
   "metadata": {},
   "source": [
    "Generowanie wyników"
   ]
  },
  {
   "cell_type": "code",
   "execution_count": 16,
   "metadata": {},
   "outputs": [],
   "source": [
    "classic_p_1, classic_c_1, classic_t_1 = ant_colony_optimization(data1)\n",
    "classic_p_2, classic_c_2, classic_t_2 = ant_colony_optimization(data2)\n",
    "classic_p_3, classic_c_3, classic_t_3 = ant_colony_optimization(data3)"
   ]
  },
  {
   "cell_type": "code",
   "execution_count": 17,
   "metadata": {},
   "outputs": [],
   "source": [
    "W1 =  {\n",
    "    \"Długość ścieżki\": [classic_c_1,classic_c_2,classic_c_3 ],\n",
    "    \"Ścieżka\": [classic_p_1,classic_p_2,classic_p_3 ],\n",
    "    \"Czas\": [classic_t_1,classic_t_2,classic_t_3 ]\n",
    "\n",
    "}\n",
    "\n",
    "m1 = pd.DataFrame(data = W1)"
   ]
  },
  {
   "cell_type": "markdown",
   "metadata": {},
   "source": [
    "Badanie wpływu parametru liczba mrówek"
   ]
  },
  {
   "cell_type": "code",
   "execution_count": null,
   "metadata": {},
   "outputs": [],
   "source": [
    "\n",
    "\n",
    "def test_ants_effect(data, dataset_name):\n",
    "    results = []\n",
    "    num_cities = len(data)\n",
    "    for num_ants in range(max(1, int(0.5 * num_cities)), int(2 * num_cities) + 1, 20):  # Liczba mrówek w krokach co 5\n",
    "        best_path, best_cost, best_time = ant_colony_optimization(data, num_ants=num_ants, num_iterations=100, alpha=1, beta=2, rho=0.5, Q=100)\n",
    "        results.append({\"PARAMETR\": num_ants, \"WYNIK_1\": best_cost, \"Ścieżka\": best_path, \"CZAS\": best_time})\n",
    "\n",
    "    # Konwersja wyników na DataFrame\n",
    "    df_results = pd.DataFrame(results)\n",
    "    df_results[\"DATASET\"] = dataset_name\n",
    "    return df_results\n",
    "\n",
    "# Testy dla data1, data2, data3\n",
    "df1 = test_ants_effect(data1, \"DATA1\")\n",
    "df2 = test_ants_effect(data2, \"DATA2\")\n",
    "df3 = test_ants_effect(data3, \"DATA3\")\n",
    "\n",
    "# Łączenie wyników w jeden DataFrame\n",
    "ants = pd.concat([df1, df2, df3], ignore_index=True)\n",
    "\n",
    "\n",
    "\n"
   ]
  },
  {
   "cell_type": "markdown",
   "metadata": {},
   "source": [
    "Badanie wpływu num_itteration"
   ]
  },
  {
   "cell_type": "code",
   "execution_count": null,
   "metadata": {},
   "outputs": [],
   "source": [
    "def test_itteration(data, dataset_name):\n",
    "    results = []\n",
    "   \n",
    "    for num_iterations in range(50, 500, 50):  # Liczba mrówek w krokach co 5\n",
    "        best_path, best_cost, best_time = ant_colony_optimization(data, num_ants= 10, num_iterations= num_iterations, alpha=1, beta=2, rho=0.5, Q=100)\n",
    "        results.append({\"PARAMETR\": num_iterations, \"WYNIK_1\": best_cost, \"Ścieżka\": best_path, \"CZAS\": best_time})\n",
    "\n",
    "    # Konwersja wyników na DataFrame\n",
    "    df_results = pd.DataFrame(results)\n",
    "    df_results[\"DATASET\"] = dataset_name\n",
    "    return df_results\n",
    "\n",
    "# Testy dla data1, data2, data3\n",
    "df1 = test_itteration(data1, \"DATA1\")\n",
    "df2 = test_itteration(data2, \"DATA2\")\n",
    "df3 = test_itteration(data3, \"DATA3\")\n",
    "\n",
    "# Łączenie wyników w jeden DataFrame\n",
    "itt = pd.concat([df1, df2, df3], ignore_index=True)\n"
   ]
  },
  {
   "cell_type": "markdown",
   "metadata": {},
   "source": [
    "Badanie wpływu parametru alpha"
   ]
  },
  {
   "cell_type": "code",
   "execution_count": null,
   "metadata": {},
   "outputs": [],
   "source": [
    "def test_alpha(data, dataset_name):\n",
    "    results = []\n",
    "   \n",
    "    for alpha in range(0, 5, 1):  # Liczba mrówek w krokach co 5\n",
    "        best_path, best_cost, best_time = ant_colony_optimization(data, num_ants= 10, num_iterations= 100, alpha=alpha, beta=2, rho=0.5, Q=100)\n",
    "        results.append({\"PARAMETR\": alpha, \"WYNIK_1\": best_cost, \"Ścieżka\": best_path, \"CZAS\": best_time})\n",
    "\n",
    "    # Konwersja wyników na DataFrame\n",
    "    df_results = pd.DataFrame(results)\n",
    "    df_results[\"DATASET\"] = dataset_name\n",
    "    return df_results\n",
    "\n",
    "# Testy dla data1, data2, data3\n",
    "df1 = test_alpha(data1, \"DATA1\")\n",
    "df2 = test_alpha(data2, \"DATA2\")\n",
    "df3 = test_alpha(data3, \"DATA3\")\n",
    "\n",
    "# Łączenie wyników w jeden DataFrame\n",
    "al = pd.concat([df1, df2, df3], ignore_index=True)"
   ]
  },
  {
   "cell_type": "markdown",
   "metadata": {},
   "source": [
    "Badanie wpływu parametru beta"
   ]
  },
  {
   "cell_type": "code",
   "execution_count": null,
   "metadata": {},
   "outputs": [],
   "source": [
    "def test_beta(data, dataset_name):\n",
    "    results = []\n",
    "   \n",
    "    for beta in range(1, 10, 1):  # Liczba mrówek w krokach co 5\n",
    "        best_path, best_cost, best_time = ant_colony_optimization(data, num_ants= 10, num_iterations= 100, alpha=1, beta=beta, rho=0.5, Q=100)\n",
    "        results.append({\"PARAMETR\": beta, \"WYNIK_1\": best_cost, \"Ścieżka\": best_path, \"CZAS\": best_time})\n",
    "\n",
    "    # Konwersja wyników na DataFrame\n",
    "    df_results = pd.DataFrame(results)\n",
    "    df_results[\"DATASET\"] = dataset_name\n",
    "    return df_results\n",
    "\n",
    "# Testy dla data1, data2, data3\n",
    "df1 = test_beta(data1, \"DATA1\")\n",
    "df2 = test_beta(data2, \"DATA2\")\n",
    "df3 = test_beta(data3, \"DATA3\")\n",
    "\n",
    "# Łączenie wyników w jeden DataFrame\n",
    "bet = pd.concat([df1, df2, df3], ignore_index=True)"
   ]
  },
  {
   "cell_type": "markdown",
   "metadata": {},
   "source": [
    "Badanie parametru rho\n"
   ]
  },
  {
   "cell_type": "code",
   "execution_count": null,
   "metadata": {},
   "outputs": [],
   "source": [
    "def test_rho(data, dataset_name):\n",
    "    results = []\n",
    "   \n",
    "    for rho in np.linspace(0.1, 0.9, 9):  # Liczba mrówek w krokach co 5\n",
    "        best_path, best_cost, best_time = ant_colony_optimization(data, num_ants= 10, num_iterations= 100, alpha=1, beta=2, rho=rho, Q=100)\n",
    "        results.append({\"PARAMETR\": rho, \"WYNIK_1\": best_cost, \"Ścieżka\": best_path, \"CZAS\": best_time})\n",
    "\n",
    "    # Konwersja wyników na DataFrame\n",
    "    df_results = pd.DataFrame(results)\n",
    "    df_results[\"DATASET\"] = dataset_name\n",
    "    return df_results\n",
    "\n",
    "# Testy dla data1, data2, data3\n",
    "df1 =test_rho(data1, \"DATA1\")\n",
    "df2 =test_rho(data2, \"DATA2\")\n",
    "df3 = test_rho(data3, \"DATA3\")\n",
    "\n",
    "# Łączenie wyników w jeden DataFrame\n",
    "rho = pd.concat([df1, df2, df3], ignore_index=True)"
   ]
  },
  {
   "cell_type": "markdown",
   "metadata": {},
   "source": [
    "Badanie wpływu parametru  Q"
   ]
  },
  {
   "cell_type": "code",
   "execution_count": null,
   "metadata": {},
   "outputs": [],
   "source": [
    "def test_qu(data, dataset_name):\n",
    "    results = []\n",
    "   \n",
    "    for Qu in range(0, 500, 50):  # Liczba mrówek w krokach co 5\n",
    "        best_path, best_cost, best_time = ant_colony_optimization(data, num_ants= 10, num_iterations= 100, alpha=1, beta=2, rho=0.5, Q=Qu)\n",
    "        results.append({\"PARAMETR\": Qu, \"WYNIK_1\": best_cost, \"Ścieżka\": best_path, \"CZAS\": best_time})\n",
    "\n",
    "    # Konwersja wyników na DataFrame\n",
    "    df_results = pd.DataFrame(results)\n",
    "    df_results[\"DATASET\"] = dataset_name\n",
    "    return df_results\n",
    "\n",
    "# Testy dla data1, data2, data3\n",
    "df1 = test_qu(data1, \"DATA1\")\n",
    "df2 = test_qu(data2, \"DATA2\")\n",
    "df3 = test_qu(data3, \"DATA3\")\n",
    "\n",
    "# Łączenie wyników w jeden DataFrame\n",
    "qu = pd.concat([df1, df2, df3], ignore_index=True)"
   ]
  },
  {
   "cell_type": "markdown",
   "metadata": {},
   "source": [
    "Zapis do pliku Excel"
   ]
  },
  {
   "cell_type": "code",
   "execution_count": null,
   "metadata": {},
   "outputs": [],
   "source": [
    "resu = {\n",
    "    \"Klasyk_wyniki\": m1,\n",
    "    \"num_ants\": ants,\n",
    "    \"max_itt\":  itt,\n",
    "    \"alpha\": al,\n",
    "    \"beta\": bet,\n",
    "    \"rho\": rho,\n",
    "    \"QU\" : qu\n",
    "}\n",
    "\n",
    "# Ścieżka do pliku Excel\n",
    "file_name = \"MRÓWY.xlsx\"\n",
    "\n",
    "# Zapisujemy dane do Excela\n",
    "with pd.ExcelWriter(file_name) as writer:\n",
    "    for sheet_name, df in resu.items():\n",
    "        df.to_excel(writer, sheet_name=sheet_name, index=False)\n",
    "\n",
    "print(f\"Wyniki zostały zapisane w pliku {file_name}\")"
   ]
  }
 ],
 "metadata": {
  "kernelspec": {
   "display_name": "base",
   "language": "python",
   "name": "python3"
  },
  "language_info": {
   "codemirror_mode": {
    "name": "ipython",
    "version": 3
   },
   "file_extension": ".py",
   "mimetype": "text/x-python",
   "name": "python",
   "nbconvert_exporter": "python",
   "pygments_lexer": "ipython3",
   "version": "3.12.4"
  }
 },
 "nbformat": 4,
 "nbformat_minor": 2
}
