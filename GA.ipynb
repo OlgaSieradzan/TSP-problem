{
 "cells": [
  {
   "cell_type": "markdown",
   "metadata": {},
   "source": [
    "## Biblioteki"
   ]
  },
  {
   "cell_type": "code",
   "execution_count": null,
   "metadata": {},
   "outputs": [],
   "source": [
    "import pandas as pd\n",
    "import numpy as np\n",
    "import matplotlib.pyplot as plt\n",
    "import time\n",
    "import random\n",
    "from collections import deque\n",
    "from openpyxl import load_workbook"
   ]
  },
  {
   "cell_type": "markdown",
   "metadata": {},
   "source": [
    "## Pobór danych "
   ]
  },
  {
   "cell_type": "code",
   "execution_count": null,
   "metadata": {},
   "outputs": [],
   "source": [
    "# file_path1 = \"C:/Users/olgas/OneDrive/Documents/GitHub/TSP-problem/Dane_TSP_48.xlsx\"\n",
    "# file_path2 = \"C:/Users/olgas/OneDrive/Documents/GitHub/TSP-problem/Dane_TSP_76.xlsx\"\n",
    "# file_path3 = \"C:/Users/olgas/OneDrive/Documents/GitHub/TSP-problem/Dane_TSP_127.xlsx\"\n",
    "\n",
    "# file_path1 = \"C:/Users/Justyna/source/repos/Projekt_IO/TSP-problem/Dane_TSP_48.xlsx\"\n",
    "# file_path2 = \"C:/Users/Justyna/source/repos/Projekt_IO/TSP-problem/Dane_TSP_76.xlsx\"\n",
    "# file_path3 = \"C:/Users/Justyna/source/repos/Projekt_IO/TSP-problem/Dane_TSP_127.xlsx\"\n",
    "\n",
    "file_path1 = \"C:/Users/ameli/OneDrive/Documents/GitHub/TSP-problem/Dane_TSP_48.xlsx\"\n",
    "file_path2 = \"C:/Users/ameli/OneDrive/Documents/GitHub/TSP-problem/Dane_TSP_76.xlsx\"\n",
    "file_path3 = \"C:/Users/ameli/OneDrive/Documents/GitHub/TSP-problem/Dane_TSP_127.xlsx\"\n",
    "\n",
    "# file_path1 = \"C:/Users/wera6/Downloads/Dane_TSP_48.xlsx\"\n",
    "# file_path2 = \"C:/Users/wera6/Downloads/Dane_TSP_76.xlsx\"\n",
    "# file_path3 = \"C:/Users/wera6/Downloads/Dane_TSP_127.xlsx\"\n",
    "\n",
    "# index_col=0 zamienia pierwszą kolumne na indeksy wierszy \n",
    "# .to_numpy() zamienia ramkę danych na macierz\n",
    "data1 = pd.read_excel(file_path1, index_col=0).to_numpy()\n",
    "\n",
    "data2 = pd.read_excel(file_path2, index_col=0).to_numpy()\n",
    "\n",
    "data3 = pd.read_excel(file_path3, index_col=0).to_numpy()"
   ]
  },
  {
   "cell_type": "markdown",
   "metadata": {},
   "source": [
    "## Długość ścieżki"
   ]
  },
  {
   "cell_type": "code",
   "execution_count": null,
   "metadata": {},
   "outputs": [],
   "source": [
    "def calculate_path_cost(matrix, path):\n",
    "    return sum(matrix[path[i - 1]][path[i]] for i in range(len(path))) + matrix[path[-1]][path[0]]"
   ]
  },
  {
   "cell_type": "markdown",
   "metadata": {},
   "source": [
    "## Algorytm genetyczny (GA)"
   ]
  },
  {
   "cell_type": "code",
   "execution_count": null,
   "metadata": {},
   "outputs": [],
   "source": [
    "def crossover_order(parent1, parent2):\n",
    "    size = len(parent1)\n",
    "    start, end = sorted(random.sample(range(size), 2))\n",
    "    child = [None] * size\n",
    "    child[start:end] = parent1[start:end]\n",
    "\n",
    "    pointer = 0\n",
    "    for gene in parent2:\n",
    "        if gene not in child:\n",
    "            while child[pointer] is not None:\n",
    "                pointer += 1\n",
    "            child[pointer] = gene\n",
    "\n",
    "    return child\n",
    "\n",
    "def crossover_pmx(parent1, parent2):\n",
    "    size = len(parent1)\n",
    "    start, end = 2, 6\n",
    "    child = [None] * size\n",
    "\n",
    "    # Copy segment from parent1 to child\n",
    "    child[start:end] = parent1[start:end]\n",
    "\n",
    "    # Fill remaining positions from parent2\n",
    "    for i in range(size):\n",
    "        if child[i] is None:\n",
    "            gene = parent2[i]\n",
    "            while gene in child:\n",
    "                gene = parent2[parent1.index(gene)]\n",
    "            child[i] = gene\n",
    "\n",
    "    return child\n",
    "\n",
    "def selection_tournament(population, scores, k=3):\n",
    "    selected = random.sample(range(len(population)), k)\n",
    "    selected = sorted(selected, key=lambda x: scores[x])\n",
    "    return population[selected[0]]\n",
    "\n",
    "def selection_roulette(population, scores):\n",
    "    total_score = sum(scores)\n",
    "    \n",
    "    # Calculate probabilities\n",
    "    probabilities = [score / total_score for score in scores]\n",
    "    print(probabilities)\n",
    "    # Calculate cumulative probabilities\n",
    "    cumulative_probabilities = [sum(probabilities[:i+1]) for i in range(len(probabilities))]\n",
    "    print(cumulative_probabilities)\n",
    "    # Pick a random number between 0 and 1\n",
    "    pick = random.uniform(0, 1)\n",
    "    print(pick)\n",
    "    # Select the individual based on the random number\n",
    "    for i, cumulative_probability in enumerate(cumulative_probabilities):\n",
    "        if pick <= cumulative_probability:\n",
    "            return population[i]\n",
    "\n",
    "\n",
    "def mutate_swap(individual):\n",
    "    i, j = random.sample(range(len(individual)), 2)\n",
    "    individual[i], individual[j] = individual[j], individual[i]\n",
    "\n",
    "def mutate_inversion(individual):\n",
    "    i, j = sorted(random.sample(range(len(individual)), 2))\n",
    "    individual[i:j] = reversed(individual[i:j])\n",
    "\n",
    "def mutate_insertion(individual):\n",
    "    i, j = random.sample(range(len(individual)), 2)\n",
    "    gene = individual.pop(i)\n",
    "    individual.insert(j, gene)\n",
    "\n",
    "\n",
    "def genetic_algorithm(distance_matrix, population_size=10, generations=5000, crossover_rate=0.6, mutation_rate=0.15, selection_method='tournament', crossover_method='order', mutation_method='swap'):\n",
    "    start_time = time.time()\n",
    "\n",
    "    n = len(distance_matrix)\n",
    "    population = [random.sample(range(n), n) for _ in range(population_size)]\n",
    "    best_solution = None\n",
    "    best_cost = float('inf')\n",
    "    best_time = 0\n",
    "\n",
    "    for generation in range(1, generations + 1):\n",
    "        scores = [calculate_path_cost(distance_matrix, individual) for individual in population]\n",
    "        new_population = []\n",
    "\n",
    "        for _ in range(population_size // 2):\n",
    "            if selection_method == 'tournament':\n",
    "                parent1 = selection_tournament(population, scores)\n",
    "                parent2 = selection_tournament(population, scores)\n",
    "            elif selection_method == 'roulette':\n",
    "                parent1 = selection_roulette(population, scores)\n",
    "                parent2 = selection_roulette(population, scores)\n",
    "\n",
    "            if random.random() < crossover_rate:\n",
    "                if crossover_method == 'order':\n",
    "                    child1 = crossover_order(parent1, parent2)\n",
    "                    child2 = crossover_order(parent2, parent1)\n",
    "                elif crossover_method == 'pmx':\n",
    "                    child1 = crossover_pmx(parent1, parent2)\n",
    "                    child2 = crossover_pmx(parent2, parent1)\n",
    "            else:\n",
    "                child1, child2 = parent1[:], parent2[:]\n",
    "\n",
    "            if random.random() < mutation_rate:\n",
    "                if mutation_method == 'swap':\n",
    "                    mutate_swap(child1)\n",
    "                    mutate_swap(child2)\n",
    "                elif mutation_method == 'inversion':\n",
    "                    mutate_inversion(child1)\n",
    "                    mutate_inversion(child2)\n",
    "                elif mutation_method == 'insertion':\n",
    "                    mutate_insertion(child1)\n",
    "                    mutate_insertion(child2)\n",
    "\n",
    "            new_population.extend([child1, child2])\n",
    "\n",
    "        population = new_population\n",
    "\n",
    "        for individual in population:\n",
    "            cost = calculate_path_cost(distance_matrix, individual)\n",
    "            if cost < best_cost:\n",
    "                best_time = time.time() - start_time\n",
    "                best_solution = individual\n",
    "                best_cost = cost\n",
    "\n",
    "        if (generation % 100 == 0) or (generation == generations):\n",
    "            elapsed_time = time.time() - start_time  # Calculate elapsed time\n",
    "            print(f\"Iteration {generation}, Best Cost: {best_cost: .2f}, Elapsed Time: {elapsed_time:.2f} seconds\")\n",
    "\n",
    "    return best_solution, best_cost, best_time"
   ]
  },
  {
   "cell_type": "markdown",
   "metadata": {},
   "source": [
    "### Generowanie wyników"
   ]
  },
  {
   "cell_type": "markdown",
   "metadata": {},
   "source": [
    "Za podstawowe dane przyjmujemy:\n",
    "\n",
    "* population_size = 10 \n",
    "\n",
    "* generations = 5000\n",
    "\n",
    "* crossover_rate = 0.6\n",
    "\n",
    "* mutation_rate = 0.15\n",
    "\n",
    "* selection_method = `tournament`\n",
    "    \n",
    "* crossover_method = `order`\n",
    "    \n",
    "* mutation_method = `swap`"
   ]
  },
  {
   "cell_type": "code",
   "execution_count": null,
   "metadata": {},
   "outputs": [],
   "source": [
    "# Dane_TSP_48\n",
    "best_path_1, best_cost_1, best_time_1 = genetic_algorithm(data1)\n",
    "# Dane_TSP_76\n",
    "best_path_2, best_cost_2, best_time_2 = genetic_algorithm(data2)\n",
    "# Dane_TSP_127\n",
    "best_path_3, best_cost_3, best_time_3 = genetic_algorithm(data3)"
   ]
  },
  {
   "cell_type": "code",
   "execution_count": null,
   "metadata": {},
   "outputs": [],
   "source": [
    "W1 =  {\n",
    "    \"Długość ścieżki\": [best_cost_1, best_cost_2, best_cost_3],\n",
    "    \"Ścieżka\": [best_path_1, best_path_2, best_path_3],\n",
    "    \"Czas\": [best_time_1, best_time_2, best_time_3]\n",
    "}\n",
    "\n",
    "m1 = pd.DataFrame(data = W1)"
   ]
  },
  {
   "cell_type": "markdown",
   "metadata": {},
   "source": [
    "#### Badanie wpływu poszczególnych parametrów"
   ]
  },
  {
   "cell_type": "markdown",
   "metadata": {},
   "source": [
    "Badanie wpływu parametru *population_size*"
   ]
  },
  {
   "cell_type": "code",
   "execution_count": null,
   "metadata": {},
   "outputs": [],
   "source": [
    "def test_population_size(data, dataset_name, num_repeats=10):\n",
    "    results = []\n",
    "    population_sizes = [5, 10, 15, 20]\n",
    "    for population_size in population_sizes:\n",
    "        for _ in range(num_repeats):\n",
    "            best_path, best_cost, best_time = genetic_algorithm(data, population_size=population_size)\n",
    "            results.append({\"PARAMETR\": population_size, \"WYNIK_1\": best_cost, \"Ścieżka\": best_path, \"CZAS\": best_time})\n",
    "    df_results = pd.DataFrame(results)\n",
    "    df_results[\"DATASET\"] = dataset_name\n",
    "    return df_results\n",
    "\n",
    "# Dla 3 zestawów danych\n",
    "df_population_size_1 = test_population_size(data1, \"DATA1\")\n",
    "df_population_size_2 = test_population_size(data2, \"DATA2\")\n",
    "df_population_size_3 = test_population_size(data3, \"DATA3\")\n",
    "\n",
    "# Łączenie wyników w jeden DataFrame\n",
    "population_size = pd.concat([df_population_size_1, df_population_size_2, df_population_size_3], ignore_index=True)"
   ]
  },
  {
   "cell_type": "markdown",
   "metadata": {},
   "source": [
    "Badanie wpływu parametru *mutation_rate*"
   ]
  },
  {
   "cell_type": "code",
   "execution_count": null,
   "metadata": {},
   "outputs": [],
   "source": [
    "def test_mutation_rate(data, dataset_name, num_repeats=10):\n",
    "    results = []\n",
    "    mutation_rates = [0.01, 0.05, 0.1, 0.2]\n",
    "    for mutation_rate in mutation_rates:\n",
    "        for _ in range(num_repeats):\n",
    "            best_path, best_cost, best_time = genetic_algorithm(data, mutation_rate=mutation_rate)\n",
    "            results.append({\"PARAMETR\": mutation_rate, \"WYNIK_1\": best_cost, \"Ścieżka\": best_path, \"CZAS\": best_time})\n",
    "    df_results = pd.DataFrame(results)\n",
    "    df_results[\"DATASET\"] = dataset_name\n",
    "    return df_results\n",
    "\n",
    "# Dla 3 zestawów danych\n",
    "df_mutation_rate_1 = test_mutation_rate(data1, \"DATA1\")\n",
    "df_mutation_rate_2 = test_mutation_rate(data2, \"DATA2\")\n",
    "df_mutation_rate_3 = test_mutation_rate(data3, \"DATA3\")\n",
    "\n",
    "# Łączenie wyników w jeden DataFrame\n",
    "mutation_rate = pd.concat([df_mutation_rate_1, df_mutation_rate_2, df_mutation_rate_3], ignore_index=True)"
   ]
  },
  {
   "cell_type": "markdown",
   "metadata": {},
   "source": [
    "Badanie wpływu parametru *crossover_rate*"
   ]
  },
  {
   "cell_type": "code",
   "execution_count": null,
   "metadata": {},
   "outputs": [],
   "source": [
    "def test_crossover_rate(data, dataset_name, num_repeats=10):\n",
    "    results = []\n",
    "    crossover_rates = [0.6, 0.7, 0.8, 0.9]\n",
    "    for crossover_rate in crossover_rates:\n",
    "        for _ in range(num_repeats):\n",
    "            best_path, best_cost, best_time = genetic_algorithm(data, crossover_rate=crossover_rate)\n",
    "            results.append({\"PARAMETR\": crossover_rate, \"WYNIK_1\": best_cost, \"Ścieżka\": best_path, \"CZAS\": best_time})\n",
    "    df_results = pd.DataFrame(results)\n",
    "    df_results[\"DATASET\"] = dataset_name\n",
    "    return df_results\n",
    "\n",
    "# Dla 3 zestawów danych\n",
    "df_crossover_rate_1 = test_crossover_rate(data1, \"DATA1\")\n",
    "df_crossover_rate_2 = test_crossover_rate(data2, \"DATA2\")\n",
    "df_crossover_rate_3 = test_crossover_rate(data3, \"DATA3\")\n",
    "\n",
    "# Łączenie wyników w jeden DataFrame\n",
    "crossover_rate = pd.concat([df_crossover_rate_1, df_crossover_rate_2, df_crossover_rate_3], ignore_index=True)"
   ]
  },
  {
   "cell_type": "markdown",
   "metadata": {},
   "source": [
    "Badanie wpływu parametru *generations*"
   ]
  },
  {
   "cell_type": "code",
   "execution_count": null,
   "metadata": {},
   "outputs": [],
   "source": [
    "def test_generations(data, dataset_name, num_repeats=10):\n",
    "    results = []\n",
    "    generations_list = [5000, 7500, 10000, 15000]\n",
    "    for generations in generations_list:\n",
    "        for _ in range(num_repeats):\n",
    "            best_path, best_cost, best_time = genetic_algorithm(data, generations=generations)\n",
    "            results.append({\"PARAMETR\": generations, \"WYNIK_1\": best_cost, \"Ścieżka\": best_path, \"CZAS\": best_time})\n",
    "    df_results = pd.DataFrame(results)\n",
    "    df_results[\"DATASET\"] = dataset_name\n",
    "    return df_results\n",
    "\n",
    "# Dla 3 zestawów danych\n",
    "df_generations_1 = test_generations(data1, \"DATA1\")\n",
    "df_generations_2 = test_generations(data2, \"DATA2\")\n",
    "df_generations_3 = test_generations(data3, \"DATA3\")\n",
    "\n",
    "# Łączenie wyników w jeden DataFrame\n",
    "generations = pd.concat([df_generations_1, df_generations_2, df_generations_3], ignore_index=True)"
   ]
  },
  {
   "cell_type": "markdown",
   "metadata": {},
   "source": [
    "Badanie wpływu parametru *selection_method*"
   ]
  },
  {
   "cell_type": "code",
   "execution_count": null,
   "metadata": {},
   "outputs": [],
   "source": [
    "def test_selection_method(data, dataset_name, num_repeats=10):\n",
    "    results = []\n",
    "    selection_methods = ['roulette', 'tournament']\n",
    "    for selection_method in selection_methods:\n",
    "        for _ in range(num_repeats):\n",
    "            best_path, best_cost, best_time = genetic_algorithm(data, selection_method=selection_method)\n",
    "            results.append({\"PARAMETR\": selection_method, \"WYNIK_1\": best_cost, \"Ścieżka\": best_path, \"CZAS\": best_time})\n",
    "    df_results = pd.DataFrame(results)\n",
    "    df_results[\"DATASET\"] = dataset_name\n",
    "    return df_results\n",
    "\n",
    "# Dla 3 zestawów danych\n",
    "df_selection_method_1 = test_selection_method(data1, \"DATA1\")\n",
    "df_selection_method_2 = test_selection_method(data2, \"DATA2\")\n",
    "df_selection_method_3 = test_selection_method(data3, \"DATA3\")\n",
    "\n",
    "# Łączenie wyników w jeden DataFrame\n",
    "selection_method = pd.concat([df_selection_method_1, df_selection_method_2, df_selection_method_3], ignore_index=True)"
   ]
  },
  {
   "cell_type": "markdown",
   "metadata": {},
   "source": [
    "Badanie wpływu parametru *crossover_method*"
   ]
  },
  {
   "cell_type": "code",
   "execution_count": null,
   "metadata": {},
   "outputs": [],
   "source": [
    "def test_crossover_method(data, dataset_name, num_repeats=10):\n",
    "    results = []\n",
    "    crossover_methods = ['order', 'pmx']\n",
    "    for crossover_method in crossover_methods:\n",
    "        for _ in range(num_repeats):\n",
    "            best_path, best_cost, best_time = genetic_algorithm(data, crossover_method=crossover_method)\n",
    "            results.append({\"PARAMETR\": crossover_method, \"WYNIK_1\": best_cost, \"Ścieżka\": best_path, \"CZAS\": best_time})\n",
    "    df_results = pd.DataFrame(results)\n",
    "    df_results[\"DATASET\"] = dataset_name\n",
    "    return df_results\n",
    "\n",
    "# Dla 3 zestawów danych\n",
    "df_crossover_method_1 = test_crossover_method(data1, \"DATA1\")\n",
    "df_crossover_method_2 = test_crossover_method(data2, \"DATA2\")\n",
    "df_crossover_method_3 = test_crossover_method(data3, \"DATA3\")\n",
    "\n",
    "# Łączenie wyników w jeden DataFrame\n",
    "crossover_method = pd.concat([df_crossover_method_1, df_crossover_method_2, df_crossover_method_3], ignore_index=True)"
   ]
  },
  {
   "cell_type": "markdown",
   "metadata": {},
   "source": [
    "Badanie wpływu parametru *mutation_method*"
   ]
  },
  {
   "cell_type": "code",
   "execution_count": null,
   "metadata": {},
   "outputs": [],
   "source": [
    "def test_mutation_method(data, dataset_name, num_repeats=10):\n",
    "    results = []\n",
    "    mutation_methods = ['insertion', 'swap', 'inversion']\n",
    "    for mutation_method in mutation_methods:\n",
    "        for _ in range(num_repeats):\n",
    "            best_path, best_cost, best_time = genetic_algorithm(data, mutation_method=mutation_method)\n",
    "            results.append({\"PARAMETR\": mutation_method, \"WYNIK_1\": best_cost, \"Ścieżka\": best_path, \"CZAS\": best_time})\n",
    "    df_results = pd.DataFrame(results)\n",
    "    df_results[\"DATASET\"] = dataset_name\n",
    "    return df_results\n",
    "\n",
    "# Dla 3 zestawów danych\n",
    "df_mutation_method_1 = test_mutation_method(data1, \"DATA1\")\n",
    "df_mutation_method_2 = test_mutation_method(data2, \"DATA2\")\n",
    "df_mutation_method_3 = test_mutation_method(data3, \"DATA3\")\n",
    "\n",
    "# Łączenie wyników w jeden DataFrame\n",
    "mutation_method = pd.concat([df_mutation_method_1, df_mutation_method_2, df_mutation_method_3], ignore_index=True)"
   ]
  },
  {
   "cell_type": "markdown",
   "metadata": {},
   "source": [
    "Zapis do pliku Excel"
   ]
  },
  {
   "cell_type": "code",
   "execution_count": null,
   "metadata": {},
   "outputs": [],
   "source": [
    "# Zapis do pliku Excel\n",
    "resu = {\n",
    "    \"population_size\": population_size,\n",
    "    \"mutation_rate\": mutation_rate,\n",
    "    \"crossover_rate\": crossover_rate,\n",
    "    \"generations\": generations,\n",
    "    \"selection_method\": selection_method,\n",
    "    \"crossover_method\": crossover_method,\n",
    "    \"mutation_method\": mutation_method\n",
    "}\n",
    "\n",
    "file_name = \"GA.xlsx\"\n",
    "\n",
    "with pd.ExcelWriter(file_name) as writer:\n",
    "    for sheet_name, df in resu.items():\n",
    "        df.to_excel(writer, sheet_name=sheet_name, index=False)"
   ]
  }
 ],
 "metadata": {
  "kernelspec": {
   "display_name": "Python 3",
   "language": "python",
   "name": "python3"
  },
  "language_info": {
   "codemirror_mode": {
    "name": "ipython",
    "version": 3
   },
   "file_extension": ".py",
   "mimetype": "text/x-python",
   "name": "python",
   "nbconvert_exporter": "python",
   "pygments_lexer": "ipython3",
   "version": "3.11.9"
  }
 },
 "nbformat": 4,
 "nbformat_minor": 2
}
