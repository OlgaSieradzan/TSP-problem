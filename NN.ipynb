{
 "cells": [
  {
   "cell_type": "markdown",
   "metadata": {},
   "source": [
    "Biblioteki"
   ]
  },
  {
   "cell_type": "code",
   "execution_count": 1,
   "metadata": {},
   "outputs": [],
   "source": [
    "import pandas as pd\n",
    "import numpy as np\n",
    "import time\n",
    "from openpyxl import load_workbook"
   ]
  },
  {
   "cell_type": "markdown",
   "metadata": {},
   "source": [
    "Pobór danych"
   ]
  },
  {
   "cell_type": "code",
   "execution_count": null,
   "metadata": {},
   "outputs": [],
   "source": [
    "# file_path1 = \"C:/Users/olgas/OneDrive/Documents/GitHub/TSP-problem/Dane_TSP_48.xlsx\"\n",
    "# file_path2 = \"C:/Users/olgas/OneDrive/Documents/GitHub/TSP-problem/Dane_TSP_76.xlsx\"\n",
    "# file_path3 = \"C:/Users/olgas/OneDrive/Documents/GitHub/TSP-problem/Dane_TSP_127.xlsx\"\n",
    "\n",
    "# file_path1 = \"C:/Users/Justyna/source/repos/Projekt_IO/TSP-problem/Dane_TSP_48.xlsx\"\n",
    "# file_path2 = \"C:/Users/Justyna/source/repos/Projekt_IO/TSP-problem/Dane_TSP_76.xlsx\"\n",
    "# file_path3 = \"C:/Users/Justyna/source/repos/Projekt_IO/TSP-problem/Dane_TSP_127.xlsx\"\n",
    "\n",
    "file_path1 = \"C:/Users/ameli/OneDrive/Documents/GitHub/TSP-problem/Dane_TSP_48.xlsx\"\n",
    "file_path2 = \"C:/Users/ameli/OneDrive/Documents/GitHub/TSP-problem/Dane_TSP_76.xlsx\"\n",
    "file_path3 = \"C:/Users/ameli/OneDrive/Documents/GitHub/TSP-problem/Dane_TSP_127.xlsx\"\n",
    "\n",
    "# file_path1 = \"C:/Users/wera6/Downloads/Dane_TSP_48.xlsx\"\n",
    "# file_path2 = \"C:/Users/wera6/Downloads/Dane_TSP_76.xlsx\"\n",
    "# file_path3 = \"C:/Users/wera6/Downloads/Dane_TSP_127.xlsx\"\n",
    "\n",
    "# index_col=0 zamienia pierwszą kolumne na indeksy wierszy \n",
    "# .to_numpy() zamienia ramkę danych na macierz\n",
    "data1 = pd.read_excel(file_path1, index_col=0).to_numpy()\n",
    "\n",
    "data2 = pd.read_excel(file_path2, index_col=0).to_numpy()\n",
    "\n",
    "data3 = pd.read_excel(file_path3, index_col=0).to_numpy()"
   ]
  },
  {
   "cell_type": "markdown",
   "metadata": {},
   "source": [
    "Algorytm NN"
   ]
  },
  {
   "cell_type": "code",
   "execution_count": null,
   "metadata": {},
   "outputs": [],
   "source": [
    "## Klasyczny algorytm zachłanny \n",
    "def tsp_greedy(distance_matrix, start=1):\n",
    "    start_time = time.time()\n",
    "    n = len(distance_matrix)\n",
    "    visited = [False] * n\n",
    "    visited[start - 1] = True\n",
    "    path = [start]\n",
    "    total_cost = 0\n",
    "    current_city = start - 1\n",
    "\n",
    "    for _ in range(n - 1):\n",
    "        next_city = min(\n",
    "            (city for city in range(n) if not visited[city]),\n",
    "            key=lambda city: distance_matrix[current_city][city]\n",
    "        )\n",
    "        total_cost += distance_matrix[current_city][next_city]\n",
    "        visited[next_city] = True\n",
    "        path.append(next_city + 1)\n",
    "        current_city = next_city\n",
    "\n",
    "    total_cost += distance_matrix[current_city][start - 1]\n",
    "    path.append(start)\n",
    "\n",
    "    total_time = time.time() - start_time\n",
    "\n",
    "    return path, total_cost, total_time\n",
    "\n",
    "\n",
    "\n",
    "# Example usage\n",
    "if __name__ == \"__main__\":\n",
    "    distance_matrix = [\n",
    "        [0, 10, 15, 20],\n",
    "        [10, 0, 35, 25],\n",
    "        [15, 35, 0, 30],\n",
    "        [20, 25, 30, 0]\n",
    "    ]\n",
    "    start_city = 1\n",
    "    path, cost, duration = tsp_greedy(distance_matrix, start_city)\n",
    "    print(f\"Path: {path}\")\n",
    "    print(f\"Total cost: {cost}\")\n",
    "    print(f\"Computation time: {duration} seconds\")"
   ]
  },
  {
   "cell_type": "code",
   "execution_count": null,
   "metadata": {},
   "outputs": [],
   "source": [
    "## Iteracja algorytmem zachłannym po każdym możliwym punkcie startowym \n",
    "\n",
    "def tsp_greedy_all_starts(distance_matrix):\n",
    "    best_cost = float('inf')\n",
    "    best_path = None\n",
    "\n",
    "    for start in range(len(distance_matrix)):\n",
    "        path, cost , time= tsp_greedy(distance_matrix, start=start)\n",
    "        if cost < best_cost:\n",
    "            best_cost = cost\n",
    "            best_path = path\n",
    "            point = start\n",
    "\n",
    "    return best_cost, best_path, point, time"
   ]
  },
  {
   "cell_type": "markdown",
   "metadata": {},
   "source": [
    "Generowanie rozwiązań"
   ]
  },
  {
   "cell_type": "code",
   "execution_count": null,
   "metadata": {},
   "outputs": [],
   "source": [
    "# Klasyczny ( od punktu 1 )\n",
    "classic_p_1, classic_c_1 , classic_t_1= tsp_greedy(data1)\n",
    "classic_p_2, classic_c_2, classic_t_2 = tsp_greedy(data2)\n",
    "classic_p_3, classic_c_3, classic_t_3 = tsp_greedy(data3)"
   ]
  },
  {
   "cell_type": "code",
   "execution_count": null,
   "metadata": {},
   "outputs": [],
   "source": [
    "# Start we wszytskich punktach \n",
    "all_p_1, all_c_1, all_point_1, all_t_1 = tsp_greedy_all_starts(data1)\n",
    "all_p_2, all_c_2, all_point_2, all_t_2 = tsp_greedy_all_starts(data2)\n",
    "all_p_3, all_c_3, all_point_3, all_t_3 = tsp_greedy_all_starts(data3)"
   ]
  },
  {
   "cell_type": "markdown",
   "metadata": {},
   "source": [
    "Zapis do pliku"
   ]
  },
  {
   "cell_type": "code",
   "execution_count": null,
   "metadata": {},
   "outputs": [],
   "source": [
    "W1 =  {\n",
    "    \"Długość ścieżki\": [classic_c_1,classic_c_2,classic_c_3 ],\n",
    "    \"Ścieżka\": [classic_p_1,classic_p_2,classic_p_3 ],\n",
    "    \"Czas\": [classic_t_1,classic_t_2,classic_t_3 ]\n",
    "\n",
    "}\n",
    "\n",
    "p1 = pd.DataFrame(data = W1)\n",
    "p1.index = [\"Dane 1\",\"Dane 2\" , \"Dane 3\", ]\n",
    "\n",
    "W2 =  {\n",
    "    \"Długość ścieżki\": [all_p_1, all_p_2, all_p_3],\n",
    "    \"Punkt\": [all_point_1,all_point_2, all_point_3],\n",
    "    \"Czas\": [all_t_1,all_t_2,all_t_3 ]\n",
    "}\n",
    "\n",
    "p2 = pd.DataFrame(data = W2)\n",
    "p2.index = [\"Dane 1\",\"Dane 2\" , \"Dane 3\"]\n",
    "\n",
    "resu = {\n",
    "    \"Klasyka\": p1,\n",
    "    \"Wszystkie\":p2    \n",
    "}\n",
    "\n",
    "# Ścieżka do pliku Excel\n",
    "file_name = \"Zachłanny.xlsx\"\n",
    "\n",
    "# Zapisujemy dane do Excela\n",
    "with pd.ExcelWriter(file_name) as writer:\n",
    "    for sheet_name, df in resu.items():\n",
    "        df.to_excel(writer, sheet_name=sheet_name, index=False)\n",
    "\n",
    "print(f\"Wyniki zostały zapisane w pliku {file_name}\")"
   ]
  }
 ],
 "metadata": {
  "kernelspec": {
   "display_name": "Python 3",
   "language": "python",
   "name": "python3"
  },
  "language_info": {
   "codemirror_mode": {
    "name": "ipython",
    "version": 3
   },
   "file_extension": ".py",
   "mimetype": "text/x-python",
   "name": "python",
   "nbconvert_exporter": "python",
   "pygments_lexer": "ipython3",
   "version": "3.11.9"
  }
 },
 "nbformat": 4,
 "nbformat_minor": 2
}
