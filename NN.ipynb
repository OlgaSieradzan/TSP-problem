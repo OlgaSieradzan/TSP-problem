{
 "cells": [
  {
   "cell_type": "markdown",
   "metadata": {},
   "source": [
    "Biblioteki"
   ]
  },
  {
   "cell_type": "code",
   "execution_count": 28,
   "metadata": {},
   "outputs": [],
   "source": [
    "import pandas as pd\n",
    "import numpy as np\n",
    "import time\n",
    "from openpyxl import load_workbook"
   ]
  },
  {
   "cell_type": "markdown",
   "metadata": {},
   "source": [
    "Pobór danych"
   ]
  },
  {
   "cell_type": "code",
   "execution_count": 29,
   "metadata": {},
   "outputs": [],
   "source": [
    "# file_path1 = \"C:/Users/olgas/OneDrive/Documents/GitHub/TSP-problem/Dane_TSP_48.xlsx\"\n",
    "# file_path2 = \"C:/Users/olgas/OneDrive/Documents/GitHub/TSP-problem/Dane_TSP_76.xlsx\"\n",
    "# file_path3 = \"C:/Users/olgas/OneDrive/Documents/GitHub/TSP-problem/Dane_TSP_127.xlsx\"\n",
    "\n",
    "file_path1 = \"C:/Users/Justyna/source/repos/Projekt_IO/TSP-problem/Dane_TSP_48.xlsx\"\n",
    "file_path2 = \"C:/Users/Justyna/source/repos/Projekt_IO/TSP-problem/Dane_TSP_76.xlsx\"\n",
    "file_path3 = \"C:/Users/Justyna/source/repos/Projekt_IO/TSP-problem/Dane_TSP_127.xlsx\"\n",
    "\n",
    "# file_path1 = \"C:/Users/ameli/OneDrive/Documents/GitHub/TSP-problem/Dane_TSP_48.xlsx\"\n",
    "# file_path2 = \"C:/Users/ameli/OneDrive/Documents/GitHub/TSP-problem/Dane_TSP_76.xlsx\"\n",
    "# file_path3 = \"C:/Users/ameli/OneDrive/Documents/GitHub/TSP-problem/Dane_TSP_127.xlsx\"\n",
    "\n",
    "# file_path1 = \"C:/Users/wera6/Downloads/Dane_TSP_48.xlsx\"\n",
    "# file_path2 = \"C:/Users/wera6/Downloads/Dane_TSP_76.xlsx\"\n",
    "# file_path3 = \"C:/Users/wera6/Downloads/Dane_TSP_127.xlsx\"\n",
    "\n",
    "# index_col=0 zamienia pierwszą kolumne na indeksy wierszy \n",
    "# .to_numpy() zamienia ramkę danych na macierz\n",
    "data1 = pd.read_excel(file_path1, index_col=0).to_numpy()\n",
    "\n",
    "data2 = pd.read_excel(file_path2, index_col=0).to_numpy()\n",
    "\n",
    "data3 = pd.read_excel(file_path3, index_col=0).to_numpy()"
   ]
  },
  {
   "cell_type": "markdown",
   "metadata": {},
   "source": [
    "Algorytm NN"
   ]
  },
  {
   "cell_type": "code",
   "execution_count": 30,
   "metadata": {},
   "outputs": [
    {
     "name": "stdout",
     "output_type": "stream",
     "text": [
      "Path: [1, 2, 4, 3, 1]\n",
      "Total cost: 80\n",
      "Computation time: 0.0 seconds\n"
     ]
    }
   ],
   "source": [
    "## Klasyczny algorytm zachłanny \n",
    "def tsp_greedy(distance_matrix, start=1):\n",
    "    start_time = time.time()\n",
    "    n = len(distance_matrix)\n",
    "    visited = [False] * n\n",
    "    visited[start - 1] = True\n",
    "    path = [start]\n",
    "    total_cost = 0\n",
    "    current_city = start - 1\n",
    "\n",
    "    for _ in range(n - 1):\n",
    "        next_city = min(\n",
    "            (city for city in range(n) if not visited[city]),\n",
    "            key=lambda city: distance_matrix[current_city][city]\n",
    "        )\n",
    "        total_cost += distance_matrix[current_city][next_city]\n",
    "        visited[next_city] = True\n",
    "        path.append(next_city + 1)\n",
    "        current_city = next_city\n",
    "\n",
    "    total_cost += distance_matrix[current_city][start - 1]\n",
    "    path.append(start)\n",
    "\n",
    "    total_time = time.time() - start_time\n",
    "\n",
    "    return path, total_cost, total_time\n",
    "\n",
    "\n",
    "\n",
    "# Example usage\n",
    "if __name__ == \"__main__\":\n",
    "    distance_matrix = [\n",
    "        [0, 10, 15, 20],\n",
    "        [10, 0, 35, 25],\n",
    "        [15, 35, 0, 30],\n",
    "        [20, 25, 30, 0]\n",
    "    ]\n",
    "    start_city = 1\n",
    "    path, cost, duration = tsp_greedy(distance_matrix, start_city)\n",
    "    print(f\"Path: {path}\")\n",
    "    print(f\"Total cost: {cost}\")\n",
    "    print(f\"Computation time: {duration} seconds\")"
   ]
  },
  {
   "cell_type": "markdown",
   "metadata": {},
   "source": [
    "Generowanie wyników"
   ]
  },
  {
   "cell_type": "code",
   "execution_count": 33,
   "metadata": {},
   "outputs": [
    {
     "name": "stdout",
     "output_type": "stream",
     "text": [
      "Wyniki zostały zapisane w pliku NN.xlsx\n"
     ]
    }
   ],
   "source": [
    "result1 = []\n",
    "\n",
    "for start in range(1, len(data1) + 1):\n",
    "    path, cost, time_1 = tsp_greedy(data1, start=start)\n",
    "    result1.append({\"Punkt\": start, \"Wynik\": cost, \"Ścieżka\" : path, \"CZAS\": time_1})\n",
    "\n",
    "TSP_48 = pd.DataFrame(result1)\n",
    "\n",
    "result2 = []\n",
    "\n",
    "for start in range(1, len(data2) + 1):\n",
    "    path, cost, time_2 = tsp_greedy(data2, start=start)\n",
    "    result2.append({\"Punkt\": start, \"Wynik\": cost, \"Ścieżka\" : path, \"CZAS\": time_2})\n",
    "\n",
    "TSP_76 = pd.DataFrame(result2)\n",
    "\n",
    "result3 = []\n",
    "\n",
    "for start in range(1, len(data3) + 1):\n",
    "    path, cost, time_3 = tsp_greedy(data3, start=start)\n",
    "    result3.append({\"Punkt\": start, \"Wynik\": cost, \"Ścieżka\" : path, \"CZAS\": time_3})\n",
    "\n",
    "TSP_127 = pd.DataFrame(result3)\n",
    "\n",
    "result = {\n",
    "    \"TSP_48\": TSP_48,\n",
    "    \"TSP_76\": TSP_76,\n",
    "    \"TSP_127\": TSP_127   \n",
    "}\n",
    "\n",
    "# Ścieżka do pliku Excel\n",
    "file_name = \"NN.xlsx\"\n",
    "\n",
    "# Zapisujemy dane do Excela\n",
    "with pd.ExcelWriter(file_name) as writer:\n",
    "    for sheet_name, df in result.items():\n",
    "        df.to_excel(writer, sheet_name=sheet_name, index=False)\n",
    "\n",
    "print(f\"Wyniki zostały zapisane w pliku {file_name}\")\n"
   ]
  }
 ],
 "metadata": {
  "kernelspec": {
   "display_name": "base",
   "language": "python",
   "name": "python3"
  },
  "language_info": {
   "codemirror_mode": {
    "name": "ipython",
    "version": 3
   },
   "file_extension": ".py",
   "mimetype": "text/x-python",
   "name": "python",
   "nbconvert_exporter": "python",
   "pygments_lexer": "ipython3",
   "version": "3.10.9"
  }
 },
 "nbformat": 4,
 "nbformat_minor": 2
}
