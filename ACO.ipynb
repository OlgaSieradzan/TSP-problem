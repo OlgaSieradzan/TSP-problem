{
 "cells": [
  {
   "cell_type": "markdown",
   "metadata": {},
   "source": [
    "# Algorytm mrówkowy (ACO)"
   ]
  },
  {
   "cell_type": "markdown",
   "metadata": {},
   "source": [
    "## Biblioteki"
   ]
  },
  {
   "cell_type": "code",
   "execution_count": 1,
   "metadata": {},
   "outputs": [],
   "source": [
    "import pandas as pd\n",
    "import numpy as np\n",
    "import matplotlib.pyplot as plt\n",
    "import time\n",
    "import random\n",
    "from openpyxl import load_workbook"
   ]
  },
  {
   "cell_type": "markdown",
   "metadata": {},
   "source": [
    "## Pobór danych"
   ]
  },
  {
   "cell_type": "code",
   "execution_count": 2,
   "metadata": {},
   "outputs": [],
   "source": [
    "file_path1 = \"./Dane_TSP_48.xlsx\"\n",
    "file_path2 = \"./Dane_TSP_76.xlsx\"\n",
    "file_path3 = \"./Dane_TSP_127.xlsx\"\n",
    "\n",
    "# index_col=0 zamienia pierwszą kolumne na indeksy wierszy \n",
    "# .to_numpy() zamienia ramkę danych na macierz\n",
    "data1 = pd.read_excel(file_path1, index_col=0).to_numpy()\n",
    "data2 = pd.read_excel(file_path2, index_col=0).to_numpy()\n",
    "data3 = pd.read_excel(file_path3, index_col=0).to_numpy()"
   ]
  },
  {
   "cell_type": "markdown",
   "metadata": {},
   "source": [
    "## Długość ścieżki"
   ]
  },
  {
   "cell_type": "code",
   "execution_count": 3,
   "metadata": {},
   "outputs": [],
   "source": [
    "def calculate_path_cost(matrix, path):\n",
    "    return sum(matrix[path[i - 1]][path[i]] for i in range(len(path))) + matrix[path[-1]][path[0]]"
   ]
  },
  {
   "cell_type": "markdown",
   "metadata": {},
   "source": [
    "## Implementacja algorytmu"
   ]
  },
  {
   "cell_type": "code",
   "execution_count": 4,
   "metadata": {},
   "outputs": [],
   "source": [
    "def ant_colony_optimization(dist_matrix, num_ants=10, num_iterations=100, alpha=1, beta=2, rho=0.5):\n",
    "    start_time = time.time()\n",
    "    num_cities = len(dist_matrix)\n",
    "    pheromone = np.ones((num_cities, num_cities)) / num_cities  # Inicjalizacja feromonów\n",
    "    best_path = None\n",
    "    best_path_length = float('inf')\n",
    "\n",
    "    def select_next_city(visited, current_city):\n",
    "        probabilities = []\n",
    "        for next_city in range(num_cities):\n",
    "            if next_city not in visited:\n",
    "                tau = pheromone[current_city][next_city] ** alpha\n",
    "                eta = (1 / dist_matrix[current_city][next_city]) ** beta\n",
    "                # Dodanie prawdopodobieństwa wyboru miasta\n",
    "                probabilities.append(tau * eta)\n",
    "            else:\n",
    "                # Jeśli miasto zostało odwiedzone, prawdopodobieństwo wynosi 0\n",
    "                probabilities.append(0)\n",
    "        total = sum(probabilities)\n",
    "        probabilities = [p / total for p in probabilities]\n",
    "        return random.choices(range(num_cities), probabilities)[0]\n",
    "\n",
    "    for iteration in range(num_iterations):\n",
    "        all_paths = [] # Lista ścieżek dla wszystkich mrówek w danej iteracji\n",
    "        all_path_lengths = [] # Lista długości tych ścieżek\n",
    "        \n",
    "        for ant in range(num_ants):\n",
    "            path = [] # Ścieżka odwiedzanych miast przez mrówkę\n",
    "            visited = set()  # Zbiór odwiedzonych miast\n",
    "            current_city = random.randint(0, num_cities - 1) # Losowy startowy wierzchołek\n",
    "            path.append(current_city)\n",
    "            visited.add(current_city)\n",
    "            \n",
    "            # Budowanie ścieżki - dopóki wszystkie miasta nie zostaną odwiedzone\n",
    "            while len(visited) < num_cities:\n",
    "                next_city = select_next_city(visited, current_city)\n",
    "                path.append(next_city)\n",
    "                visited.add(next_city)\n",
    "                current_city = next_city\n",
    "\n",
    "            # Obliczenie długości ścieżki mrówki\n",
    "            path_length = calculate_path_cost(dist_matrix, path)\n",
    "            all_paths.append(path)\n",
    "            all_path_lengths.append(path_length)\n",
    "\n",
    "             # Aktualizacja najlepszej ścieżki\n",
    "            if path_length < best_path_length:\n",
    "                best_path_length = path_length\n",
    "                best_path = path\n",
    "\n",
    "        # Aktualizacja feromonów\n",
    "        pheromone *= (1 - rho)  # Parowanie feromonów (redukcja wartości)\n",
    "        for path, length in zip(all_paths, all_path_lengths):\n",
    "            for i in range(len(path)):\n",
    "                pheromone[path[i]][path[(i + 1) % num_cities]] += 1 / length\n",
    "\n",
    "\n",
    "    \n",
    "    total_time = time.time() - start_time\n",
    "\n",
    "    best_path = [city + 1 for city in best_path]\n",
    "\n",
    "\n",
    "    return best_path, best_path_length, total_time"
   ]
  },
  {
   "cell_type": "markdown",
   "metadata": {},
   "source": [
    "## Generowanie wyników"
   ]
  },
  {
   "cell_type": "markdown",
   "metadata": {},
   "source": [
    "Poniżej znajduje się zestawienie wyników z uwzględnieniem wpływu na wyniki różnych wartości parametrów algorytmu"
   ]
  },
  {
   "cell_type": "markdown",
   "metadata": {},
   "source": [
    "Za podstawowe dane przyjmujemy:\n",
    "\n",
    "* num_ants = 10\n",
    "\n",
    "* num_iterations = 100\n",
    "\n",
    "* alpha = 1\n",
    "\n",
    "* beta = 2\n",
    "\n",
    "* rho = 0.5\n",
    "\n",
    "Następnie badane są wpływy zmian wartości poszczególnych parametrów "
   ]
  },
  {
   "cell_type": "code",
   "execution_count": 5,
   "metadata": {},
   "outputs": [],
   "source": [
    "def run_multiple_tests(data, dataset_name, num_tests=10):\n",
    "    results = []\n",
    "    for _ in range(num_tests):\n",
    "        best_path, best_cost, best_time = ant_colony_optimization(data)\n",
    "        results.append({\n",
    "            \"WYNIK\": best_cost,\n",
    "            \"ŚCIEŻKA\": best_path,\n",
    "            \"CZAS\": best_time,\n",
    "            \"DATASET\": dataset_name\n",
    "        })\n",
    "    return results"
   ]
  },
  {
   "cell_type": "code",
   "execution_count": 6,
   "metadata": {},
   "outputs": [],
   "source": [
    "all_results = []\n",
    "all_results.extend(run_multiple_tests(data1, \"DATA1\"))\n",
    "all_results.extend(run_multiple_tests(data2, \"DATA2\"))\n",
    "all_results.extend(run_multiple_tests(data3, \"DATA3\"))\n",
    "\n",
    "m1 = pd.DataFrame(all_results)"
   ]
  },
  {
   "cell_type": "markdown",
   "metadata": {},
   "source": [
    "### Badanie wpływu zmian wartości parametru `num_ants`"
   ]
  },
  {
   "cell_type": "code",
   "execution_count": null,
   "metadata": {},
   "outputs": [],
   "source": [
    "def test_ants_effect(data, dataset_name, num_repeats = 10):\n",
    "    results = []\n",
    "    num_cities = len(data)\n",
    "    for num_ants in range(max(1, int(0.5 * num_cities)), int(2 * num_cities) + 1, 20):\n",
    "        for _ in range(num_repeats):\n",
    "            best_path, best_cost, best_time = ant_colony_optimization(data, num_ants=num_ants, num_iterations=100, alpha=1, beta=2, rho=0.5)\n",
    "            results.append({\"PARAMETR\": num_ants, \"WYNIK_1\": best_cost, \"ŚCIEŻKA\": best_path, \"CZAS\": best_time})\n",
    "\n",
    "    # Konwersja wyników na DataFrame\n",
    "    df_results = pd.DataFrame(results)\n",
    "    df_results[\"DATASET\"] = dataset_name\n",
    "    return df_results\n",
    "\n",
    "# Testy dla data1, data2, data3\n",
    "df1 = test_ants_effect(data1, \"DATA1\")\n",
    "df2 = test_ants_effect(data2, \"DATA2\")\n",
    "df3 = test_ants_effect(data3, \"DATA3\")\n",
    "\n",
    "# Łączenie wyników w jeden DataFrame\n",
    "ants = pd.concat([df1, df2, df3], ignore_index=True)"
   ]
  },
  {
   "cell_type": "markdown",
   "metadata": {},
   "source": [
    "### Badanie wpływu zmian wartości parametru `num_iterations`"
   ]
  },
  {
   "cell_type": "code",
   "execution_count": null,
   "metadata": {},
   "outputs": [],
   "source": [
    "def test_iteration(data, dataset_name, num_repeats = 10):\n",
    "    results = []\n",
    "   \n",
    "    for num_iterations in range(50, 500, 50):\n",
    "        for _ in range(num_repeats):\n",
    "            best_path, best_cost, best_time = ant_colony_optimization(data, num_ants=10, num_iterations=num_iterations, alpha=1, beta=2, rho=0.5)\n",
    "            results.append({\"PARAMETR\": num_iterations, \"WYNIK_1\": best_cost, \"ŚCIEŻKA\": best_path, \"CZAS\": best_time})\n",
    "\n",
    "    # Konwersja wyników na DataFrame\n",
    "    df_results = pd.DataFrame(results)\n",
    "    df_results[\"DATASET\"] = dataset_name\n",
    "    return df_results\n",
    "\n",
    "# Testy dla data1, data2, data3\n",
    "df1 = test_iteration(data1, \"DATA1\")\n",
    "df2 = test_iteration(data2, \"DATA2\")\n",
    "df3 = test_iteration(data3, \"DATA3\")\n",
    "\n",
    "# Łączenie wyników w jeden DataFrame\n",
    "it = pd.concat([df1, df2, df3], ignore_index=True)"
   ]
  },
  {
   "cell_type": "markdown",
   "metadata": {},
   "source": [
    "### Badanie wpływu zmian wartości parametru `alpha`"
   ]
  },
  {
   "cell_type": "code",
   "execution_count": null,
   "metadata": {},
   "outputs": [],
   "source": [
    "def test_alpha(data, dataset_name, num_repeats= 10):\n",
    "    results = []\n",
    "   \n",
    "    for alpha in range(0, 5, 1):\n",
    "        for _ in range(num_repeats):\n",
    "            best_path, best_cost, best_time = ant_colony_optimization(data, num_ants=10, num_iterations=100, alpha=alpha, beta=2, rho=0.5)\n",
    "            results.append({\"PARAMETR\": alpha, \"WYNIK_1\": best_cost, \"ŚCIEŻKA\": best_path, \"CZAS\": best_time})\n",
    "\n",
    "    # Konwersja wyników na DataFrame\n",
    "    df_results = pd.DataFrame(results)\n",
    "    df_results[\"DATASET\"] = dataset_name\n",
    "    return df_results\n",
    "\n",
    "# Testy dla data1, data2, data3\n",
    "df1 = test_alpha(data1, \"DATA1\")\n",
    "df2 = test_alpha(data2, \"DATA2\")\n",
    "df3 = test_alpha(data3, \"DATA3\")\n",
    "\n",
    "# Łączenie wyników w jeden DataFrame\n",
    "al = pd.concat([df1, df2, df3], ignore_index=True)"
   ]
  },
  {
   "cell_type": "markdown",
   "metadata": {},
   "source": [
    "### Badanie wpływu zmian wartości parametru `beta`"
   ]
  },
  {
   "cell_type": "code",
   "execution_count": null,
   "metadata": {},
   "outputs": [],
   "source": [
    "def test_beta(data, dataset_name, num_repeats=10):\n",
    "    results = []\n",
    "   \n",
    "    for beta in range(1, 10, 1):\n",
    "        for _ in range(num_repeats):\n",
    "            best_path, best_cost, best_time = ant_colony_optimization(data, num_ants=10, num_iterations=100, alpha=1, beta=beta, rho=0.5)\n",
    "            results.append({\"PARAMETR\": beta, \"WYNIK_1\": best_cost, \"ŚCIEŻKA\": best_path, \"CZAS\": best_time})\n",
    "\n",
    "    # Konwersja wyników na DataFrame\n",
    "    df_results = pd.DataFrame(results)\n",
    "    df_results[\"DATASET\"] = dataset_name\n",
    "    return df_results\n",
    "\n",
    "# Testy dla data1, data2, data3\n",
    "df1 = test_beta(data1, \"DATA1\")\n",
    "df2 = test_beta(data2, \"DATA2\")\n",
    "df3 = test_beta(data3, \"DATA3\")\n",
    "\n",
    "# Łączenie wyników w jeden DataFrame\n",
    "bet = pd.concat([df1, df2, df3], ignore_index=True)"
   ]
  },
  {
   "cell_type": "markdown",
   "metadata": {},
   "source": [
    "### Badanie wpływu zmian wartości parametru `rho`"
   ]
  },
  {
   "cell_type": "code",
   "execution_count": null,
   "metadata": {},
   "outputs": [],
   "source": [
    "def test_rho(data, dataset_name, num_repeats=10):\n",
    "    results = []\n",
    "   \n",
    "    for rho in np.linspace(0.1, 0.9, 9):\n",
    "        for _ in range(num_repeats):\n",
    "            best_path, best_cost, best_time = ant_colony_optimization(data, num_ants=10, num_iterations=100, alpha=1, beta=2, rho=rho)\n",
    "            results.append({\"PARAMETR\": rho, \"WYNIK_1\": best_cost, \"ŚCIEŻKA\": best_path, \"CZAS\": best_time})\n",
    "\n",
    "    # Konwersja wyników na DataFrame\n",
    "    df_results = pd.DataFrame(results)\n",
    "    df_results[\"DATASET\"] = dataset_name\n",
    "    return df_results\n",
    "\n",
    "# Testy dla data1, data2, data3\n",
    "df1 =test_rho(data1, \"DATA1\")\n",
    "df2 =test_rho(data2, \"DATA2\")\n",
    "df3 = test_rho(data3, \"DATA3\")\n",
    "\n",
    "# Łączenie wyników w jeden DataFrame\n",
    "rho = pd.concat([df1, df2, df3], ignore_index=True)"
   ]
  },
  {
   "cell_type": "markdown",
   "metadata": {},
   "source": [
    "Zapis do pliku Excel"
   ]
  },
  {
   "cell_type": "code",
   "execution_count": null,
   "metadata": {},
   "outputs": [],
   "source": [
    "result = {\n",
    "    \"Klasyk_wyniki\": m1,\n",
    "    \"num_ants\": ants,\n",
    "    \"max_it\":  it,\n",
    "    \"alpha\": al,\n",
    "    \"beta\": bet,\n",
    "    \"rho\": rho\n",
    "}\n",
    "\n",
    "# Ścieżka do pliku Excel\n",
    "file_name = \"ACO.xlsx\"\n",
    "\n",
    "# Zapisujemy dane do Excela\n",
    "with pd.ExcelWriter(file_name) as writer:\n",
    "    for sheet_name, df in result.items():\n",
    "        df.to_excel(writer, sheet_name=sheet_name, index=False)\n",
    "\n",
    "print(f\"Wyniki zostały zapisane w pliku {file_name}\")"
   ]
  }
 ],
 "metadata": {
  "kernelspec": {
   "display_name": "myenv",
   "language": "python",
   "name": "python3"
  },
  "language_info": {
   "codemirror_mode": {
    "name": "ipython",
    "version": 3
   },
   "file_extension": ".py",
   "mimetype": "text/x-python",
   "name": "python",
   "nbconvert_exporter": "python",
   "pygments_lexer": "ipython3",
   "version": "3.9.19"
  }
 },
 "nbformat": 4,
 "nbformat_minor": 2
}
