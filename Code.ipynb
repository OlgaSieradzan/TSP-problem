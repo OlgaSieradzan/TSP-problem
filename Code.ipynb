{
 "cells": [
  {
   "cell_type": "markdown",
   "metadata": {},
   "source": [
    "# Analiza wykorzystania różnych heurystyk przy rozwiązaniu problemu komiwojażera"
   ]
  },
  {
   "cell_type": "markdown",
   "metadata": {},
   "source": [
    "Grupa: Amelia Madej, Justyna Sarkowicz, Olga Sieradzan, Weronika Duda i Aleksandra Węgrzyn"
   ]
  },
  {
   "cell_type": "markdown",
   "metadata": {},
   "source": [
    "## Biblioteki"
   ]
  },
  {
   "cell_type": "code",
   "execution_count": 1,
   "metadata": {},
   "outputs": [],
   "source": [
    "\n",
    "import pandas as pd\n",
    "import numpy as np\n",
    "import matplotlib.pyplot as plt\n",
    "import time\n",
    "import itertools\n",
    "import random\n",
    "import math\n",
    " "
   ]
  },
  {
   "cell_type": "markdown",
   "metadata": {},
   "source": [
    "## Pobór danych "
   ]
  },
  {
   "cell_type": "code",
   "execution_count": 2,
   "metadata": {},
   "outputs": [],
   "source": [
    "file_path1 = \"C:/Users/olgas/OneDrive/Documents/GitHub/TSP-problem/Dane_TSP_48.xlsx\"\n",
    "file_path2 = \"C:/Users/olgas/OneDrive/Documents/GitHub/TSP-problem/Dane_TSP_76.xlsx\"\n",
    "file_path3 = \"C:/Users/olgas/OneDrive/Documents/GitHub/TSP-problem/Dane_TSP_127.xlsx\"\n",
    "\n",
    "# file_path1 = \"C:/Users/Justyna/source/repos/Projekt_IO/TSP-problem/Dane_TSP_48.xlsx\"\n",
    "# file_path2 = \"C:/Users/Justyna/source/repos/Projekt_IO/TSP-problem/Dane_TSP_76.xlsx\"\n",
    "# file_path3 = \"C:/Users/Justyna/source/repos/Projekt_IO/TSP-problem/Dane_TSP_127.xlsx\"\n",
    "\n",
    "# index_col=0 zamienia pierwszą kolumne na indeksy wierszy \n",
    "# .to_numpy() zamienia ramkę danych na macierz\n",
    "data1 = pd.read_excel(file_path1, index_col=0).to_numpy()\n",
    "\n",
    "data2 = pd.read_excel(file_path2, index_col=0).to_numpy()\n",
    "\n",
    "data3 = pd.read_excel(file_path3, index_col=0).to_numpy()"
   ]
  },
  {
   "cell_type": "markdown",
   "metadata": {},
   "source": [
    "## Rodzaje ruchów"
   ]
  },
  {
   "cell_type": "code",
   "execution_count": 3,
   "metadata": {},
   "outputs": [],
   "source": [
    "# Wybieramy dwie pozycje i zmieniamy je miejscami \n",
    "def swap_move(path):  \n",
    "    for i, j in itertools.combinations(range(len(path)), 2):\n",
    "        new_path = path[:]\n",
    "        new_path[i], new_path[j] = new_path[j], new_path[i]\n",
    "        yield new_path\n",
    " \n",
    "\n",
    "# Odwracamy segment pomiędzy wybranymi wartościami czyli \n",
    "# [a b c d e] -> [a d c b e]\n",
    "def two_opt_move(path):\n",
    "    for i, j in itertools.combinations(range(len(path)), 2):\n",
    "        new_path = path[:i] + path[i:j][::-1] + path[j:]\n",
    "        yield new_path\n",
    " \n",
    "# Wybieramy jeden wierzchołek w ścierzce, usuwamy z jednego miejsca i przerzucamy w inne miejsce\n",
    "def insertion_move(path):\n",
    "    n = len(path)\n",
    "    for i in range(n):\n",
    "        for j in range(n):\n",
    "            if i != j:\n",
    "                new_path = path[:]\n",
    "                node = new_path.pop(i)\n",
    "                new_path.insert(j, node)\n",
    "                yield new_path\n"
   ]
  },
  {
   "cell_type": "markdown",
   "metadata": {},
   "source": [
    "## Długość ścierzki"
   ]
  },
  {
   "cell_type": "code",
   "execution_count": 4,
   "metadata": {},
   "outputs": [],
   "source": [
    "def calculate_path_cost(matrix, path):\n",
    "    return sum(matrix[path[i - 1]][path[i]] for i in range(len(path))) + matrix[path[-1]][path[0]]\n"
   ]
  },
  {
   "cell_type": "markdown",
   "metadata": {},
   "source": [
    "## Algorytm najbliższego sąsiada NN"
   ]
  },
  {
   "cell_type": "code",
   "execution_count": 5,
   "metadata": {},
   "outputs": [],
   "source": [
    "\n",
    "# Klasyczny algorytm NN\n",
    "\n",
    "def nearest_neighbor(matrix, start_point=0, max_time=60, random_restart=1):\n",
    "    n = len(matrix)\n",
    "    best_path, best_cost = None, float('inf')\n",
    "    start_time = time.time()\n",
    "\n",
    "    for _ in range(random_restart):\n",
    "        # Wybór losowego punktu startowego przy wielu restartach\n",
    "        current_start_point = np.random.randint(0, n) if random_restart > 1 else start_point\n",
    "\n",
    "        # Przygotowanie zmiennych dla algorytmu NN\n",
    "        visited = [False] * n\n",
    "        path = [current_start_point]\n",
    "        visited[current_start_point] = True\n",
    "\n",
    "        # Generowanie ścieżki metodą najbliższego sąsiada\n",
    "        while len(path) < n:\n",
    "            last = path[-1]\n",
    "            next_city = np.argmin([\n",
    "                matrix[last][j] if not visited[j] else np.inf\n",
    "                for j in range(n)\n",
    "            ])\n",
    "            path.append(next_city)\n",
    "            visited[next_city] = True\n",
    "\n",
    "        # Oblicz koszt uzyskanej ścieżki\n",
    "        cost = calculate_path_cost(matrix, path)\n",
    "\n",
    "        # Sprawdź, czy znaleziono lepsze rozwiązanie\n",
    "        if cost < best_cost:\n",
    "            best_path, best_cost = path, cost\n",
    "\n",
    "        # Przerwij, jeśli przekroczono limit czasu\n",
    "        if time.time() - start_time > max_time:\n",
    "            break\n",
    "\n",
    "    return best_path, best_cost\n",
    "\n",
    "\n",
    "\n",
    "\n",
    "# Policzenie łącznej odległości między startem a końcem                \n",
    "\n",
    "\n",
    "\n",
    "# Optymalizacja rozwiązania \n",
    "# Argumenty: matrix odległości / dotychczasowe rozwiązanie / ['swap', '2-opt', 'insertion'] / maksymalna liczba iteracji\n",
    "def local_search(matrix, initial_path, move_generators, max_iterations):\n",
    "    best_path = initial_path\n",
    "    best_cost = calculate_path_cost(matrix, best_path)\n",
    " \n",
    "    iteration = 0\n",
    "    improved = True\n",
    "    while improved and iteration < max_iterations:\n",
    "        improved = False\n",
    "        for move_generator in move_generators:\n",
    "            for new_path in move_generator(best_path):\n",
    "                new_cost = calculate_path_cost(matrix, new_path)\n",
    "                if new_cost < best_cost:\n",
    "                    best_path, best_cost = new_path, new_cost\n",
    "                    improved = True\n",
    "                    break  \n",
    "            if improved:\n",
    "                break\n",
    "        iteration += 1\n",
    " \n",
    "    return best_path, best_cost\n",
    "\n",
    "# Ostateczna funkcja \n",
    "\n",
    "#  Parametry:\n",
    "# file_path (str): Ścieżka do pliku Excel zawierającego macierz odległości.\n",
    "# start_point (int): Miasto początkowe dla algorytmu.\n",
    "# max_time (int): Maksymalny czas dozwolony na obliczenia (w sekundach).\n",
    "# move_types (list): Lista typów ruchów dla wyszukiwania lokalnego (np. ['swap', '2-opt', 'insertion']).\n",
    "# random_restart (int): Liczba losowych restartów w celu wyjścia poza lokalne minima, \n",
    "#                       przy każdej iteracji wybieramy nowy start_point a nie cały czas ten sam co ustawiony, jeżeli  random_restart > 1\n",
    "# max_iterations (int): Maksymalna liczba iteracji dla wyszukiwania lokalnego.\n",
    " \n",
    "# Zwraca:\n",
    "# best_path (list): Znaleziono optymalną ścieżkę.\n",
    "# best_cost (float): Długość optymalnej ścieżki.\n",
    "\n",
    "# Jeżeli move_types=None to używamy wszytskich sposobów do optymalizacji\n",
    "\n",
    "def solve_tsp(matrix, start_point=0, max_time=60, move_types=None, random_restart=1, max_iterations=100):\n",
    "   \n",
    "    \n",
    "    move_generators = []\n",
    "    if move_types is None:\n",
    "        move_types = ['swap', '2-opt', 'insertion']  \n",
    "    if 'swap' in move_types:\n",
    "        move_generators.append(swap_move)\n",
    "    if '2-opt' in move_types:\n",
    "        move_generators.append(two_opt_move)\n",
    "    if 'insertion' in move_types:\n",
    "        move_generators.append(insertion_move)\n",
    " \n",
    "    best_path, best_cost = None, float('inf')\n",
    "    start_time = time.time()\n",
    "\n",
    "    # Iteracje z różnym startem\n",
    "    for _ in range(random_restart):\n",
    "        # wybranie punktu startującego \n",
    "        initial_start_point = np.random.randint(0, len(matrix)) if random_restart > 1 else start_point\n",
    " \n",
    "        # Początkowo generujemy rożwiązanie za pomocą klasycznego NN\n",
    "        initial_path, initial_cost = nearest_neighbor(matrix, start_point=initial_start_point)\n",
    " \n",
    "        #print(f\"Initial NN path (start {initial_start_point}): {initial_path} with cost: {initial_cost}\")\n",
    " \n",
    "        # Potem przeprowadzamy optymalizacje z pomocą innych parametrów\n",
    "        current_path, current_cost = local_search(matrix, initial_path, move_generators, max_iterations)\n",
    " \n",
    "        # Aktualizacja najlepszego wyniku\n",
    "        if current_cost < best_cost:\n",
    "            best_path, best_cost = current_path, current_cost\n",
    "        \n",
    " \n",
    "        # Zabezpieczenie przed przekroczeniem czasu \n",
    "        if time.time() - start_time > max_time:\n",
    "            break\n",
    " \n",
    "    return best_path, best_cost\n",
    " \n",
    "\n",
    "# przykład użycia \n",
    "best_path, best_cost = solve_tsp(\n",
    "    data1, \n",
    "    start_point=0, \n",
    "    max_time=60, \n",
    "    move_types='swap', \n",
    "    random_restart=1, \n",
    "    max_iterations=150\n",
    ")\n"
   ]
  },
  {
   "cell_type": "markdown",
   "metadata": {},
   "source": [
    "### Generowanie rozwiązań "
   ]
  },
  {
   "cell_type": "markdown",
   "metadata": {},
   "source": [
    "Za podstawowe dane przyjmujemy :\n",
    "\n",
    "* start_ point = 0 \n",
    "\n",
    "* max_time = 500\n",
    "\n",
    "* random_restart = 1 \n",
    "\n",
    "* max_itaration = 150 \n",
    "\n",
    "Nastepnie badane są wpływy poszczególnych parametrów na każdą metodę "
   ]
  },
  {
   "cell_type": "code",
   "execution_count": 6,
   "metadata": {},
   "outputs": [],
   "source": [
    "# Klasyczna metoda NN \n",
    "classic_p_1, classic_c_1 = nearest_neighbor(data1, start_point=0 , max_time=500, random_restart=1)\n"
   ]
  },
  {
   "cell_type": "code",
   "execution_count": 7,
   "metadata": {},
   "outputs": [],
   "source": [
    "classic_p_2, classic_c_2 = nearest_neighbor(data2, start_point=0, max_time=500, random_restart=1)\n"
   ]
  },
  {
   "cell_type": "code",
   "execution_count": 8,
   "metadata": {},
   "outputs": [],
   "source": [
    "classic_p_3, classic_c_3 = nearest_neighbor(data3, start_point=0, max_time=500, random_restart=1)"
   ]
  },
  {
   "cell_type": "code",
   "execution_count": 9,
   "metadata": {},
   "outputs": [],
   "source": [
    "# Move type = 'swap'\n",
    "\n",
    "swap_p_1, swap_c_1 = solve_tsp(\n",
    "    data1, \n",
    "    start_point=0, \n",
    "    max_time=500, \n",
    "    move_types='swap', \n",
    "    random_restart=1, \n",
    "    max_iterations=150\n",
    ")\n",
    "\n"
   ]
  },
  {
   "cell_type": "code",
   "execution_count": 10,
   "metadata": {},
   "outputs": [],
   "source": [
    "swap_p_2, swap_c_2 = solve_tsp(\n",
    "    data2, \n",
    "    start_point=0, \n",
    "    max_time=500, \n",
    "    move_types='swap', \n",
    "    random_restart=1, \n",
    "    max_iterations=150\n",
    ")\n",
    "\n"
   ]
  },
  {
   "cell_type": "code",
   "execution_count": 11,
   "metadata": {},
   "outputs": [],
   "source": [
    "swap_p_3, swap_c_3 = solve_tsp(\n",
    "    data3, \n",
    "    start_point=0, \n",
    "    max_time=500, \n",
    "    move_types='swap', \n",
    "    random_restart=1, \n",
    "    max_iterations=150\n",
    ")"
   ]
  },
  {
   "cell_type": "code",
   "execution_count": 12,
   "metadata": {},
   "outputs": [],
   "source": [
    "# Move typ = \"2 opt\"\n",
    "\n",
    "opt_p_1, opt_c_1 = solve_tsp(\n",
    "    data1, \n",
    "    start_point=0, \n",
    "    max_time=500, \n",
    "    move_types= '2-opt', \n",
    "    random_restart=1, \n",
    "    max_iterations=150\n",
    ")\n",
    "\n"
   ]
  },
  {
   "cell_type": "code",
   "execution_count": 13,
   "metadata": {},
   "outputs": [],
   "source": [
    "opt_p_2, opt_c_2 = solve_tsp(\n",
    "    data2, \n",
    "    start_point=0, \n",
    "    max_time=500, \n",
    "    move_types= '2-opt', \n",
    "    random_restart=1, \n",
    "    max_iterations=150\n",
    ")\n",
    "\n"
   ]
  },
  {
   "cell_type": "code",
   "execution_count": 14,
   "metadata": {},
   "outputs": [],
   "source": [
    "opt_p_3, opt_c_3 = solve_tsp(\n",
    "    data3, \n",
    "    start_point=0, \n",
    "    max_time=500, \n",
    "    move_types= '2-opt', \n",
    "    random_restart=1, \n",
    "    max_iterations=150\n",
    ")"
   ]
  },
  {
   "cell_type": "code",
   "execution_count": 15,
   "metadata": {},
   "outputs": [],
   "source": [
    "# Move typ = \"insertion\"\n",
    "\n",
    "ins_p_1, ins_c_1 = solve_tsp(\n",
    "    data1, \n",
    "    start_point=0, \n",
    "    max_time=500, \n",
    "    move_types= 'insertion', \n",
    "    random_restart=1, \n",
    "    max_iterations=150\n",
    ")\n",
    "\n"
   ]
  },
  {
   "cell_type": "code",
   "execution_count": 16,
   "metadata": {},
   "outputs": [],
   "source": [
    "ins_p_2, ins_c_2 = solve_tsp(\n",
    "    data2, \n",
    "    start_point=0, \n",
    "    max_time=500, \n",
    "    move_types= 'insertion', \n",
    "    random_restart=1, \n",
    "    max_iterations=150\n",
    ")\n",
    "\n"
   ]
  },
  {
   "cell_type": "code",
   "execution_count": 17,
   "metadata": {},
   "outputs": [],
   "source": [
    "ins_p_3, ins_c_3 = solve_tsp(\n",
    "    data3, \n",
    "    start_point=0, \n",
    "    max_time=500, \n",
    "    move_types= 'insertion', \n",
    "    random_restart=1, \n",
    "    max_iterations=150\n",
    ")"
   ]
  },
  {
   "cell_type": "markdown",
   "metadata": {},
   "source": [
    "Zebranie wyników z podstawowymi parametrami "
   ]
  },
  {
   "cell_type": "code",
   "execution_count": 18,
   "metadata": {},
   "outputs": [],
   "source": [
    "W1 =  {\n",
    "    \"Długość ścieżki\": [classic_c_1, swap_c_1, opt_c_1, ins_c_1]\n",
    "}\n",
    "\n",
    "c1 = pd.DataFrame(data = W1)\n",
    "c1.index = [\"Klasyczna\",\"Swap\" , \"2-opt\", \"Insertion\"]\n",
    "\n",
    "W2 =  {\n",
    "    \"Długość ścieżki\": [classic_c_2, swap_c_2, opt_c_2, ins_c_2]\n",
    "}\n",
    "\n",
    "c2 = pd.DataFrame(data = W2)\n",
    "c2.index = [\"Klasyczna\",\"Swap\" , \"2-opt\", \"Insertion\"]\n",
    "\n",
    "W3 =  {\n",
    "    \"Długość ścieżki\": [classic_c_3, swap_c_3, opt_c_3, ins_c_3]\n",
    "}\n",
    "\n",
    "c3 = pd.DataFrame(data = W3)\n",
    "c3.index = [\"Klasyczna\",\"Swap\" , \"2-opt\", \"Insertion\"]"
   ]
  },
  {
   "cell_type": "markdown",
   "metadata": {},
   "source": [
    "Badanie wpływu parametru MAX ITTERATIONS"
   ]
  },
  {
   "cell_type": "code",
   "execution_count": 20,
   "metadata": {},
   "outputs": [],
   "source": [
    "# Stałe parametry\n",
    "start_point = 0\n",
    "max_time = 500\n",
    "random_restart = 1\n",
    "\n",
    "# DANE NR 1 \n",
    "results = []\n",
    "for max_iterations in range(1, 301):\n",
    "    _, best_cost = solve_tsp(data1, start_point=start_point, max_time=max_time, random_restart=random_restart, max_iterations=max_iterations)\n",
    "    results.append({\"PARAMETR\": max_iterations, \"WYNIK\": best_cost})\n",
    "\n",
    "\n",
    "itterration1 = pd.DataFrame(results)\n",
    "\n",
    "\n",
    "# DANE NR 2\n",
    "results = []\n",
    "for max_iterations in range(1, 301):\n",
    "    _, best_cost = solve_tsp(data2, start_point=start_point, max_time=max_time, random_restart=random_restart, max_iterations=max_iterations)\n",
    "    results.append({\"PARAMETR\": max_iterations, \"WYNIK\": best_cost})\n",
    "\n",
    "# Tworzenie ramki danych\n",
    "itterration2 = pd.DataFrame(results)\n",
    "\n",
    "\n",
    "# DANE NR 3\n",
    "results = []\n",
    "for max_iterations in range(1, 301):\n",
    "    _, best_cost = solve_tsp(data3, start_point=start_point, max_time=max_time, random_restart=random_restart, max_iterations=max_iterations)\n",
    "    results.append({\"PARAMETR\": max_iterations, \"WYNIK\": best_cost})\n",
    "\n",
    "# Tworzenie ramki danych\n",
    "itterration3 = pd.DataFrame(results)"
   ]
  },
  {
   "cell_type": "markdown",
   "metadata": {},
   "source": [
    "Badanie wpływu parametru random restart"
   ]
  },
  {
   "cell_type": "code",
   "execution_count": 21,
   "metadata": {},
   "outputs": [],
   "source": [
    "# Stałe parametry\n",
    "start_point = 0\n",
    "max_time = 500\n",
    "max_iterations = 150\n",
    "\n",
    "# DANE NR 1 \n",
    "results = []\n",
    "for random_restart in range(1, 31):\n",
    "    _, best_cost = solve_tsp(data1, start_point=start_point, max_time=max_time, random_restart=random_restart, max_iterations=max_iterations)\n",
    "    results.append({\"PARAMETR\": random_restart, \"WYNIK\": best_cost})\n",
    "\n",
    "\n",
    "restar1 = pd.DataFrame(results)\n",
    "\n",
    "\n",
    "# DANE NR 2\n",
    "results = []\n",
    "for random_restart in range(1, 31):\n",
    "    _, best_cost = solve_tsp(data2, start_point=start_point, max_time=max_time, random_restart=random_restart, max_iterations=max_iterations)\n",
    "    results.append({\"PARAMETR\": random_restart, \"WYNIK\": best_cost})\n",
    "\n",
    "# Tworzenie ramki danych\n",
    "restart2 = pd.DataFrame(results)\n",
    "\n",
    "\n",
    "# DANE NR 3\n",
    "results = []\n",
    "for random_restart in range(1, 31):\n",
    "    _, best_cost = solve_tsp(data3, start_point=start_point, max_time=max_time, random_restart=random_restart, max_iterations=max_iterations)\n",
    "    results.append({\"PARAMETR\": random_restart, \"WYNIK\": best_cost})\n",
    "\n",
    "# Tworzenie ramki danych\n",
    "restart3 = pd.DataFrame(results)"
   ]
  },
  {
   "cell_type": "markdown",
   "metadata": {},
   "source": [
    "Wystartowanie z 4 różnych losowych puntktów startowych"
   ]
  },
  {
   "cell_type": "code",
   "execution_count": 22,
   "metadata": {},
   "outputs": [],
   "source": [
    "# Stałe parametry\n",
    "start_points = [np.random.randint(0, len(data1)), np.random.randint(0, len(data1)), np.random.randint(0, len(data1)), np.random.randint(0, len(data1))]\n",
    "max_time = 500\n",
    "max_iterations = 150\n",
    "random_restart = 1\n",
    "\n",
    "# DANE NR 1 \n",
    "results = []\n",
    "for start_point in start_points:\n",
    "    _, best_cost = solve_tsp(data1, start_point=start_point, max_time=max_time, random_restart=random_restart, max_iterations=max_iterations)\n",
    "    results.append({\"PARAMETR\": start_point, \"WYNIK\": best_cost})\n",
    "\n",
    "\n",
    "point1 = pd.DataFrame(results)\n",
    "\n",
    "start_points = [np.random.randint(0, len(data2)), np.random.randint(0, len(data2)), np.random.randint(0, len(data2)), np.random.randint(0, len(data2))]\n",
    "\n",
    "# DANE NR 2\n",
    "results = []\n",
    "for start_point in start_points:\n",
    "    _, best_cost = solve_tsp(data2, start_point=start_point, max_time=max_time, random_restart=random_restart, max_iterations=max_iterations)\n",
    "    results.append({\"PARAMETR\": start_point, \"WYNIK\": best_cost})\n",
    "\n",
    "# Tworzenie ramki danych\n",
    "point2 = pd.DataFrame(results)\n",
    "\n",
    "start_points = [np.random.randint(0, len(data3)), np.random.randint(0, len(data3)), np.random.randint(0, len(data3)), np.random.randint(0, len(data3))]\n",
    "# DANE NR 3\n",
    "results = []\n",
    "for start_point in start_points:\n",
    "    _, best_cost = solve_tsp(data3, start_point=start_point, max_time=max_time, random_restart=random_restart, max_iterations=max_iterations)\n",
    "    results.append({\"PARAMETR\": start_point, \"WYNIK\": best_cost})\n",
    "\n",
    "# Tworzenie ramki danych\n",
    "point3 = pd.DataFrame(results)"
   ]
  },
  {
   "cell_type": "markdown",
   "metadata": {},
   "source": [
    "Zapis wyników w pliku EXCEL"
   ]
  },
  {
   "cell_type": "code",
   "execution_count": 23,
   "metadata": {},
   "outputs": [
    {
     "name": "stdout",
     "output_type": "stream",
     "text": [
      "Wyniki zostały zapisane w pliku NN.xlsx\n"
     ]
    }
   ],
   "source": [
    "res = {\n",
    "    \"Porównanie_metod+1\": c1,\n",
    "    \"max_iterations_1\": itterration1,\n",
    "    \"Restart_1\": restar1,\n",
    "    \"Point_1\" : point1,\n",
    "    \"Porównanie_metod_2\": c2,\n",
    "    \"max_iterations_2\": itterration2,\n",
    "    \"Restart_2\": restart2,\n",
    "    \"Point_2\" : point2,\n",
    "    \"Porównanie_metod_3\": c3,\n",
    "    \"max_iterations_3\": itterration3,\n",
    "    \"Restart_3\": restart3,\n",
    "    \"Point_3\" : point3,\n",
    "    \n",
    "}\n",
    "\n",
    "# Ścieżka do pliku Excel\n",
    "file_name = \"NN.xlsx\"\n",
    "\n",
    "# Zapisujemy dane do Excela\n",
    "with pd.ExcelWriter(file_name) as writer:\n",
    "    for sheet_name, df in res.items():\n",
    "        df.to_excel(writer, sheet_name=sheet_name, index=False)\n",
    "\n",
    "print(f\"Wyniki zostały zapisane w pliku {file_name}\")"
   ]
  },
  {
   "cell_type": "markdown",
   "metadata": {},
   "source": [
    "## Algorytm wspinaczki z multistartem (IHC)"
   ]
  },
  {
   "cell_type": "code",
   "execution_count": 24,
   "metadata": {},
   "outputs": [],
   "source": [
    "def local_search(route, distance_matrix, neighborhood_type=\"swap\"):\n",
    "  \n",
    "\n",
    "    # Mapowanie typów sąsiedztwa na funkcje\n",
    "    neighborhood_functions = {\n",
    "        \"swap\": swap_move,\n",
    "        \"two_opt\": two_opt_move,\n",
    "        \"insertion\": insertion_move\n",
    "    }\n",
    "    \n",
    "    if neighborhood_type not in neighborhood_functions:\n",
    "        raise ValueError(f\"Nieznany typ sąsiedztwa: {neighborhood_type}\")\n",
    "\n",
    "    neighbor_func = neighborhood_functions[neighborhood_type]\n",
    "\n",
    "    n = len(route)\n",
    "    best_distance = calculate_path_cost( distance_matrix, route)\n",
    "    improved = True\n",
    "\n",
    "    while improved:\n",
    "        improved = False\n",
    "        for neighbor in neighbor_func(route):\n",
    "            new_distance = calculate_path_cost( distance_matrix, neighbor)\n",
    "            if new_distance < best_distance:\n",
    "                route = neighbor\n",
    "                best_distance = new_distance\n",
    "                improved = True\n",
    "                break  # Skok do następnego sąsiedztwa\n",
    "\n",
    "    return route, best_distance\n",
    "\n",
    "\n",
    "\n",
    "    # Algorytm wspinaczki z multistartem dla problemu TSP z kryterium czasowym.\n",
    "    # Jeśli neighborhood_type=None, działa jak klasyczny IHC bez optymalizacji.\n",
    "    # distance_matrix: Macierz odległości między miastami.\n",
    "    # num_starts: Maksymalna liczba startów (iteracji).\n",
    "    # neighborhood_type: Typ sąsiedztwa (\"swap\", \"two_opt\", \"insertion\").\n",
    "    # time_limit: Maksymalny czas działania algorytmu w sekundach.\n",
    "   \n",
    "def iterated_hill_climbing(distance_matrix, num_starts=100, neighborhood_type=\"swap\", time_limit=None):\n",
    "  \n",
    "    n = len(distance_matrix)\n",
    "    best_route = None\n",
    "    best_distance = float('inf')\n",
    "\n",
    "    start_time = time.time()  # Zapisz czas rozpoczęcia\n",
    "\n",
    "    for start in range(num_starts):\n",
    "        # Sprawdzenie limitu czasu\n",
    "        if time_limit and (time.time() - start_time > time_limit):\n",
    "            print(f\"Przekroczono limit czasu ({time_limit} s).\")\n",
    "            break\n",
    "\n",
    "        # Losowe rozwiązanie początkowe\n",
    "        initial_route = list(range(n))\n",
    "        random.shuffle(initial_route)\n",
    "\n",
    "        # Lokalna wspinaczka lub brak optymalizacji\n",
    "        local_route, local_distance = local_search(\n",
    "            initial_route, distance_matrix, neighborhood_type\n",
    "        )\n",
    "\n",
    "        # Aktualizacja najlepszego rozwiązania\n",
    "        if local_distance < best_distance:\n",
    "            best_route = local_route\n",
    "            best_distance = local_distance\n",
    "\n",
    "    return best_route, best_distance"
   ]
  },
  {
   "cell_type": "code",
   "execution_count": null,
   "metadata": {},
   "outputs": [],
   "source": []
  },
  {
   "cell_type": "markdown",
   "metadata": {},
   "source": [
    "### Generowanie wyników "
   ]
  },
  {
   "cell_type": "markdown",
   "metadata": {},
   "source": [
    "Za podstawowe dane przyjmujemy :\n",
    "\n",
    "* time_limit = 1000\n",
    "\n",
    "* num_starts = 10 000 \n",
    "\n",
    "Nastepnie badane są wpływy poszczególnych parametrów na każdą metodę "
   ]
  },
  {
   "cell_type": "code",
   "execution_count": null,
   "metadata": {},
   "outputs": [],
   "source": [
    "\n"
   ]
  },
  {
   "cell_type": "code",
   "execution_count": null,
   "metadata": {},
   "outputs": [],
   "source": [
    "\n"
   ]
  },
  {
   "cell_type": "code",
   "execution_count": null,
   "metadata": {},
   "outputs": [],
   "source": []
  },
  {
   "cell_type": "code",
   "execution_count": 25,
   "metadata": {},
   "outputs": [],
   "source": [
    "# Metoda SWAP\n",
    "swap_p_1, swap_c_1 = iterated_hill_climbing(data1, num_starts=150,neighborhood_type= \"swap\", time_limit=1000)"
   ]
  },
  {
   "cell_type": "code",
   "execution_count": 26,
   "metadata": {},
   "outputs": [],
   "source": [
    "swap_p_2, swap_c_2 = iterated_hill_climbing(data2, num_starts=150,neighborhood_type= \"swap\", time_limit=1000)"
   ]
  },
  {
   "cell_type": "code",
   "execution_count": 27,
   "metadata": {},
   "outputs": [
    {
     "name": "stdout",
     "output_type": "stream",
     "text": [
      "Przekroczono limit czasu (1000 s).\n"
     ]
    }
   ],
   "source": [
    "swap_p_3, swap_c_3 = iterated_hill_climbing(data3, num_starts=150,neighborhood_type= \"swap\", time_limit=1000)"
   ]
  },
  {
   "cell_type": "code",
   "execution_count": 28,
   "metadata": {},
   "outputs": [],
   "source": [
    "# Metoda Opt-2\n",
    "opt_p_1, opt_c_1 = iterated_hill_climbing(data1, num_starts=150,neighborhood_type= \"two_opt\", time_limit=1000)"
   ]
  },
  {
   "cell_type": "code",
   "execution_count": 29,
   "metadata": {},
   "outputs": [],
   "source": [
    "opt_p_2, opt_c_2 = iterated_hill_climbing(data2, num_starts=150,neighborhood_type= \"two_opt\", time_limit=1000)"
   ]
  },
  {
   "cell_type": "code",
   "execution_count": 30,
   "metadata": {},
   "outputs": [
    {
     "name": "stdout",
     "output_type": "stream",
     "text": [
      "Przekroczono limit czasu (1000 s).\n"
     ]
    }
   ],
   "source": [
    "opt_p_3, opt_c_3 = iterated_hill_climbing(data3, num_starts=150,neighborhood_type= \"two_opt\", time_limit=1000)"
   ]
  },
  {
   "cell_type": "code",
   "execution_count": 31,
   "metadata": {},
   "outputs": [],
   "source": [
    "# Metoda insertion\n",
    "\n",
    "ins_p_1, ins_c_1 = iterated_hill_climbing(data1, num_starts=150,neighborhood_type= \"insertion\", time_limit=1000)"
   ]
  },
  {
   "cell_type": "code",
   "execution_count": 32,
   "metadata": {},
   "outputs": [],
   "source": [
    "ins_p_2, ins_c_2 = iterated_hill_climbing(data2, num_starts=150,neighborhood_type= \"insertion\", time_limit=1000)"
   ]
  },
  {
   "cell_type": "code",
   "execution_count": 33,
   "metadata": {},
   "outputs": [
    {
     "name": "stdout",
     "output_type": "stream",
     "text": [
      "Przekroczono limit czasu (1000 s).\n"
     ]
    }
   ],
   "source": [
    "\n",
    "ins_p_3, ins_c_3 = iterated_hill_climbing(data3, num_starts=150, neighborhood_type= \"insertion\", time_limit=1000)"
   ]
  },
  {
   "cell_type": "markdown",
   "metadata": {},
   "source": [
    "Badanie wpływu parametru num_starts "
   ]
  },
  {
   "cell_type": "code",
   "execution_count": 34,
   "metadata": {},
   "outputs": [
    {
     "name": "stdout",
     "output_type": "stream",
     "text": [
      "Przekroczono limit czasu (1000 s).\n",
      "Przekroczono limit czasu (1000 s).\n",
      "Przekroczono limit czasu (1000 s).\n",
      "Przekroczono limit czasu (1000 s).\n",
      "Przekroczono limit czasu (1000 s).\n",
      "Przekroczono limit czasu (1000 s).\n",
      "Przekroczono limit czasu (1000 s).\n",
      "Przekroczono limit czasu (1000 s).\n"
     ]
    }
   ],
   "source": [
    "# Stałe parametry\n",
    "time_limit = 1000\n",
    "\n",
    "# DANE NR 1 \n",
    "results = []\n",
    "for num_starts in range(1, 200,  20):\n",
    "    _, best_cost = iterated_hill_climbing(data1, num_starts=num_starts ,neighborhood_type= \"two_opt\", time_limit=time_limit)\n",
    "    results.append({\"PARAMETR\": num_starts, \"WYNIK\": best_cost})\n",
    "\n",
    "\n",
    "itterration1 = pd.DataFrame(results)\n",
    "\n",
    "\n",
    "# DANE NR 2\n",
    "\n",
    "results = []\n",
    "for num_starts in range(1, 200,  20):\n",
    "    _, best_cost = iterated_hill_climbing(data2, num_starts=num_starts ,neighborhood_type= \"two_opt\", time_limit=time_limit)\n",
    "    results.append({\"PARAMETR\": num_starts, \"WYNIK\": best_cost})\n",
    "\n",
    "# Tworzenie ramki danych\n",
    "itterration2 = pd.DataFrame(results)\n",
    "\n",
    "\n",
    "# DANE NR 3\n",
    "\n",
    "results = []\n",
    "for num_starts in range(1, 200,  20):\n",
    "    _, best_cost = iterated_hill_climbing(data3, num_starts=num_starts ,neighborhood_type= \"two_opt\", time_limit=time_limit)\n",
    "    results.append({\"PARAMETR\": num_starts, \"WYNIK\": best_cost})\n",
    "\n",
    "# Tworzenie ramki danych\n",
    "itterration3 = pd.DataFrame(results)"
   ]
  },
  {
   "cell_type": "markdown",
   "metadata": {},
   "source": [
    "Badanie wpływu parametru time_limit"
   ]
  },
  {
   "cell_type": "code",
   "execution_count": 35,
   "metadata": {},
   "outputs": [],
   "source": [
    "# # Stałe parametry\n",
    "# num_starts = 1000000\n",
    "\n",
    "# # DANE NR 1 \n",
    "# results = []\n",
    "# for time_limit in range(0, 1000, 100):\n",
    "#     _, best_cost = iterated_hill_climbing(data1, num_starts=num_starts ,neighborhood_type= \"two_opt\", time_limit=time_limit)\n",
    "#     results.append({\"PARAMETR\": time_limit, \"WYNIK\": best_cost})\n",
    "\n",
    "\n",
    "# time1 = pd.DataFrame(results)\n",
    "\n",
    "\n",
    "# # DANE NR 2\n",
    "\n",
    "# results = []\n",
    "# for time_limit in range(0, 1000,  100):\n",
    "#     _, best_cost = iterated_hill_climbing(data2, num_starts=num_starts ,neighborhood_type= \"two_opt\", time_limit=time_limit)\n",
    "#     results.append({\"PARAMETR\": time_limit, \"WYNIK\": best_cost})\n",
    "\n",
    "# # Tworzenie ramki danych\n",
    "# time2 = pd.DataFrame(results)\n",
    "\n",
    "\n",
    "# # DANE NR 3\n",
    "\n",
    "# results = []\n",
    "# for time_limit in range(0, 1000, 100):\n",
    "#     _, best_cost = iterated_hill_climbing(data3, num_starts=num_starts ,neighborhood_type= \"two_opt\", time_limit=time_limit)\n",
    "#     results.append({\"PARAMETR\": time_limit, \"WYNIK\": best_cost})\n",
    "\n",
    "# # Tworzenie ramki danych\n",
    "# time3 = pd.DataFrame(results)\n",
    "\n"
   ]
  },
  {
   "cell_type": "markdown",
   "metadata": {},
   "source": [
    "## Algorytm symulowanego wyżarzania (SA)"
   ]
  },
  {
   "cell_type": "code",
   "execution_count": 36,
   "metadata": {},
   "outputs": [],
   "source": [
    "\n",
    "def get_neighbor(solution, move_type=\"swap\"):\n",
    "    \"\"\"\n",
    "    Generuje sąsiada w zależności od wybranego typu ruchu, korzystając z funkcji generujących sąsiedztwa.\n",
    "    \n",
    "    :param solution: Aktualne rozwiązanie (lista miast).\n",
    "    :param move_type: Typ ruchu do wygenerowania sąsiada (\"swap\", \"insertion\", \"two_opt\").\n",
    "    :return: Nowe rozwiązanie (sąsiad).\n",
    "    \"\"\"\n",
    "    import random\n",
    "\n",
    "    # Mapowanie typów ruchów na funkcje generujące sąsiedztwa\n",
    "    neighborhood_functions = {\n",
    "        \"swap\": swap_move,\n",
    "        \"two_opt\": two_opt_move,\n",
    "        \"insertion\": insertion_move\n",
    "    }\n",
    "\n",
    "    if move_type not in neighborhood_functions:\n",
    "        raise ValueError(f\"Nieznany typ ruchu: {move_type}. Dostępne opcje: 'swap', 'insertion', 'two_opt'.\")\n",
    "\n",
    "    # Generowanie wszystkich sąsiadów za pomocą wybranej funkcji\n",
    "    neighbors = list(neighborhood_functions[move_type](solution))\n",
    "    \n",
    "    # Losowy wybór jednego sąsiada\n",
    "    return random.choice(neighbors)\n",
    "\n",
    "def simulated_annealing(\n",
    "    initial_solution,\n",
    "    distance_matrix,\n",
    "    initial_temperature=1000,\n",
    "    cooling_rate=0.95,\n",
    "    max_iterations=1000,\n",
    "    min_temperature=1e-3,\n",
    "    time_limit=None,\n",
    "    move_type=\"swap\"  # Wybór typu ruchu\n",
    "):\n",
    "    \"\"\"\n",
    "    Algorytm wyżarzania dla problemu komiwojażera (TSP).\n",
    "    \n",
    "    :param initial_solution: Początkowe rozwiązanie (lista miast).\n",
    "    :param distance_matrix: Macierz odległości między miastami.\n",
    "    :param initial_temperature: Temperatura początkowa.\n",
    "    :param cooling_rate: Współczynnik chłodzenia (wartość w zakresie (0, 1)).\n",
    "    :param max_iterations: Maksymalna liczba iteracji.\n",
    "    :param min_temperature: Minimalna temperatura.\n",
    "    :param time_limit: Maksymalny czas działania algorytmu w sekundach.\n",
    "    :param move_type: Typ ruchu do generowania sąsiada (\"swap\", \"insertion\", \"two_opt\").\n",
    "    :return: Najlepsze rozwiązanie i jego koszt.\n",
    "    \"\"\"\n",
    "    def calculate_cost(route):\n",
    "        \"\"\"Oblicza koszt trasy.\"\"\"\n",
    "        return sum(distance_matrix[route[i]][route[i + 1]] for i in range(len(route) - 1)) + \\\n",
    "               distance_matrix[route[-1]][route[0]]\n",
    "\n",
    "    current_solution = initial_solution\n",
    "    current_cost = calculate_cost(current_solution)\n",
    "    best_solution = current_solution[:]\n",
    "    best_cost = current_cost\n",
    "\n",
    "    temperature = initial_temperature\n",
    "    start_time = time.time()\n",
    "\n",
    "    for iteration in range(max_iterations):\n",
    "        if time_limit and (time.time() - start_time > time_limit):\n",
    "            print(\"Przekroczono limit czasu.\")\n",
    "            break\n",
    "\n",
    "        if temperature < min_temperature:\n",
    "            print(\"Temperatura osiągnęła wartość minimalną.\")\n",
    "            break\n",
    "\n",
    "        # Generowanie sąsiada na podstawie wybranego typu ruchu\n",
    "        neighbor = get_neighbor(current_solution, move_type)\n",
    "        neighbor_cost = calculate_cost(neighbor)\n",
    "\n",
    "        delta = neighbor_cost - current_cost\n",
    "        acceptance_probability = math.exp(-delta / temperature) if delta > 0 else 1\n",
    "\n",
    "        if random.random() < acceptance_probability:\n",
    "            current_solution = neighbor\n",
    "            current_cost = neighbor_cost\n",
    "\n",
    "        if current_cost < best_cost:\n",
    "            best_solution = current_solution[:]\n",
    "            best_cost = current_cost\n",
    "\n",
    "        temperature *= cooling_rate\n",
    "\n",
    "        if iteration % 100 == 0:\n",
    "            print(f\"Iteracja {iteration}, najlepszy koszt: {best_cost}, temperatura: {temperature:.2f}\")\n",
    "\n",
    "    return best_solution, best_cost\n",
    "\n"
   ]
  },
  {
   "cell_type": "code",
   "execution_count": 37,
   "metadata": {},
   "outputs": [
    {
     "name": "stdout",
     "output_type": "stream",
     "text": [
      "\n",
      "Algorytm wyżarzania z ruchem: swap\n",
      "Iteracja 0, najlepszy koszt: 93, temperatura: 990.00\n",
      "Iteracja 100, najlepszy koszt: 73, temperatura: 362.37\n",
      "Iteracja 200, najlepszy koszt: 73, temperatura: 132.64\n",
      "Iteracja 300, najlepszy koszt: 73, temperatura: 48.55\n",
      "Iteracja 400, najlepszy koszt: 73, temperatura: 17.77\n",
      "Iteracja 500, najlepszy koszt: 73, temperatura: 6.50\n",
      "Iteracja 600, najlepszy koszt: 73, temperatura: 2.38\n",
      "Iteracja 700, najlepszy koszt: 73, temperatura: 0.87\n",
      "Iteracja 800, najlepszy koszt: 73, temperatura: 0.32\n",
      "Iteracja 900, najlepszy koszt: 73, temperatura: 0.12\n",
      "Iteracja 1000, najlepszy koszt: 73, temperatura: 0.04\n",
      "Iteracja 1100, najlepszy koszt: 73, temperatura: 0.02\n",
      "Temperatura osiągnęła wartość minimalną.\n",
      "Najlepsza trasa (swap): [2, 0, 3, 1]\n",
      "Najkrótsza odległość: 73\n",
      "\n",
      "Algorytm wyżarzania z ruchem: insertion\n",
      "Iteracja 0, najlepszy koszt: 93, temperatura: 990.00\n",
      "Iteracja 100, najlepszy koszt: 73, temperatura: 362.37\n",
      "Iteracja 200, najlepszy koszt: 73, temperatura: 132.64\n",
      "Iteracja 300, najlepszy koszt: 73, temperatura: 48.55\n",
      "Iteracja 400, najlepszy koszt: 73, temperatura: 17.77\n",
      "Iteracja 500, najlepszy koszt: 73, temperatura: 6.50\n",
      "Iteracja 600, najlepszy koszt: 73, temperatura: 2.38\n",
      "Iteracja 700, najlepszy koszt: 73, temperatura: 0.87\n",
      "Iteracja 800, najlepszy koszt: 73, temperatura: 0.32\n",
      "Iteracja 900, najlepszy koszt: 73, temperatura: 0.12\n",
      "Iteracja 1000, najlepszy koszt: 73, temperatura: 0.04\n",
      "Iteracja 1100, najlepszy koszt: 73, temperatura: 0.02\n",
      "Temperatura osiągnęła wartość minimalną.\n",
      "Najlepsza trasa (insertion): [2, 0, 3, 1]\n",
      "Najkrótsza odległość: 73\n",
      "\n",
      "Algorytm wyżarzania z ruchem: two_opt\n",
      "Iteracja 0, najlepszy koszt: 73, temperatura: 990.00\n",
      "Iteracja 100, najlepszy koszt: 73, temperatura: 362.37\n",
      "Iteracja 200, najlepszy koszt: 73, temperatura: 132.64\n",
      "Iteracja 300, najlepszy koszt: 73, temperatura: 48.55\n",
      "Iteracja 400, najlepszy koszt: 73, temperatura: 17.77\n",
      "Iteracja 500, najlepszy koszt: 73, temperatura: 6.50\n",
      "Iteracja 600, najlepszy koszt: 73, temperatura: 2.38\n",
      "Iteracja 700, najlepszy koszt: 73, temperatura: 0.87\n",
      "Iteracja 800, najlepszy koszt: 73, temperatura: 0.32\n",
      "Iteracja 900, najlepszy koszt: 73, temperatura: 0.12\n",
      "Iteracja 1000, najlepszy koszt: 73, temperatura: 0.04\n",
      "Iteracja 1100, najlepszy koszt: 73, temperatura: 0.02\n",
      "Temperatura osiągnęła wartość minimalną.\n",
      "Najlepsza trasa (two_opt): [2, 0, 3, 1]\n",
      "Najkrótsza odległość: 73\n"
     ]
    }
   ],
   "source": [
    "if __name__ == \"__main__\":\n",
    "    import random\n",
    "\n",
    "    # Przykładowa macierz odległości\n",
    "    distance_matrix = [\n",
    "        [0, 29, 20, 21],\n",
    "        [29, 0, 15, 17],\n",
    "        [20, 15, 0, 28],\n",
    "        [21, 17, 28, 0]\n",
    "    ]\n",
    "\n",
    "    # Początkowe rozwiązanie (losowa permutacja miast)\n",
    "    initial_solution = list(range(len(distance_matrix)))\n",
    "    random.shuffle(initial_solution)\n",
    "\n",
    "    # Wywołanie algorytmu z różnymi rodzajami ruchów\n",
    "    for move_type in [\"swap\", \"insertion\", \"two_opt\"]:\n",
    "        print(f\"\\nAlgorytm wyżarzania z ruchem: {move_type}\")\n",
    "        best_solution, best_cost = simulated_annealing(\n",
    "            initial_solution,\n",
    "            distance_matrix,\n",
    "            initial_temperature=1000,\n",
    "            cooling_rate=0.99,\n",
    "            max_iterations=10000,\n",
    "            min_temperature=0.01,\n",
    "            time_limit=5,\n",
    "            move_type=move_type\n",
    "        )\n",
    "        print(f\"Najlepsza trasa ({move_type}): {best_solution}\")\n",
    "        print(f\"Najkrótsza odległość: {best_cost}\")"
   ]
  },
  {
   "cell_type": "markdown",
   "metadata": {},
   "source": [
    "## Algorytm przeszukiwania Tabu "
   ]
  },
  {
   "cell_type": "markdown",
   "metadata": {},
   "source": [
    "## Algorytm genetyczny"
   ]
  },
  {
   "cell_type": "markdown",
   "metadata": {},
   "source": [
    "## Algorytm zachłanny"
   ]
  },
  {
   "cell_type": "code",
   "execution_count": 38,
   "metadata": {},
   "outputs": [],
   "source": [
    "## Klasyczny algorytm zachłanny \n",
    "def tsp_greedy(distance_matrix, start=0):\n",
    "    n = len(distance_matrix)\n",
    "    visited = [False] * n\n",
    "    visited[start] = True\n",
    "    path = [start]\n",
    "    total_cost = 0\n",
    "    current_city = start\n",
    "\n",
    "    for _ in range(n - 1):\n",
    "        # Znajdujemy najbliższe miasto którego nie odwiedziliśmy \n",
    "        next_city = min(\n",
    "            (city for city in range(n) if not visited[city]),\n",
    "            key=lambda city: distance_matrix[current_city][city]\n",
    "        )\n",
    "        # Dodajemy odległośc i zaznaczamy ze miasto jest już odwiedzone\n",
    "        total_cost += distance_matrix[current_city][next_city]\n",
    "        visited[next_city] = True\n",
    "        path.append(next_city)\n",
    "        current_city = next_city\n",
    "\n",
    "    # Obliczanie końcowej trasy\n",
    "    total_cost += distance_matrix[current_city][start]\n",
    "    path.append(start)\n",
    "\n",
    "    return path, total_cost\n",
    "\n",
    "## Iteracja algorytmem zachłannym po każdym możliwym punkcie startowym \n",
    "\n",
    "def tsp_greedy_all_starts(distance_matrix):\n",
    "    best_cost = float('inf')\n",
    "    best_path = None\n",
    "\n",
    "    for start in range(len(distance_matrix)):\n",
    "        path, cost = tsp_greedy(distance_matrix, start=start)\n",
    "        if cost < best_cost:\n",
    "            best_cost = cost\n",
    "            best_path = path\n",
    "            point = start\n",
    "\n",
    "    return best_cost, best_path, point"
   ]
  },
  {
   "cell_type": "code",
   "execution_count": 39,
   "metadata": {},
   "outputs": [],
   "source": [
    "\n",
    "## Iteracja algorytmem zachłannym po każdym możliwym punkcie startowym \n",
    "\n",
    "def tsp_greedy_all_starts(distance_matrix):\n",
    "    best_cost = float('inf')\n",
    "    best_path = None\n",
    "\n",
    "    for start in range(len(distance_matrix)):\n",
    "        path, cost = tsp_greedy(distance_matrix, start=start)\n",
    "        if cost < best_cost:\n",
    "            best_cost = cost\n",
    "            best_path = path\n",
    "            point = start\n",
    "\n",
    "    return best_cost, best_path, point"
   ]
  },
  {
   "cell_type": "code",
   "execution_count": 40,
   "metadata": {},
   "outputs": [],
   "source": [
    "\n",
    "## Iteracja algorytmem zachłannym po każdym możliwym punkcie startowym \n",
    "\n",
    "def tsp_greedy_all_starts(distance_matrix):\n",
    "    best_cost = float('inf')\n",
    "    best_path = None\n",
    "\n",
    "    for start in range(len(distance_matrix)):\n",
    "        path, cost = tsp_greedy(distance_matrix, start=start)\n",
    "        if cost < best_cost:\n",
    "            best_cost = cost\n",
    "            best_path = path\n",
    "            point = start\n",
    "\n",
    "    return best_cost, best_path, point"
   ]
  },
  {
   "cell_type": "markdown",
   "metadata": {},
   "source": [
    "## Generowanie rozwiazań"
   ]
  },
  {
   "cell_type": "code",
   "execution_count": 41,
   "metadata": {},
   "outputs": [],
   "source": [
    "# Klasyczny ( od punktu 1 )\n",
    "classic_p_1, classic_c_1 = tsp_greedy(data1)\n",
    "classic_p_2, classic_c_2 = tsp_greedy(data2)\n",
    "classic_p_3, classic_c_3 = tsp_greedy(data3)"
   ]
  },
  {
   "cell_type": "code",
   "execution_count": 42,
   "metadata": {},
   "outputs": [],
   "source": [
    "# Start we wszytskich punktach \n",
    "all_p_1, all_c_1, all_point_1= tsp_greedy_all_starts(data1)\n",
    "all_p_2, all_c_2, all_point_2 = tsp_greedy_all_starts(data2)\n",
    "all_p_3, all_c_3, all_point_3 = tsp_greedy_all_starts(data3)"
   ]
  },
  {
   "cell_type": "markdown",
   "metadata": {},
   "source": [
    "Zebranie wyników oraz zapis w pliku EXCEL "
   ]
  },
  {
   "cell_type": "code",
   "execution_count": 43,
   "metadata": {},
   "outputs": [
    {
     "name": "stdout",
     "output_type": "stream",
     "text": [
      "Wyniki zostały zapisane w pliku Zachłanny.xlsx\n"
     ]
    }
   ],
   "source": [
    "W1 =  {\n",
    "    \"Długość ścieżki\": [classic_c_1,classic_c_2,classic_c_3 ]\n",
    "}\n",
    "\n",
    "p1 = pd.DataFrame(data = W1)\n",
    "p1.index = [\"Dane 1\",\"Dane 2\" , \"Dane 3\", ]\n",
    "\n",
    "W2 =  {\n",
    "    \"Długość ścieżki\": [all_p_1, all_p_2, all_p_3],\n",
    "    \"Punkt\": [all_point_1,all_point_2, all_point_3]\n",
    "}\n",
    "\n",
    "p2 = pd.DataFrame(data = W2)\n",
    "p2.index = [\"Dane 1\",\"Dane 2\" , \"Dane 3\"]\n",
    "\n",
    "resu = {\n",
    "    \"Klasyka\": p1,\n",
    "    \"Wszytskie\":p2    \n",
    "}\n",
    "\n",
    "# Ścieżka do pliku Excel\n",
    "file_name = \"Zachłanny.xlsx\"\n",
    "\n",
    "# Zapisujemy dane do Excela\n",
    "with pd.ExcelWriter(file_name) as writer:\n",
    "    for sheet_name, df in resu.items():\n",
    "        df.to_excel(writer, sheet_name=sheet_name, index=False)\n",
    "\n",
    "print(f\"Wyniki zostały zapisane w pliku {file_name}\")"
   ]
  }
 ],
 "metadata": {
  "kernelspec": {
   "display_name": "base",
   "language": "python",
   "name": "python3"
  },
  "language_info": {
   "codemirror_mode": {
    "name": "ipython",
    "version": 3
   },
   "file_extension": ".py",
   "mimetype": "text/x-python",
   "name": "python",
   "nbconvert_exporter": "python",
   "pygments_lexer": "ipython3",
   "version": "3.12.4"
  }
 },
 "nbformat": 4,
 "nbformat_minor": 2
}
