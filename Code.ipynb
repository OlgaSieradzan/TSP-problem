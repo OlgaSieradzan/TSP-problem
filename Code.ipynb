{
 "cells": [
  {
   "cell_type": "markdown",
   "metadata": {},
   "source": [
    "# Analiza wykorzystania różnych heurystyk przy rozwiązaniu problemu komiwojażera"
   ]
  },
  {
   "cell_type": "markdown",
   "metadata": {},
   "source": [
    "Grupa: Amelia Madej, Justyna Sarkowicz, Olga Sieradzan, Weronika Duda i Aleksandra Węgrzyn"
   ]
  },
  {
   "cell_type": "markdown",
   "metadata": {},
   "source": [
    "## Biblioteki"
   ]
  },
  {
   "cell_type": "code",
   "execution_count": 3,
   "metadata": {},
   "outputs": [],
   "source": [
    "\n",
    "import pandas as pd\n",
    "import numpy as np\n",
    "import matplotlib.pyplot as plt\n",
    "import time\n",
    "import itertools\n",
    "import random\n",
    "import math\n",
    "from collections import deque\n",
    " "
   ]
  },
  {
   "cell_type": "markdown",
   "metadata": {},
   "source": [
    "## Pobór danych "
   ]
  },
  {
   "cell_type": "code",
   "execution_count": 4,
   "metadata": {},
   "outputs": [],
   "source": [
    "# file_path1 = \"C:/Users/olgas/OneDrive/Documents/GitHub/TSP-problem/Dane_TSP_48.xlsx\"\n",
    "# file_path2 = \"C:/Users/olgas/OneDrive/Documents/GitHub/TSP-problem/Dane_TSP_76.xlsx\"\n",
    "# file_path3 = \"C:/Users/olgas/OneDrive/Documents/GitHub/TSP-problem/Dane_TSP_127.xlsx\"\n",
    "\n",
    "# file_path1 = \"C:/Users/Justyna/source/repos/Projekt_IO/TSP-problem/Dane_TSP_48.xlsx\"\n",
    "# file_path2 = \"C:/Users/Justyna/source/repos/Projekt_IO/TSP-problem/Dane_TSP_76.xlsx\"\n",
    "# file_path3 = \"C:/Users/Justyna/source/repos/Projekt_IO/TSP-problem/Dane_TSP_127.xlsx\"\n",
    "\n",
    "file_path1 = \"C:/Users/ameli/OneDrive/Documents/GitHub/TSP-problem/Dane_TSP_48.xlsx\"\n",
    "file_path2 = \"C:/Users/ameli/OneDrive/Documents/GitHub/TSP-problem/Dane_TSP_76.xlsx\"\n",
    "file_path3 = \"C:/Users/ameli/OneDrive/Documents/GitHub/TSP-problem/Dane_TSP_127.xlsx\"\n",
    "\n",
    "# file_path1 = \"C:/Users/wera6/Downloads/Dane_TSP_48.xlsx\"\n",
    "# file_path2 = \"C:/Users/wera6/Downloads/Dane_TSP_76.xlsx\"\n",
    "# file_path3 = \"C:/Users/wera6/Downloads/Dane_TSP_127.xlsx\"\n",
    "\n",
    "# index_col=0 zamienia pierwszą kolumne na indeksy wierszy \n",
    "# .to_numpy() zamienia ramkę danych na macierz\n",
    "data1 = pd.read_excel(file_path1, index_col=0).to_numpy()\n",
    "\n",
    "data2 = pd.read_excel(file_path2, index_col=0).to_numpy()\n",
    "\n",
    "data3 = pd.read_excel(file_path3, index_col=0).to_numpy()"
   ]
  },
  {
   "cell_type": "markdown",
   "metadata": {},
   "source": [
    "## Rodzaje ruchów"
   ]
  },
  {
   "cell_type": "code",
   "execution_count": 5,
   "metadata": {},
   "outputs": [],
   "source": [
    "# Wybieramy dwie pozycje i zmieniamy je miejscami \n",
    "def swap_move(path):  \n",
    "    for i, j in itertools.combinations(range(len(path)), 2):\n",
    "        new_path = path[:]\n",
    "        new_path[i], new_path[j] = new_path[j], new_path[i]\n",
    "        yield new_path\n",
    " \n",
    "\n",
    "# Odwracamy segment pomiędzy wybranymi wartościami czyli \n",
    "# [a b c d e] -> [a d c b e]\n",
    "def two_opt_move(path):\n",
    "    for i, j in itertools.combinations(range(len(path)), 2):\n",
    "        new_path = path[:i] + path[i:j][::-1] + path[j:]\n",
    "        yield new_path\n",
    " \n",
    "# Wybieramy jeden wierzchołek w ścieżce, usuwamy z jednego miejsca i przerzucamy w inne miejsce\n",
    "def insertion_move(path):\n",
    "    n = len(path)\n",
    "    for i in range(n):\n",
    "        for j in range(n):\n",
    "            if i != j:\n",
    "                new_path = path[:]\n",
    "                node = new_path.pop(i)\n",
    "                new_path.insert(j, node)\n",
    "                yield new_path\n"
   ]
  },
  {
   "cell_type": "markdown",
   "metadata": {},
   "source": [
    "## Długość ścieżki"
   ]
  },
  {
   "cell_type": "code",
   "execution_count": 5,
   "metadata": {},
   "outputs": [],
   "source": [
    "def calculate_path_cost(matrix, path):\n",
    "    return sum(matrix[path[i - 1]][path[i]] for i in range(len(path))) + matrix[path[-1]][path[0]]\n"
   ]
  },
  {
   "cell_type": "markdown",
   "metadata": {},
   "source": [
    "## Algorytm najbliższego sąsiada NN"
   ]
  },
  {
   "cell_type": "code",
   "execution_count": 5,
   "metadata": {},
   "outputs": [],
   "source": [
    "\n",
    "# Klasyczny algorytm NN\n",
    "\n",
    "def nearest_neighbor(matrix, start_point=0, max_time=60, random_restart=1):\n",
    "    n = len(matrix)\n",
    "    best_path, best_cost = None, float('inf')\n",
    "    start_time = time.time()\n",
    "\n",
    "    for _ in range(random_restart):\n",
    "        # Wybór losowego punktu startowego przy wielu restartach\n",
    "        current_start_point = np.random.randint(0, n) if random_restart > 1 else start_point\n",
    "\n",
    "        # Przygotowanie zmiennych dla algorytmu NN\n",
    "        visited = [False] * n\n",
    "        path = [current_start_point]\n",
    "        visited[current_start_point] = True\n",
    "\n",
    "        # Generowanie ścieżki metodą najbliższego sąsiada\n",
    "        while len(path) < n:\n",
    "            last = path[-1]\n",
    "            next_city = np.argmin([\n",
    "                matrix[last][j] if not visited[j] else np.inf\n",
    "                for j in range(n)\n",
    "            ])\n",
    "            path.append(next_city)\n",
    "            visited[next_city] = True\n",
    "\n",
    "        # Oblicz koszt uzyskanej ścieżki\n",
    "        cost = calculate_path_cost(matrix, path)\n",
    "\n",
    "        # Sprawdź, czy znaleziono lepsze rozwiązanie\n",
    "        if cost < best_cost:\n",
    "            best_path, best_cost = path, cost\n",
    "\n",
    "        # Przerwij, jeśli przekroczono limit czasu\n",
    "        if time.time() - start_time > max_time:\n",
    "            break\n",
    "\n",
    "    return best_path, best_cost\n",
    "\n",
    "\n",
    "\n",
    "\n",
    "# Policzenie łącznej odległości między startem a końcem                \n",
    "\n",
    "\n",
    "\n",
    "# Optymalizacja rozwiązania \n",
    "# Argumenty: matrix odległości / dotychczasowe rozwiązanie / ['swap', '2-opt', 'insertion'] / maksymalna liczba iteracji\n",
    "def local_search(matrix, initial_path, move_generators, max_iterations):\n",
    "    best_path = initial_path\n",
    "    best_cost = calculate_path_cost(matrix, best_path)\n",
    " \n",
    "    iteration = 0\n",
    "    improved = True\n",
    "    while improved and iteration < max_iterations:\n",
    "        improved = False\n",
    "        for move_generator in move_generators:\n",
    "            for new_path in move_generator(best_path):\n",
    "                new_cost = calculate_path_cost(matrix, new_path)\n",
    "                if new_cost < best_cost:\n",
    "                    best_path, best_cost = new_path, new_cost\n",
    "                    improved = True\n",
    "                    break  \n",
    "            if improved:\n",
    "                break\n",
    "        iteration += 1\n",
    " \n",
    "    return best_path, best_cost\n",
    "\n",
    "# Ostateczna funkcja \n",
    "\n",
    "#  Parametry:\n",
    "# file_path (str): Ścieżka do pliku Excel zawierającego macierz odległości.\n",
    "# start_point (int): Miasto początkowe dla algorytmu.\n",
    "# max_time (int): Maksymalny czas dozwolony na obliczenia (w sekundach).\n",
    "# move_types (list): Lista typów ruchów dla wyszukiwania lokalnego (np. ['swap', '2-opt', 'insertion']).\n",
    "# random_restart (int): Liczba losowych restartów w celu wyjścia poza lokalne minima, \n",
    "#                       przy każdej iteracji wybieramy nowy start_point a nie cały czas ten sam co ustawiony, jeżeli  random_restart > 1\n",
    "# max_iterations (int): Maksymalna liczba iteracji dla wyszukiwania lokalnego.\n",
    " \n",
    "# Zwraca:\n",
    "# best_path (list): Znaleziono optymalną ścieżkę.\n",
    "# best_cost (float): Długość optymalnej ścieżki.\n",
    "\n",
    "# Jeżeli move_types=None to używamy wszytskich sposobów do optymalizacji\n",
    "\n",
    "def solve_tsp(matrix, start_point=0, max_time=60, move_types=None, random_restart=1, max_iterations=100):\n",
    "   \n",
    "    \n",
    "    move_generators = []\n",
    "    if move_types is None:\n",
    "        move_types = ['swap', '2-opt', 'insertion']  \n",
    "    if 'swap' in move_types:\n",
    "        move_generators.append(swap_move)\n",
    "    if '2-opt' in move_types:\n",
    "        move_generators.append(two_opt_move)\n",
    "    if 'insertion' in move_types:\n",
    "        move_generators.append(insertion_move)\n",
    " \n",
    "    best_path, best_cost = None, float('inf')\n",
    "    start_time = time.time()\n",
    "\n",
    "    # Iteracje z różnym startem\n",
    "    for _ in range(random_restart):\n",
    "        # wybranie punktu startującego \n",
    "        initial_start_point = np.random.randint(0, len(matrix)) if random_restart > 1 else start_point\n",
    " \n",
    "        # Początkowo generujemy rożwiązanie za pomocą klasycznego NN\n",
    "        initial_path, initial_cost = nearest_neighbor(matrix, start_point=initial_start_point)\n",
    " \n",
    "        #print(f\"Initial NN path (start {initial_start_point}): {initial_path} with cost: {initial_cost}\")\n",
    " \n",
    "        # Potem przeprowadzamy optymalizacje z pomocą innych parametrów\n",
    "        current_path, current_cost = local_search(matrix, initial_path, move_generators, max_iterations)\n",
    " \n",
    "        # Aktualizacja najlepszego wyniku\n",
    "        if current_cost < best_cost:\n",
    "            best_path, best_cost = current_path, current_cost\n",
    "        \n",
    " \n",
    "        # Zabezpieczenie przed przekroczeniem czasu \n",
    "        if time.time() - start_time > max_time:\n",
    "            break\n",
    " \n",
    "    return best_path, best_cost\n",
    " \n",
    "\n",
    "# przykład użycia \n",
    "best_path, best_cost = solve_tsp(\n",
    "    data1, \n",
    "    start_point=0, \n",
    "    max_time=60, \n",
    "    move_types='swap', \n",
    "    random_restart=1, \n",
    "    max_iterations=150\n",
    ")\n"
   ]
  },
  {
   "cell_type": "markdown",
   "metadata": {},
   "source": [
    "### Generowanie rozwiązań "
   ]
  },
  {
   "cell_type": "markdown",
   "metadata": {},
   "source": [
    "Za podstawowe dane przyjmujemy :\n",
    "\n",
    "* start_ point = 0 \n",
    "\n",
    "* max_time = 500\n",
    "\n",
    "* random_restart = 1 \n",
    "\n",
    "* max_itaration = 150 \n",
    "\n",
    "Nastepnie badane są wpływy poszczególnych parametrów na każdą metodę "
   ]
  },
  {
   "cell_type": "code",
   "execution_count": 6,
   "metadata": {},
   "outputs": [],
   "source": [
    "# Klasyczna metoda NN \n",
    "classic_p_1, classic_c_1 = nearest_neighbor(data1, start_point=0 , max_time=500, random_restart=1)\n"
   ]
  },
  {
   "cell_type": "code",
   "execution_count": 7,
   "metadata": {},
   "outputs": [],
   "source": [
    "classic_p_2, classic_c_2 = nearest_neighbor(data2, start_point=0, max_time=500, random_restart=1)\n"
   ]
  },
  {
   "cell_type": "code",
   "execution_count": 8,
   "metadata": {},
   "outputs": [],
   "source": [
    "classic_p_3, classic_c_3 = nearest_neighbor(data3, start_point=0, max_time=500, random_restart=1)"
   ]
  },
  {
   "cell_type": "code",
   "execution_count": 9,
   "metadata": {},
   "outputs": [],
   "source": [
    "# Move type = 'swap'\n",
    "\n",
    "swap_p_1, swap_c_1 = solve_tsp(\n",
    "    data1, \n",
    "    start_point=0, \n",
    "    max_time=500, \n",
    "    move_types='swap', \n",
    "    random_restart=1, \n",
    "    max_iterations=150\n",
    ")\n",
    "\n"
   ]
  },
  {
   "cell_type": "code",
   "execution_count": 10,
   "metadata": {},
   "outputs": [],
   "source": [
    "swap_p_2, swap_c_2 = solve_tsp(\n",
    "    data2, \n",
    "    start_point=0, \n",
    "    max_time=500, \n",
    "    move_types='swap', \n",
    "    random_restart=1, \n",
    "    max_iterations=150\n",
    ")\n",
    "\n"
   ]
  },
  {
   "cell_type": "code",
   "execution_count": 11,
   "metadata": {},
   "outputs": [],
   "source": [
    "swap_p_3, swap_c_3 = solve_tsp(\n",
    "    data3, \n",
    "    start_point=0, \n",
    "    max_time=500, \n",
    "    move_types='swap', \n",
    "    random_restart=1, \n",
    "    max_iterations=150\n",
    ")"
   ]
  },
  {
   "cell_type": "code",
   "execution_count": 12,
   "metadata": {},
   "outputs": [],
   "source": [
    "# Move typ = \"2 opt\"\n",
    "\n",
    "opt_p_1, opt_c_1 = solve_tsp(\n",
    "    data1, \n",
    "    start_point=0, \n",
    "    max_time=500, \n",
    "    move_types= '2-opt', \n",
    "    random_restart=1, \n",
    "    max_iterations=150\n",
    ")\n",
    "\n"
   ]
  },
  {
   "cell_type": "code",
   "execution_count": 13,
   "metadata": {},
   "outputs": [],
   "source": [
    "opt_p_2, opt_c_2 = solve_tsp(\n",
    "    data2, \n",
    "    start_point=0, \n",
    "    max_time=500, \n",
    "    move_types= '2-opt', \n",
    "    random_restart=1, \n",
    "    max_iterations=150\n",
    ")\n",
    "\n"
   ]
  },
  {
   "cell_type": "code",
   "execution_count": 14,
   "metadata": {},
   "outputs": [],
   "source": [
    "opt_p_3, opt_c_3 = solve_tsp(\n",
    "    data3, \n",
    "    start_point=0, \n",
    "    max_time=500, \n",
    "    move_types= '2-opt', \n",
    "    random_restart=1, \n",
    "    max_iterations=150\n",
    ")"
   ]
  },
  {
   "cell_type": "code",
   "execution_count": 15,
   "metadata": {},
   "outputs": [],
   "source": [
    "# Move typ = \"insertion\"\n",
    "\n",
    "ins_p_1, ins_c_1 = solve_tsp(\n",
    "    data1, \n",
    "    start_point=0, \n",
    "    max_time=500, \n",
    "    move_types= 'insertion', \n",
    "    random_restart=1, \n",
    "    max_iterations=150\n",
    ")\n",
    "\n"
   ]
  },
  {
   "cell_type": "code",
   "execution_count": 16,
   "metadata": {},
   "outputs": [],
   "source": [
    "ins_p_2, ins_c_2 = solve_tsp(\n",
    "    data2, \n",
    "    start_point=0, \n",
    "    max_time=500, \n",
    "    move_types= 'insertion', \n",
    "    random_restart=1, \n",
    "    max_iterations=150\n",
    ")\n",
    "\n"
   ]
  },
  {
   "cell_type": "code",
   "execution_count": 17,
   "metadata": {},
   "outputs": [],
   "source": [
    "ins_p_3, ins_c_3 = solve_tsp(\n",
    "    data3, \n",
    "    start_point=0, \n",
    "    max_time=500, \n",
    "    move_types= 'insertion', \n",
    "    random_restart=1, \n",
    "    max_iterations=150\n",
    ")"
   ]
  },
  {
   "cell_type": "markdown",
   "metadata": {},
   "source": [
    "Zebranie wyników z podstawowymi parametrami "
   ]
  },
  {
   "cell_type": "code",
   "execution_count": 18,
   "metadata": {},
   "outputs": [],
   "source": [
    "W1 =  {\n",
    "    \"Długość ścieżki\": [classic_c_1, swap_c_1, opt_c_1, ins_c_1]\n",
    "}\n",
    "\n",
    "c1 = pd.DataFrame(data = W1)\n",
    "c1.index = [\"Klasyczna\",\"Swap\" , \"2-opt\", \"Insertion\"]\n",
    "\n",
    "W2 =  {\n",
    "    \"Długość ścieżki\": [classic_c_2, swap_c_2, opt_c_2, ins_c_2]\n",
    "}\n",
    "\n",
    "c2 = pd.DataFrame(data = W2)\n",
    "c2.index = [\"Klasyczna\",\"Swap\" , \"2-opt\", \"Insertion\"]\n",
    "\n",
    "W3 =  {\n",
    "    \"Długość ścieżki\": [classic_c_3, swap_c_3, opt_c_3, ins_c_3]\n",
    "}\n",
    "\n",
    "c3 = pd.DataFrame(data = W3)\n",
    "c3.index = [\"Klasyczna\",\"Swap\" , \"2-opt\", \"Insertion\"]"
   ]
  },
  {
   "cell_type": "markdown",
   "metadata": {},
   "source": [
    "Badanie wpływu parametru MAX ITERATIONS"
   ]
  },
  {
   "cell_type": "code",
   "execution_count": 20,
   "metadata": {},
   "outputs": [],
   "source": [
    "# Stałe parametry\n",
    "start_point = 0\n",
    "max_time = 500\n",
    "random_restart = 1\n",
    "\n",
    "# DANE NR 1 \n",
    "results = []\n",
    "for max_iterations in range(1, 301):\n",
    "    _, best_cost = solve_tsp(data1, start_point=start_point, max_time=max_time, random_restart=random_restart, max_iterations=max_iterations)\n",
    "    results.append({\"PARAMETR\": max_iterations, \"WYNIK\": best_cost})\n",
    "\n",
    "\n",
    "itterration1 = pd.DataFrame(results)\n",
    "\n",
    "\n",
    "# DANE NR 2\n",
    "results = []\n",
    "for max_iterations in range(1, 301):\n",
    "    _, best_cost = solve_tsp(data2, start_point=start_point, max_time=max_time, random_restart=random_restart, max_iterations=max_iterations)\n",
    "    results.append({\"PARAMETR\": max_iterations, \"WYNIK\": best_cost})\n",
    "\n",
    "# Tworzenie ramki danych\n",
    "itterration2 = pd.DataFrame(results)\n",
    "\n",
    "\n",
    "# DANE NR 3\n",
    "results = []\n",
    "for max_iterations in range(1, 301):\n",
    "    _, best_cost = solve_tsp(data3, start_point=start_point, max_time=max_time, random_restart=random_restart, max_iterations=max_iterations)\n",
    "    results.append({\"PARAMETR\": max_iterations, \"WYNIK\": best_cost})\n",
    "\n",
    "# Tworzenie ramki danych\n",
    "itterration3 = pd.DataFrame(results)"
   ]
  },
  {
   "cell_type": "markdown",
   "metadata": {},
   "source": [
    "Badanie wpływu parametru random restart"
   ]
  },
  {
   "cell_type": "code",
   "execution_count": 21,
   "metadata": {},
   "outputs": [],
   "source": [
    "# Stałe parametry\n",
    "start_point = 0\n",
    "max_time = 500\n",
    "max_iterations = 150\n",
    "\n",
    "# DANE NR 1 \n",
    "results = []\n",
    "for random_restart in range(1, 31):\n",
    "    _, best_cost = solve_tsp(data1, start_point=start_point, max_time=max_time, random_restart=random_restart, max_iterations=max_iterations)\n",
    "    results.append({\"PARAMETR\": random_restart, \"WYNIK\": best_cost})\n",
    "\n",
    "\n",
    "restar1 = pd.DataFrame(results)\n",
    "\n",
    "\n",
    "# DANE NR 2\n",
    "results = []\n",
    "for random_restart in range(1, 31):\n",
    "    _, best_cost = solve_tsp(data2, start_point=start_point, max_time=max_time, random_restart=random_restart, max_iterations=max_iterations)\n",
    "    results.append({\"PARAMETR\": random_restart, \"WYNIK\": best_cost})\n",
    "\n",
    "# Tworzenie ramki danych\n",
    "restart2 = pd.DataFrame(results)\n",
    "\n",
    "\n",
    "# DANE NR 3\n",
    "results = []\n",
    "for random_restart in range(1, 31):\n",
    "    _, best_cost = solve_tsp(data3, start_point=start_point, max_time=max_time, random_restart=random_restart, max_iterations=max_iterations)\n",
    "    results.append({\"PARAMETR\": random_restart, \"WYNIK\": best_cost})\n",
    "\n",
    "# Tworzenie ramki danych\n",
    "restart3 = pd.DataFrame(results)"
   ]
  },
  {
   "cell_type": "markdown",
   "metadata": {},
   "source": [
    "Wystartowanie z 4 różnych losowych puntktów startowych"
   ]
  },
  {
   "cell_type": "code",
   "execution_count": 22,
   "metadata": {},
   "outputs": [],
   "source": [
    "# Stałe parametry\n",
    "start_points = [np.random.randint(0, len(data1)), np.random.randint(0, len(data1)), np.random.randint(0, len(data1)), np.random.randint(0, len(data1))]\n",
    "max_time = 500\n",
    "max_iterations = 150\n",
    "random_restart = 1\n",
    "\n",
    "# DANE NR 1 \n",
    "results = []\n",
    "for start_point in start_points:\n",
    "    _, best_cost = solve_tsp(data1, start_point=start_point, max_time=max_time, random_restart=random_restart, max_iterations=max_iterations)\n",
    "    results.append({\"PARAMETR\": start_point, \"WYNIK\": best_cost})\n",
    "\n",
    "\n",
    "point1 = pd.DataFrame(results)\n",
    "\n",
    "start_points = [np.random.randint(0, len(data2)), np.random.randint(0, len(data2)), np.random.randint(0, len(data2)), np.random.randint(0, len(data2))]\n",
    "\n",
    "# DANE NR 2\n",
    "results = []\n",
    "for start_point in start_points:\n",
    "    _, best_cost = solve_tsp(data2, start_point=start_point, max_time=max_time, random_restart=random_restart, max_iterations=max_iterations)\n",
    "    results.append({\"PARAMETR\": start_point, \"WYNIK\": best_cost})\n",
    "\n",
    "# Tworzenie ramki danych\n",
    "point2 = pd.DataFrame(results)\n",
    "\n",
    "start_points = [np.random.randint(0, len(data3)), np.random.randint(0, len(data3)), np.random.randint(0, len(data3)), np.random.randint(0, len(data3))]\n",
    "# DANE NR 3\n",
    "results = []\n",
    "for start_point in start_points:\n",
    "    _, best_cost = solve_tsp(data3, start_point=start_point, max_time=max_time, random_restart=random_restart, max_iterations=max_iterations)\n",
    "    results.append({\"PARAMETR\": start_point, \"WYNIK\": best_cost})\n",
    "\n",
    "# Tworzenie ramki danych\n",
    "point3 = pd.DataFrame(results)"
   ]
  },
  {
   "cell_type": "markdown",
   "metadata": {},
   "source": [
    "Zapis wyników w pliku EXCEL"
   ]
  },
  {
   "cell_type": "code",
   "execution_count": 23,
   "metadata": {},
   "outputs": [
    {
     "name": "stdout",
     "output_type": "stream",
     "text": [
      "Wyniki zostały zapisane w pliku NN.xlsx\n"
     ]
    }
   ],
   "source": [
    "res = {\n",
    "    \"Porównanie_metod+1\": c1,\n",
    "    \"max_iterations_1\": itterration1,\n",
    "    \"Restart_1\": restar1,\n",
    "    \"Point_1\" : point1,\n",
    "    \"Porównanie_metod_2\": c2,\n",
    "    \"max_iterations_2\": itterration2,\n",
    "    \"Restart_2\": restart2,\n",
    "    \"Point_2\" : point2,\n",
    "    \"Porównanie_metod_3\": c3,\n",
    "    \"max_iterations_3\": itterration3,\n",
    "    \"Restart_3\": restart3,\n",
    "    \"Point_3\" : point3,\n",
    "    \n",
    "}\n",
    "\n",
    "# Ścieżka do pliku Excel\n",
    "file_name = \"NN.xlsx\"\n",
    "\n",
    "# Zapisujemy dane do Excela\n",
    "with pd.ExcelWriter(file_name) as writer:\n",
    "    for sheet_name, df in res.items():\n",
    "        df.to_excel(writer, sheet_name=sheet_name, index=False)\n",
    "\n",
    "print(f\"Wyniki zostały zapisane w pliku {file_name}\")"
   ]
  },
  {
   "cell_type": "markdown",
   "metadata": {},
   "source": [
    "## Algorytm wspinaczki z multistartem (IHC)"
   ]
  },
  {
   "cell_type": "code",
   "execution_count": 24,
   "metadata": {},
   "outputs": [],
   "source": [
    "def local_search(route, distance_matrix, neighborhood_type=\"swap\"):\n",
    "  \n",
    "\n",
    "    # Mapowanie typów sąsiedztwa na funkcje\n",
    "    neighborhood_functions = {\n",
    "        \"swap\": swap_move,\n",
    "        \"two_opt\": two_opt_move,\n",
    "        \"insertion\": insertion_move\n",
    "    }\n",
    "    \n",
    "    if neighborhood_type not in neighborhood_functions:\n",
    "        raise ValueError(f\"Nieznany typ sąsiedztwa: {neighborhood_type}\")\n",
    "\n",
    "    neighbor_func = neighborhood_functions[neighborhood_type]\n",
    "\n",
    "    n = len(route)\n",
    "    best_distance = calculate_path_cost( distance_matrix, route)\n",
    "    improved = True\n",
    "\n",
    "    while improved:\n",
    "        improved = False\n",
    "        for neighbor in neighbor_func(route):\n",
    "            new_distance = calculate_path_cost( distance_matrix, neighbor)\n",
    "            if new_distance < best_distance:\n",
    "                route = neighbor\n",
    "                best_distance = new_distance\n",
    "                improved = True\n",
    "                break  # Skok do następnego sąsiedztwa\n",
    "\n",
    "    return route, best_distance\n",
    "\n",
    "\n",
    "\n",
    "    # Algorytm wspinaczki z multistartem dla problemu TSP z kryterium czasowym.\n",
    "    # Jeśli neighborhood_type=None, działa jak klasyczny IHC bez optymalizacji.\n",
    "    # distance_matrix: Macierz odległości między miastami.\n",
    "    # num_starts: Maksymalna liczba startów (iteracji).\n",
    "    # neighborhood_type: Typ sąsiedztwa (\"swap\", \"two_opt\", \"insertion\").\n",
    "    # time_limit: Maksymalny czas działania algorytmu w sekundach.\n",
    "   \n",
    "def iterated_hill_climbing(distance_matrix, num_starts=100, neighborhood_type=\"swap\", time_limit=None):\n",
    "  \n",
    "    n = len(distance_matrix)\n",
    "    best_route = None\n",
    "    best_distance = float('inf')\n",
    "\n",
    "    start_time = time.time()  # Zapisz czas rozpoczęcia\n",
    "\n",
    "    for start in range(num_starts):\n",
    "        # Sprawdzenie limitu czasu\n",
    "        if time_limit and (time.time() - start_time > time_limit):\n",
    "            print(f\"Przekroczono limit czasu ({time_limit} s).\")\n",
    "            break\n",
    "\n",
    "        # Losowe rozwiązanie początkowe\n",
    "        initial_route = list(range(n))\n",
    "        random.shuffle(initial_route)\n",
    "\n",
    "        # Lokalna wspinaczka lub brak optymalizacji\n",
    "        local_route, local_distance = local_search(\n",
    "            initial_route, distance_matrix, neighborhood_type\n",
    "        )\n",
    "\n",
    "        # Aktualizacja najlepszego rozwiązania\n",
    "        if local_distance < best_distance:\n",
    "            best_route = local_route\n",
    "            best_distance = local_distance\n",
    "\n",
    "    return best_route, best_distance"
   ]
  },
  {
   "cell_type": "code",
   "execution_count": null,
   "metadata": {},
   "outputs": [],
   "source": []
  },
  {
   "cell_type": "markdown",
   "metadata": {},
   "source": [
    "### Generowanie wyników "
   ]
  },
  {
   "cell_type": "markdown",
   "metadata": {},
   "source": [
    "Za podstawowe dane przyjmujemy :\n",
    "\n",
    "* time_limit = 1000\n",
    "\n",
    "* num_starts = 10 000 \n",
    "\n",
    "Nastepnie badane są wpływy poszczególnych parametrów "
   ]
  },
  {
   "cell_type": "code",
   "execution_count": null,
   "metadata": {},
   "outputs": [],
   "source": [
    "\n"
   ]
  },
  {
   "cell_type": "code",
   "execution_count": null,
   "metadata": {},
   "outputs": [],
   "source": [
    "\n"
   ]
  },
  {
   "cell_type": "code",
   "execution_count": null,
   "metadata": {},
   "outputs": [],
   "source": []
  },
  {
   "cell_type": "code",
   "execution_count": 52,
   "metadata": {},
   "outputs": [],
   "source": [
    "# Metoda SWAP\n",
    "swap_p_1, swap_c_1 = iterated_hill_climbing(data1, num_starts=150,neighborhood_type= \"swap\", time_limit=1000)"
   ]
  },
  {
   "cell_type": "code",
   "execution_count": 53,
   "metadata": {},
   "outputs": [],
   "source": [
    "swap_p_2, swap_c_2 = iterated_hill_climbing(data2, num_starts=150,neighborhood_type= \"swap\", time_limit=1000)"
   ]
  },
  {
   "cell_type": "code",
   "execution_count": 54,
   "metadata": {},
   "outputs": [
    {
     "name": "stdout",
     "output_type": "stream",
     "text": [
      "Przekroczono limit czasu (1000 s).\n"
     ]
    }
   ],
   "source": [
    "swap_p_3, swap_c_3 = iterated_hill_climbing(data3, num_starts=150,neighborhood_type= \"swap\", time_limit=1000)"
   ]
  },
  {
   "cell_type": "code",
   "execution_count": 46,
   "metadata": {},
   "outputs": [],
   "source": [
    "\n"
   ]
  },
  {
   "cell_type": "code",
   "execution_count": 55,
   "metadata": {},
   "outputs": [],
   "source": [
    "# Metoda Opt-2\n",
    "opt_p_1, opt_c_1 = iterated_hill_climbing(data1, num_starts=150,neighborhood_type= \"two_opt\", time_limit=1000)"
   ]
  },
  {
   "cell_type": "code",
   "execution_count": 56,
   "metadata": {},
   "outputs": [],
   "source": [
    "opt_p_2, opt_c_2 = iterated_hill_climbing(data2, num_starts=150,neighborhood_type= \"two_opt\", time_limit=1000)"
   ]
  },
  {
   "cell_type": "code",
   "execution_count": 57,
   "metadata": {},
   "outputs": [
    {
     "ename": "KeyboardInterrupt",
     "evalue": "",
     "output_type": "error",
     "traceback": [
      "\u001b[1;31m---------------------------------------------------------------------------\u001b[0m",
      "\u001b[1;31mKeyboardInterrupt\u001b[0m                         Traceback (most recent call last)",
      "Cell \u001b[1;32mIn[57], line 1\u001b[0m\n\u001b[1;32m----> 1\u001b[0m opt_p_3, opt_c_3 \u001b[38;5;241m=\u001b[39m iterated_hill_climbing(data3, num_starts\u001b[38;5;241m=\u001b[39m\u001b[38;5;241m150\u001b[39m,neighborhood_type\u001b[38;5;241m=\u001b[39m \u001b[38;5;124m\"\u001b[39m\u001b[38;5;124mtwo_opt\u001b[39m\u001b[38;5;124m\"\u001b[39m, time_limit\u001b[38;5;241m=\u001b[39m\u001b[38;5;241m1000\u001b[39m)\n",
      "Cell \u001b[1;32mIn[24], line 60\u001b[0m, in \u001b[0;36miterated_hill_climbing\u001b[1;34m(distance_matrix, num_starts, neighborhood_type, time_limit)\u001b[0m\n\u001b[0;32m     57\u001b[0m random\u001b[38;5;241m.\u001b[39mshuffle(initial_route)\n\u001b[0;32m     59\u001b[0m \u001b[38;5;66;03m# Lokalna wspinaczka lub brak optymalizacji\u001b[39;00m\n\u001b[1;32m---> 60\u001b[0m local_route, local_distance \u001b[38;5;241m=\u001b[39m local_search(\n\u001b[0;32m     61\u001b[0m     initial_route, distance_matrix, neighborhood_type\n\u001b[0;32m     62\u001b[0m )\n\u001b[0;32m     64\u001b[0m \u001b[38;5;66;03m# Aktualizacja najlepszego rozwiązania\u001b[39;00m\n\u001b[0;32m     65\u001b[0m \u001b[38;5;28;01mif\u001b[39;00m local_distance \u001b[38;5;241m<\u001b[39m best_distance:\n",
      "Cell \u001b[1;32mIn[24], line 23\u001b[0m, in \u001b[0;36mlocal_search\u001b[1;34m(route, distance_matrix, neighborhood_type)\u001b[0m\n\u001b[0;32m     21\u001b[0m improved \u001b[38;5;241m=\u001b[39m \u001b[38;5;28;01mFalse\u001b[39;00m\n\u001b[0;32m     22\u001b[0m \u001b[38;5;28;01mfor\u001b[39;00m neighbor \u001b[38;5;129;01min\u001b[39;00m neighbor_func(route):\n\u001b[1;32m---> 23\u001b[0m     new_distance \u001b[38;5;241m=\u001b[39m calculate_path_cost( distance_matrix, neighbor)\n\u001b[0;32m     24\u001b[0m     \u001b[38;5;28;01mif\u001b[39;00m new_distance \u001b[38;5;241m<\u001b[39m best_distance:\n\u001b[0;32m     25\u001b[0m         route \u001b[38;5;241m=\u001b[39m neighbor\n",
      "Cell \u001b[1;32mIn[4], line 2\u001b[0m, in \u001b[0;36mcalculate_path_cost\u001b[1;34m(matrix, path)\u001b[0m\n\u001b[0;32m      1\u001b[0m \u001b[38;5;28;01mdef\u001b[39;00m \u001b[38;5;21mcalculate_path_cost\u001b[39m(matrix, path):\n\u001b[1;32m----> 2\u001b[0m     \u001b[38;5;28;01mreturn\u001b[39;00m \u001b[38;5;28msum\u001b[39m(matrix[path[i \u001b[38;5;241m-\u001b[39m \u001b[38;5;241m1\u001b[39m]][path[i]] \u001b[38;5;28;01mfor\u001b[39;00m i \u001b[38;5;129;01min\u001b[39;00m \u001b[38;5;28mrange\u001b[39m(\u001b[38;5;28mlen\u001b[39m(path))) \u001b[38;5;241m+\u001b[39m matrix[path[\u001b[38;5;241m-\u001b[39m\u001b[38;5;241m1\u001b[39m]][path[\u001b[38;5;241m0\u001b[39m]]\n",
      "Cell \u001b[1;32mIn[4], line 2\u001b[0m, in \u001b[0;36m<genexpr>\u001b[1;34m(.0)\u001b[0m\n\u001b[0;32m      1\u001b[0m \u001b[38;5;28;01mdef\u001b[39;00m \u001b[38;5;21mcalculate_path_cost\u001b[39m(matrix, path):\n\u001b[1;32m----> 2\u001b[0m     \u001b[38;5;28;01mreturn\u001b[39;00m \u001b[38;5;28msum\u001b[39m(matrix[path[i \u001b[38;5;241m-\u001b[39m \u001b[38;5;241m1\u001b[39m]][path[i]] \u001b[38;5;28;01mfor\u001b[39;00m i \u001b[38;5;129;01min\u001b[39;00m \u001b[38;5;28mrange\u001b[39m(\u001b[38;5;28mlen\u001b[39m(path))) \u001b[38;5;241m+\u001b[39m matrix[path[\u001b[38;5;241m-\u001b[39m\u001b[38;5;241m1\u001b[39m]][path[\u001b[38;5;241m0\u001b[39m]]\n",
      "\u001b[1;31mKeyboardInterrupt\u001b[0m: "
     ]
    }
   ],
   "source": [
    "opt_p_3, opt_c_3 = iterated_hill_climbing(data3, num_starts=150,neighborhood_type= \"two_opt\", time_limit=1000)"
   ]
  },
  {
   "cell_type": "code",
   "execution_count": null,
   "metadata": {},
   "outputs": [],
   "source": []
  },
  {
   "cell_type": "code",
   "execution_count": 31,
   "metadata": {},
   "outputs": [],
   "source": [
    "# Metoda insertion\n",
    "\n",
    "ins_p_1, ins_c_1 = iterated_hill_climbing(data1, num_starts=150,neighborhood_type= \"insertion\", time_limit=1000)"
   ]
  },
  {
   "cell_type": "code",
   "execution_count": 32,
   "metadata": {},
   "outputs": [],
   "source": [
    "ins_p_2, ins_c_2 = iterated_hill_climbing(data2, num_starts=150,neighborhood_type= \"insertion\", time_limit=1000)"
   ]
  },
  {
   "cell_type": "code",
   "execution_count": 33,
   "metadata": {},
   "outputs": [
    {
     "name": "stdout",
     "output_type": "stream",
     "text": [
      "Przekroczono limit czasu (1000 s).\n"
     ]
    }
   ],
   "source": [
    "\n",
    "ins_p_3, ins_c_3 = iterated_hill_climbing(data3, num_starts=150, neighborhood_type= \"insertion\", time_limit=1000)"
   ]
  },
  {
   "cell_type": "code",
   "execution_count": null,
   "metadata": {},
   "outputs": [],
   "source": [
    "W9 = {\n",
    "    \"Swap\" : [swap_c_1, swap_c_2, swap_c_3],\n",
    "    \"Opt\": [opt_c_1, opt_c_2, opt_c_3],\n",
    "    \"Insertion\" : [ins_c_1, ins_c_2, ins_c_3]\n",
    "}\n",
    "\n",
    "metody = pd.DataFrame(W9)"
   ]
  },
  {
   "cell_type": "markdown",
   "metadata": {},
   "source": [
    "Badanie wpływu parametru num_starts "
   ]
  },
  {
   "cell_type": "code",
   "execution_count": 34,
   "metadata": {},
   "outputs": [
    {
     "name": "stdout",
     "output_type": "stream",
     "text": [
      "Przekroczono limit czasu (1000 s).\n",
      "Przekroczono limit czasu (1000 s).\n",
      "Przekroczono limit czasu (1000 s).\n",
      "Przekroczono limit czasu (1000 s).\n",
      "Przekroczono limit czasu (1000 s).\n",
      "Przekroczono limit czasu (1000 s).\n",
      "Przekroczono limit czasu (1000 s).\n",
      "Przekroczono limit czasu (1000 s).\n"
     ]
    }
   ],
   "source": [
    "# Stałe parametry\n",
    "time_limit = 1000\n",
    "\n",
    "# DANE NR 1 \n",
    "results = []\n",
    "for num_starts in range(1, 200,  20):\n",
    "    _, best_cost = iterated_hill_climbing(data1, num_starts=num_starts ,neighborhood_type= \"two_opt\", time_limit=time_limit)\n",
    "    results.append({\"PARAMETR\": num_starts, \"WYNIK\": best_cost})\n",
    "\n",
    "\n",
    "itterration1 = pd.DataFrame(results)\n",
    "\n",
    "\n",
    "# DANE NR 2\n",
    "\n",
    "results = []\n",
    "for num_starts in range(1, 200,  20):\n",
    "    _, best_cost = iterated_hill_climbing(data2, num_starts=num_starts ,neighborhood_type= \"two_opt\", time_limit=time_limit)\n",
    "    results.append({\"PARAMETR\": num_starts, \"WYNIK\": best_cost})\n",
    "\n",
    "# Tworzenie ramki danych\n",
    "itterration2 = pd.DataFrame(results)\n",
    "\n",
    "\n",
    "# DANE NR 3\n",
    "\n",
    "results = []\n",
    "for num_starts in range(1, 200,  20):\n",
    "    _, best_cost = iterated_hill_climbing(data3, num_starts=num_starts ,neighborhood_type= \"two_opt\", time_limit=time_limit)\n",
    "    results.append({\"PARAMETR\": num_starts, \"WYNIK\": best_cost})\n",
    "\n",
    "# Tworzenie ramki danych\n",
    "itterration3 = pd.DataFrame(results)"
   ]
  },
  {
   "cell_type": "code",
   "execution_count": 50,
   "metadata": {},
   "outputs": [],
   "source": [
    "merged_itt = itterration1.merge(itterration2, on=\"PARAMETR\").merge(itterration3, on=\"PARAMETR\")"
   ]
  },
  {
   "cell_type": "markdown",
   "metadata": {},
   "source": [
    "Badanie wpływu parametru time_limit"
   ]
  },
  {
   "cell_type": "code",
   "execution_count": 35,
   "metadata": {},
   "outputs": [],
   "source": [
    "# # Stałe parametry\n",
    "# num_starts = 1000000\n",
    "\n",
    "# # DANE NR 1 \n",
    "# results = []\n",
    "# for time_limit in range(0, 1000, 100):\n",
    "#     _, best_cost = iterated_hill_climbing(data1, num_starts=num_starts ,neighborhood_type= \"two_opt\", time_limit=time_limit)\n",
    "#     results.append({\"PARAMETR\": time_limit, \"WYNIK\": best_cost})\n",
    "\n",
    "\n",
    "# time1 = pd.DataFrame(results)\n",
    "\n",
    "\n",
    "# # DANE NR 2\n",
    "\n",
    "# results = []\n",
    "# for time_limit in range(0, 1000,  100):\n",
    "#     _, best_cost = iterated_hill_climbing(data2, num_starts=num_starts ,neighborhood_type= \"two_opt\", time_limit=time_limit)\n",
    "#     results.append({\"PARAMETR\": time_limit, \"WYNIK\": best_cost})\n",
    "\n",
    "# # Tworzenie ramki danych\n",
    "# time2 = pd.DataFrame(results)\n",
    "\n",
    "\n",
    "# # DANE NR 3\n",
    "\n",
    "# results = []\n",
    "# for time_limit in range(0, 1000, 100):\n",
    "#     _, best_cost = iterated_hill_climbing(data3, num_starts=num_starts ,neighborhood_type= \"two_opt\", time_limit=time_limit)\n",
    "#     results.append({\"PARAMETR\": time_limit, \"WYNIK\": best_cost})\n",
    "\n",
    "# # Tworzenie ramki danych\n",
    "# time3 = pd.DataFrame(results)\n",
    "\n"
   ]
  },
  {
   "cell_type": "code",
   "execution_count": 51,
   "metadata": {},
   "outputs": [
    {
     "name": "stdout",
     "output_type": "stream",
     "text": [
      "Wyniki zostały zapisane w pliku IHC.xlsx\n"
     ]
    }
   ],
   "source": [
    "resu = {\n",
    "    \"Porównanie_metod\": metody,\n",
    "    \"max_iterations\": merged_itt   \n",
    "}\n",
    "\n",
    "# Ścieżka do pliku Excel\n",
    "file_name = \"IHC.xlsx\"\n",
    "\n",
    "# Zapisujemy dane do Excela\n",
    "with pd.ExcelWriter(file_name) as writer:\n",
    "    for sheet_name, df in resu.items():\n",
    "        df.to_excel(writer, sheet_name=sheet_name, index=False)\n",
    "\n",
    "print(f\"Wyniki zostały zapisane w pliku {file_name}\")"
   ]
  },
  {
   "cell_type": "markdown",
   "metadata": {},
   "source": [
    "## Algorytm symulowanego wyżarzania (SA)"
   ]
  },
  {
   "cell_type": "code",
   "execution_count": 65,
   "metadata": {},
   "outputs": [
    {
     "ename": "IndentationError",
     "evalue": "expected an indented block after function definition on line 30 (3752839163.py, line 39)",
     "output_type": "error",
     "traceback": [
      "\u001b[1;36m  Cell \u001b[1;32mIn[65], line 39\u001b[1;36m\u001b[0m\n\u001b[1;33m    n = len(distance_matrix)\u001b[0m\n\u001b[1;37m    ^\u001b[0m\n\u001b[1;31mIndentationError\u001b[0m\u001b[1;31m:\u001b[0m expected an indented block after function definition on line 30\n"
     ]
    }
   ],
   "source": [
    "\n",
    " \n",
    "    # Algorytm wyżarzania dla problemu komiwojażera (TSP).\n",
    "\n",
    "    \n",
    "    # :param distance_matrix: Macierz odległości między miastami.\n",
    "    # :param initial_temperature: Temperatura początkowa.\n",
    "\n",
    "# To początkowa wartość temperatury, która kontroluje, jak duża \n",
    "# jest początkowa tolerancja algorytmu na akceptowanie gorszych \n",
    "# rozwiązań. Wysoka temperatura pozwala eksplorować więcej rozwiązań,\n",
    "# nawet tych o wyższych kosztach, unikając zbyt wczesnego utknięcia w minimum lokalnym.\n",
    "\n",
    "    # :param cooling_rate: Współczynnik chłodzenia (wartość w zakresie (0, 1)).\n",
    "\n",
    "# To współczynnik określający, jak szybko temperatura spada\n",
    "# w każdej iteracji. Jest liczbą z zakresu (0, 1). Im mniejszy \n",
    "# cooling_rate, tym szybciej temperatura spada, co może prowadzić\n",
    "# do wcześniejszego zatrzymania algorytmu, ograniczając eksplorację przestrzeni rozwiązań.\n",
    "\n",
    "    # :param max_iterations: Maksymalna liczba iteracji.\n",
    "    # :param min_temperature: Minimalna temperatura.\n",
    "\n",
    "# To próg, przy którym algorytm przestaje obniżać temperaturę\n",
    "# i kończy działanie. Oznacza, że eksploracja kończy się, gdy\n",
    "# temperatura spada poniżej tej wartości.\n",
    "\n",
    "    # :param time_limit: Maksymalny czas działania algorytmu w sekundach.\n",
    "    # :param move_type: Typ ruchu do generowania sąsiada (\"swap\", \"insertion\", \"two_opt\").\n",
    "    # :return: Najlepsze rozwiązanie i jego koszt.\n",
    "\n",
    "\n"
   ]
  },
  {
   "cell_type": "code",
   "execution_count": 88,
   "metadata": {},
   "outputs": [],
   "source": [
    "def simulated_annealing(\n",
    "    distance_matrix,\n",
    "    initial_temperature=1000,\n",
    "    cooling_rate=0.95,\n",
    "    max_iterations=1000,\n",
    "    min_temperature=1e-3,\n",
    "    time_limit=None,\n",
    "    move_type=\"swap\"  \n",
    "):\n",
    "    n = len(distance_matrix)\n",
    "    initial_route = list(range(n))\n",
    "    random.shuffle(initial_route)\n",
    "    \n",
    "    # Mapowanie typu ruchu na odpowiednią funkcję generatora sąsiadów\n",
    "    move_generators = {\n",
    "        \"swap\": swap_move,\n",
    "        \"two_opt\": two_opt_move,\n",
    "        \"insertion\": insertion_move\n",
    "    }\n",
    "\n",
    "    if move_type not in move_generators:\n",
    "        raise ValueError(f\"Nieznany typ ruchu: {move_type}\")\n",
    "\n",
    "    move_generator = move_generators[move_type]\n",
    "\n",
    "    current_solution = initial_route\n",
    "    current_cost = calculate_path_cost(distance_matrix, current_solution)\n",
    "    best_solution = current_solution[:]\n",
    "    best_cost = current_cost\n",
    "\n",
    "    temperature = initial_temperature\n",
    "    start_time = time.time()\n",
    "\n",
    "    for iteration in range(max_iterations):\n",
    "        if time_limit and (time.time() - start_time > time_limit):\n",
    "            print(\"Przekroczono limit czasu.\")\n",
    "            break\n",
    "\n",
    "        if temperature < min_temperature:\n",
    "            print(\"Temperatura osiągnęła wartość minimalną.\")\n",
    "            break\n",
    "\n",
    "        # Generowanie sąsiada na podstawie wybranego generatora ruchów\n",
    "        neighbors = list(move_generator(current_solution))\n",
    "        neighbor = random.choice(neighbors)\n",
    "        neighbor_cost = calculate_path_cost(distance_matrix, neighbor)\n",
    "\n",
    "        delta = neighbor_cost - current_cost\n",
    "        acceptance_probability = math.exp(-delta / temperature) if delta > 0 else 1\n",
    "\n",
    "        if random.random() < acceptance_probability:\n",
    "            current_solution = neighbor\n",
    "            current_cost = neighbor_cost\n",
    "\n",
    "        if current_cost < best_cost:\n",
    "            best_solution = current_solution[:]\n",
    "            best_cost = current_cost\n",
    "\n",
    "        temperature *= cooling_rate\n",
    "\n",
    "        if iteration % 100 == 0:\n",
    "            print(f\"Iteracja {iteration}, najlepszy koszt: {best_cost}, temperatura: {temperature:.2f}\")\n",
    "\n",
    "    return best_solution, best_cost\n"
   ]
  },
  {
   "cell_type": "markdown",
   "metadata": {},
   "source": [
    "### Generowanie wyników"
   ]
  },
  {
   "cell_type": "markdown",
   "metadata": {},
   "source": [
    "Za podstawowe dane przyjmujemy :\n",
    "\n",
    "* initial_temperature= 10000,\n",
    "\n",
    "* cooling_rate= 0.95,\n",
    "\n",
    "* max_iterations= 10000,\n",
    "\n",
    "* min_temperature= 0.00001,\n",
    "\n",
    "Nastepnie badane są wpływy poszczególnych parametrów "
   ]
  },
  {
   "cell_type": "code",
   "execution_count": 89,
   "metadata": {},
   "outputs": [
    {
     "name": "stdout",
     "output_type": "stream",
     "text": [
      "Iteracja 0, najlepszy koszt: 50773, temperatura: 9900.00\n",
      "Iteracja 100, najlepszy koszt: 45151, temperatura: 3623.72\n",
      "Iteracja 200, najlepszy koszt: 42139, temperatura: 1326.40\n",
      "Iteracja 300, najlepszy koszt: 33232, temperatura: 485.50\n",
      "Iteracja 400, najlepszy koszt: 32709, temperatura: 177.71\n",
      "Iteracja 500, najlepszy koszt: 28270, temperatura: 65.05\n",
      "Iteracja 600, najlepszy koszt: 22138, temperatura: 23.81\n",
      "Iteracja 700, najlepszy koszt: 20636, temperatura: 8.72\n",
      "Iteracja 800, najlepszy koszt: 20483, temperatura: 3.19\n",
      "Iteracja 900, najlepszy koszt: 20094, temperatura: 1.17\n",
      "Iteracja 1000, najlepszy koszt: 19718, temperatura: 0.43\n",
      "Iteracja 1100, najlepszy koszt: 19136, temperatura: 0.16\n",
      "Iteracja 1200, najlepszy koszt: 18942, temperatura: 0.06\n",
      "Iteracja 1300, najlepszy koszt: 18930, temperatura: 0.02\n",
      "Iteracja 1400, najlepszy koszt: 18827, temperatura: 0.01\n",
      "Iteracja 1500, najlepszy koszt: 18827, temperatura: 0.00\n",
      "Iteracja 1600, najlepszy koszt: 18765, temperatura: 0.00\n",
      "Iteracja 1700, najlepszy koszt: 18692, temperatura: 0.00\n",
      "Iteracja 1800, najlepszy koszt: 18528, temperatura: 0.00\n",
      "Iteracja 1900, najlepszy koszt: 18382, temperatura: 0.00\n",
      "Iteracja 2000, najlepszy koszt: 18220, temperatura: 0.00\n",
      "Temperatura osiągnęła wartość minimalną.\n"
     ]
    }
   ],
   "source": [
    "swap_p_1, swap_c_1= simulated_annealing(\n",
    "        data1,\n",
    "        initial_temperature= 10000,\n",
    "        cooling_rate=0.99,\n",
    "        max_iterations=10000,\n",
    "        min_temperature=0.00001,\n",
    "        time_limit= None,\n",
    "        move_type= \"swap\"\n",
    "    )"
   ]
  },
  {
   "cell_type": "code",
   "execution_count": 90,
   "metadata": {},
   "outputs": [
    {
     "name": "stdout",
     "output_type": "stream",
     "text": [
      "Iteracja 0, najlepszy koszt: 606012.4615383524, temperatura: 9900.00\n",
      "Iteracja 100, najlepszy koszt: 468676.5122427727, temperatura: 3623.72\n",
      "Iteracja 200, najlepszy koszt: 413161.28589745396, temperatura: 1326.40\n",
      "Iteracja 300, najlepszy koszt: 386208.37265016144, temperatura: 485.50\n",
      "Iteracja 400, najlepszy koszt: 342853.5666960335, temperatura: 177.71\n",
      "Iteracja 500, najlepszy koszt: 315086.0290880598, temperatura: 65.05\n",
      "Iteracja 600, najlepszy koszt: 303736.84745414037, temperatura: 23.81\n",
      "Iteracja 700, najlepszy koszt: 297326.47341677954, temperatura: 8.72\n",
      "Iteracja 800, najlepszy koszt: 287814.4290794217, temperatura: 3.19\n",
      "Iteracja 900, najlepszy koszt: 280260.92829711584, temperatura: 1.17\n",
      "Iteracja 1000, najlepszy koszt: 277977.2902768642, temperatura: 0.43\n",
      "Iteracja 1100, najlepszy koszt: 273885.20933472825, temperatura: 0.16\n",
      "Iteracja 1200, najlepszy koszt: 271232.2515108877, temperatura: 0.06\n",
      "Iteracja 1300, najlepszy koszt: 269283.2015805077, temperatura: 0.02\n",
      "Iteracja 1400, najlepszy koszt: 267099.4113849989, temperatura: 0.01\n",
      "Iteracja 1500, najlepszy koszt: 265966.3293354438, temperatura: 0.00\n",
      "Iteracja 1600, najlepszy koszt: 263714.5479735249, temperatura: 0.00\n",
      "Iteracja 1700, najlepszy koszt: 256726.1789840382, temperatura: 0.00\n",
      "Iteracja 1800, najlepszy koszt: 255946.40113652707, temperatura: 0.00\n",
      "Iteracja 1900, najlepszy koszt: 245482.81220839694, temperatura: 0.00\n",
      "Iteracja 2000, najlepszy koszt: 241531.11320187044, temperatura: 0.00\n",
      "Temperatura osiągnęła wartość minimalną.\n"
     ]
    }
   ],
   "source": [
    "swap_p_2, swap_c_2= simulated_annealing(\n",
    "        data2,\n",
    "        initial_temperature= 10000,\n",
    "        cooling_rate=0.99,\n",
    "        max_iterations=10000,\n",
    "        min_temperature=0.00001,\n",
    "        time_limit= None,\n",
    "        move_type= \"swap\"\n",
    "    )"
   ]
  },
  {
   "cell_type": "code",
   "execution_count": 91,
   "metadata": {},
   "outputs": [
    {
     "name": "stdout",
     "output_type": "stream",
     "text": [
      "Iteracja 0, najlepszy koszt: 634368.7713949656, temperatura: 9900.00\n",
      "Iteracja 100, najlepszy koszt: 570920.4566910813, temperatura: 3623.72\n",
      "Iteracja 200, najlepszy koszt: 512675.41667674796, temperatura: 1326.40\n",
      "Iteracja 300, najlepszy koszt: 432840.33802583703, temperatura: 485.50\n",
      "Iteracja 400, najlepszy koszt: 410330.5516985676, temperatura: 177.71\n",
      "Iteracja 500, najlepszy koszt: 399782.9492674563, temperatura: 65.05\n",
      "Iteracja 600, najlepszy koszt: 395427.1525018052, temperatura: 23.81\n",
      "Iteracja 700, najlepszy koszt: 386056.60848754604, temperatura: 8.72\n",
      "Iteracja 800, najlepszy koszt: 372771.03328075405, temperatura: 3.19\n",
      "Iteracja 900, najlepszy koszt: 371472.50138322904, temperatura: 1.17\n",
      "Iteracja 1000, najlepszy koszt: 359366.65890511795, temperatura: 0.43\n",
      "Iteracja 1100, najlepszy koszt: 345164.1908900171, temperatura: 0.16\n",
      "Iteracja 1200, najlepszy koszt: 335715.4476852102, temperatura: 0.06\n",
      "Iteracja 1300, najlepszy koszt: 323062.24403701, temperatura: 0.02\n",
      "Iteracja 1400, najlepszy koszt: 318762.78774468426, temperatura: 0.01\n",
      "Iteracja 1500, najlepszy koszt: 312465.7296190623, temperatura: 0.00\n",
      "Iteracja 1600, najlepszy koszt: 311527.76476399583, temperatura: 0.00\n",
      "Iteracja 1700, najlepszy koszt: 290698.55429477623, temperatura: 0.00\n",
      "Iteracja 1800, najlepszy koszt: 286353.10587787855, temperatura: 0.00\n",
      "Iteracja 1900, najlepszy koszt: 282895.3170502876, temperatura: 0.00\n",
      "Iteracja 2000, najlepszy koszt: 280475.61891437427, temperatura: 0.00\n",
      "Temperatura osiągnęła wartość minimalną.\n"
     ]
    }
   ],
   "source": [
    "swap_p_3, swap_c_3= simulated_annealing(\n",
    "        data3,\n",
    "        initial_temperature= 10000,\n",
    "        cooling_rate=0.99,\n",
    "        max_iterations=10000,\n",
    "        min_temperature=0.00001,\n",
    "        time_limit= None,\n",
    "        move_type= \"swap\"\n",
    "    )"
   ]
  },
  {
   "cell_type": "code",
   "execution_count": 92,
   "metadata": {},
   "outputs": [
    {
     "name": "stdout",
     "output_type": "stream",
     "text": [
      "Iteracja 0, najlepszy koszt: 48896, temperatura: 9900.00\n",
      "Iteracja 100, najlepszy koszt: 43121, temperatura: 3623.72\n",
      "Iteracja 200, najlepszy koszt: 41391, temperatura: 1326.40\n",
      "Iteracja 300, najlepszy koszt: 34680, temperatura: 485.50\n",
      "Iteracja 400, najlepszy koszt: 27004, temperatura: 177.71\n",
      "Iteracja 500, najlepszy koszt: 22304, temperatura: 65.05\n",
      "Iteracja 600, najlepszy koszt: 20126, temperatura: 23.81\n",
      "Iteracja 700, najlepszy koszt: 18980, temperatura: 8.72\n",
      "Iteracja 800, najlepszy koszt: 17981, temperatura: 3.19\n",
      "Iteracja 900, najlepszy koszt: 16028, temperatura: 1.17\n",
      "Iteracja 1000, najlepszy koszt: 15638, temperatura: 0.43\n",
      "Iteracja 1100, najlepszy koszt: 14373, temperatura: 0.16\n",
      "Iteracja 1200, najlepszy koszt: 14144, temperatura: 0.06\n",
      "Iteracja 1300, najlepszy koszt: 13872, temperatura: 0.02\n",
      "Iteracja 1400, najlepszy koszt: 13348, temperatura: 0.01\n",
      "Iteracja 1500, najlepszy koszt: 12790, temperatura: 0.00\n",
      "Iteracja 1600, najlepszy koszt: 12790, temperatura: 0.00\n",
      "Iteracja 1700, najlepszy koszt: 12790, temperatura: 0.00\n",
      "Iteracja 1800, najlepszy koszt: 12465, temperatura: 0.00\n",
      "Iteracja 1900, najlepszy koszt: 12119, temperatura: 0.00\n",
      "Iteracja 2000, najlepszy koszt: 12106, temperatura: 0.00\n",
      "Temperatura osiągnęła wartość minimalną.\n"
     ]
    }
   ],
   "source": [
    "opt_p_1, opt_c_1= simulated_annealing(\n",
    "        data1,\n",
    "        initial_temperature= 10000,\n",
    "        cooling_rate=0.99,\n",
    "        max_iterations=10000,\n",
    "        min_temperature=0.00001,\n",
    "        time_limit= None,\n",
    "        move_type= \"two_opt\"\n",
    "    )"
   ]
  },
  {
   "cell_type": "code",
   "execution_count": 93,
   "metadata": {},
   "outputs": [
    {
     "name": "stdout",
     "output_type": "stream",
     "text": [
      "Iteracja 0, najlepszy koszt: 542274.7237886683, temperatura: 9900.00\n",
      "Iteracja 100, najlepszy koszt: 463021.17048022134, temperatura: 3623.72\n",
      "Iteracja 200, najlepszy koszt: 372920.4720996408, temperatura: 1326.40\n",
      "Iteracja 300, najlepszy koszt: 345936.905799256, temperatura: 485.50\n",
      "Iteracja 400, najlepszy koszt: 305836.50563463825, temperatura: 177.71\n",
      "Iteracja 500, najlepszy koszt: 291632.449347409, temperatura: 65.05\n",
      "Iteracja 600, najlepszy koszt: 272003.5543813665, temperatura: 23.81\n",
      "Iteracja 700, najlepszy koszt: 262177.59519099473, temperatura: 8.72\n",
      "Iteracja 800, najlepszy koszt: 242476.23852048683, temperatura: 3.19\n",
      "Iteracja 900, najlepszy koszt: 235190.8103608669, temperatura: 1.17\n",
      "Iteracja 1000, najlepszy koszt: 227793.39684139556, temperatura: 0.43\n",
      "Iteracja 1100, najlepszy koszt: 216073.4990141137, temperatura: 0.16\n",
      "Iteracja 1200, najlepszy koszt: 212744.77760914166, temperatura: 0.06\n",
      "Iteracja 1300, najlepszy koszt: 204965.1486123915, temperatura: 0.02\n",
      "Iteracja 1400, najlepszy koszt: 201027.66185398735, temperatura: 0.01\n",
      "Iteracja 1500, najlepszy koszt: 196753.7382326649, temperatura: 0.00\n",
      "Iteracja 1600, najlepszy koszt: 184514.30283138674, temperatura: 0.00\n",
      "Iteracja 1700, najlepszy koszt: 183865.56021788938, temperatura: 0.00\n",
      "Iteracja 1800, najlepszy koszt: 182179.84782796938, temperatura: 0.00\n",
      "Iteracja 1900, najlepszy koszt: 174518.4205368703, temperatura: 0.00\n",
      "Iteracja 2000, najlepszy koszt: 171043.01223363247, temperatura: 0.00\n",
      "Temperatura osiągnęła wartość minimalną.\n"
     ]
    }
   ],
   "source": [
    "opt_p_2, opt_c_2= simulated_annealing(\n",
    "        data2,\n",
    "        initial_temperature= 10000,\n",
    "        cooling_rate=0.99,\n",
    "        max_iterations=10000,\n",
    "        min_temperature=0.00001,\n",
    "        time_limit= None,\n",
    "        move_type= \"two_opt\"\n",
    "    )"
   ]
  },
  {
   "cell_type": "code",
   "execution_count": 94,
   "metadata": {},
   "outputs": [
    {
     "name": "stdout",
     "output_type": "stream",
     "text": [
      "Iteracja 0, najlepszy koszt: 669575.57897564, temperatura: 9900.00\n",
      "Iteracja 100, najlepszy koszt: 590038.5593642683, temperatura: 3623.72\n",
      "Iteracja 200, najlepszy koszt: 543553.894313313, temperatura: 1326.40\n",
      "Iteracja 300, najlepszy koszt: 508215.3816900075, temperatura: 485.50\n",
      "Iteracja 400, najlepszy koszt: 477698.6121935424, temperatura: 177.71\n",
      "Iteracja 500, najlepszy koszt: 429765.64482637896, temperatura: 65.05\n",
      "Iteracja 600, najlepszy koszt: 401945.02102190605, temperatura: 23.81\n",
      "Iteracja 700, najlepszy koszt: 386028.8447689344, temperatura: 8.72\n",
      "Iteracja 800, najlepszy koszt: 371195.6992623328, temperatura: 3.19\n",
      "Iteracja 900, najlepszy koszt: 361612.6036991779, temperatura: 1.17\n",
      "Iteracja 1000, najlepszy koszt: 357057.8789856272, temperatura: 0.43\n",
      "Iteracja 1100, najlepszy koszt: 329163.32503587066, temperatura: 0.16\n",
      "Iteracja 1200, najlepszy koszt: 317063.56118203205, temperatura: 0.06\n",
      "Iteracja 1300, najlepszy koszt: 303416.1701706177, temperatura: 0.02\n",
      "Iteracja 1400, najlepszy koszt: 297961.0301657919, temperatura: 0.01\n",
      "Iteracja 1500, najlepszy koszt: 295433.00625478715, temperatura: 0.00\n",
      "Iteracja 1600, najlepszy koszt: 287294.62862324866, temperatura: 0.00\n",
      "Iteracja 1700, najlepszy koszt: 281656.9993473376, temperatura: 0.00\n",
      "Iteracja 1800, najlepszy koszt: 279140.93645021855, temperatura: 0.00\n",
      "Iteracja 1900, najlepszy koszt: 274066.7300049559, temperatura: 0.00\n",
      "Iteracja 2000, najlepszy koszt: 269774.239487423, temperatura: 0.00\n",
      "Temperatura osiągnęła wartość minimalną.\n"
     ]
    }
   ],
   "source": [
    "opt_p_3, opt_c_3= simulated_annealing(\n",
    "        data3,\n",
    "        initial_temperature= 10000,\n",
    "        cooling_rate=0.99,\n",
    "        max_iterations=10000,\n",
    "        min_temperature=0.00001,\n",
    "        time_limit= None,\n",
    "        move_type= \"two_opt\"\n",
    "    )"
   ]
  },
  {
   "cell_type": "code",
   "execution_count": 95,
   "metadata": {},
   "outputs": [
    {
     "name": "stdout",
     "output_type": "stream",
     "text": [
      "Iteracja 0, najlepszy koszt: 51668, temperatura: 9900.00\n",
      "Iteracja 100, najlepszy koszt: 44410, temperatura: 3623.72\n",
      "Iteracja 200, najlepszy koszt: 44410, temperatura: 1326.40\n",
      "Iteracja 300, najlepszy koszt: 36042, temperatura: 485.50\n",
      "Iteracja 400, najlepszy koszt: 30438, temperatura: 177.71\n",
      "Iteracja 500, najlepszy koszt: 26840, temperatura: 65.05\n",
      "Iteracja 600, najlepszy koszt: 25713, temperatura: 23.81\n",
      "Iteracja 700, najlepszy koszt: 23033, temperatura: 8.72\n",
      "Iteracja 800, najlepszy koszt: 23025, temperatura: 3.19\n",
      "Iteracja 900, najlepszy koszt: 21712, temperatura: 1.17\n",
      "Iteracja 1000, najlepszy koszt: 21252, temperatura: 0.43\n",
      "Iteracja 1100, najlepszy koszt: 20455, temperatura: 0.16\n",
      "Iteracja 1200, najlepszy koszt: 18559, temperatura: 0.06\n",
      "Iteracja 1300, najlepszy koszt: 17763, temperatura: 0.02\n",
      "Iteracja 1400, najlepszy koszt: 17609, temperatura: 0.01\n",
      "Iteracja 1500, najlepszy koszt: 17476, temperatura: 0.00\n",
      "Iteracja 1600, najlepszy koszt: 17252, temperatura: 0.00\n",
      "Iteracja 1700, najlepszy koszt: 16988, temperatura: 0.00\n",
      "Iteracja 1800, najlepszy koszt: 16775, temperatura: 0.00\n",
      "Iteracja 1900, najlepszy koszt: 16702, temperatura: 0.00\n",
      "Iteracja 2000, najlepszy koszt: 16532, temperatura: 0.00\n",
      "Temperatura osiągnęła wartość minimalną.\n"
     ]
    }
   ],
   "source": [
    "ins_p_1, ins_c_1= simulated_annealing(\n",
    "        data1,\n",
    "        initial_temperature= 10000,\n",
    "        cooling_rate=0.99,\n",
    "        max_iterations=10000,\n",
    "        min_temperature=0.00001,\n",
    "        time_limit= None,\n",
    "        move_type= \"insertion\"\n",
    "    )"
   ]
  },
  {
   "cell_type": "code",
   "execution_count": 96,
   "metadata": {},
   "outputs": [
    {
     "name": "stdout",
     "output_type": "stream",
     "text": [
      "Iteracja 0, najlepszy koszt: 625731.1145281976, temperatura: 9900.00\n",
      "Iteracja 100, najlepszy koszt: 484039.01289040013, temperatura: 3623.72\n",
      "Iteracja 200, najlepszy koszt: 433988.7071417964, temperatura: 1326.40\n",
      "Iteracja 300, najlepszy koszt: 357645.70085527835, temperatura: 485.50\n",
      "Iteracja 400, najlepszy koszt: 318550.36371412774, temperatura: 177.71\n",
      "Iteracja 500, najlepszy koszt: 302063.197057154, temperatura: 65.05\n",
      "Iteracja 600, najlepszy koszt: 298358.99503885984, temperatura: 23.81\n",
      "Iteracja 700, najlepszy koszt: 290915.0977926015, temperatura: 8.72\n",
      "Iteracja 800, najlepszy koszt: 271699.36766204145, temperatura: 3.19\n",
      "Iteracja 900, najlepszy koszt: 258536.67705274237, temperatura: 1.17\n",
      "Iteracja 1000, najlepszy koszt: 255480.59561852526, temperatura: 0.43\n",
      "Iteracja 1100, najlepszy koszt: 248940.93856342183, temperatura: 0.16\n",
      "Iteracja 1200, najlepszy koszt: 246352.44317694308, temperatura: 0.06\n",
      "Iteracja 1300, najlepszy koszt: 244572.24760765277, temperatura: 0.02\n",
      "Iteracja 1400, najlepszy koszt: 241155.11028353224, temperatura: 0.01\n",
      "Iteracja 1500, najlepszy koszt: 235904.37079163894, temperatura: 0.00\n",
      "Iteracja 1600, najlepszy koszt: 234625.11514190154, temperatura: 0.00\n",
      "Iteracja 1700, najlepszy koszt: 232496.64461854188, temperatura: 0.00\n",
      "Iteracja 1800, najlepszy koszt: 232488.2954990082, temperatura: 0.00\n",
      "Iteracja 1900, najlepszy koszt: 224621.60708127657, temperatura: 0.00\n",
      "Iteracja 2000, najlepszy koszt: 224621.60708127657, temperatura: 0.00\n",
      "Temperatura osiągnęła wartość minimalną.\n"
     ]
    }
   ],
   "source": [
    "ins_p_2, ins_c_2= simulated_annealing(\n",
    "        data2,\n",
    "        initial_temperature= 10000,\n",
    "        cooling_rate=0.99,\n",
    "        max_iterations=10000,\n",
    "        min_temperature=0.00001,\n",
    "        time_limit= None,\n",
    "        move_type= \"insertion\"\n",
    "    )"
   ]
  },
  {
   "cell_type": "code",
   "execution_count": null,
   "metadata": {},
   "outputs": [
    {
     "name": "stdout",
     "output_type": "stream",
     "text": [
      "Iteracja 0, najlepszy koszt: 619298.3358314373, temperatura: 9900.00\n",
      "Iteracja 100, najlepszy koszt: 587925.5633771485, temperatura: 3623.72\n",
      "Iteracja 200, najlepszy koszt: 547309.0270562758, temperatura: 1326.40\n",
      "Iteracja 300, najlepszy koszt: 501184.4466351283, temperatura: 485.50\n",
      "Iteracja 400, najlepszy koszt: 458371.056716303, temperatura: 177.71\n",
      "Iteracja 500, najlepszy koszt: 444664.67538996204, temperatura: 65.05\n",
      "Iteracja 600, najlepszy koszt: 416334.80689344846, temperatura: 23.81\n",
      "Iteracja 700, najlepszy koszt: 406018.3826743758, temperatura: 8.72\n",
      "Iteracja 800, najlepszy koszt: 391367.6562500267, temperatura: 3.19\n",
      "Iteracja 900, najlepszy koszt: 385255.20450679125, temperatura: 1.17\n",
      "Iteracja 1000, najlepszy koszt: 374269.13588582654, temperatura: 0.43\n",
      "Iteracja 1100, najlepszy koszt: 366483.78849623824, temperatura: 0.16\n",
      "Iteracja 1200, najlepszy koszt: 364859.30367430235, temperatura: 0.06\n",
      "Iteracja 1300, najlepszy koszt: 355593.5571875711, temperatura: 0.02\n",
      "Iteracja 1400, najlepszy koszt: 344674.86325314955, temperatura: 0.01\n",
      "Iteracja 1500, najlepszy koszt: 342794.8921767772, temperatura: 0.00\n",
      "Iteracja 1600, najlepszy koszt: 336324.4104012885, temperatura: 0.00\n",
      "Iteracja 1700, najlepszy koszt: 334145.8909587207, temperatura: 0.00\n",
      "Iteracja 1800, najlepszy koszt: 329358.94990272645, temperatura: 0.00\n",
      "Iteracja 1900, najlepszy koszt: 321382.9877723041, temperatura: 0.00\n",
      "Iteracja 2000, najlepszy koszt: 318228.7900135526, temperatura: 0.00\n"
     ]
    }
   ],
   "source": [
    "ins_p_3, ins_c_3= simulated_annealing(\n",
    "        data3,\n",
    "        initial_temperature= 10000,\n",
    "        cooling_rate=0.99,\n",
    "        max_iterations=10000,\n",
    "        min_temperature=0.00001,\n",
    "        time_limit= None,\n",
    "        move_type= \"insertion\"\n",
    "    )"
   ]
  },
  {
   "cell_type": "code",
   "execution_count": null,
   "metadata": {},
   "outputs": [],
   "source": [
    "W10 = {\n",
    "    \"Swap\" : [swap_c_1, swap_c_2, swap_c_3],\n",
    "    \"Opt\": [opt_c_1, opt_c_2, opt_c_3],\n",
    "    \"Insertion\" : [ins_c_1, ins_c_2, ins_c_3]\n",
    "}\n",
    "\n",
    "metody_SA = pd.DataFrame(W10)"
   ]
  },
  {
   "cell_type": "markdown",
   "metadata": {},
   "source": [
    "Badanie wpływu parametru initial temperature"
   ]
  },
  {
   "cell_type": "code",
   "execution_count": null,
   "metadata": {},
   "outputs": [],
   "source": [
    "# DANE NR 1 \n",
    "results = []\n",
    "for initial_temperature in range(1000, 100000,  2000):\n",
    "    _, best_cost =simulated_annealing(\n",
    "        data1,\n",
    "        initial_temperature= initial_temperature,\n",
    "        cooling_rate=0.99,\n",
    "        max_iterations=10000,\n",
    "        min_temperature=0.00001,\n",
    "        time_limit= None,\n",
    "        move_type= \"two_opt\"\n",
    "    )\n",
    "    results.append({\"PARAMETR\": initial_temperature, \"WYNIK\": best_cost})\n",
    "\n",
    "\n",
    "tem1 = pd.DataFrame(results)\n",
    "\n",
    "\n",
    "# DANE NR 2\n",
    "\n",
    "results = []\n",
    "for initial_temperature in range(1000, 100000,  2000):\n",
    "    _, best_cost =simulated_annealing(\n",
    "        data2,\n",
    "        initial_temperature= initial_temperature,\n",
    "        cooling_rate=0.99,\n",
    "        max_iterations=10000,\n",
    "        min_temperature=0.00001,\n",
    "        time_limit= None,\n",
    "        move_type= \"two_opt\"\n",
    "    )\n",
    "    results.append({\"PARAMETR\": initial_temperature, \"WYNIK\": best_cost})\n",
    "\n",
    "# Tworzenie ramki danych\n",
    "tem2 = pd.DataFrame(results)\n",
    "\n",
    "\n",
    "# DANE NR 3\n",
    "\n",
    "results = []\n",
    "for initial_temperature in range(1000, 100000,  2000):\n",
    "    _, best_cost =simulated_annealing(\n",
    "        data3,\n",
    "        initial_temperature= initial_temperature,\n",
    "        cooling_rate=0.99,\n",
    "        max_iterations=10000,\n",
    "        min_temperature=0.00001,\n",
    "        time_limit= None,\n",
    "        move_type= \"two_opt\"\n",
    "    )\n",
    "    results.append({\"PARAMETR\": initial_temperature, \"WYNIK\": best_cost})\n",
    "\n",
    "# Tworzenie ramki danych\n",
    "tem3 = pd.DataFrame(results)"
   ]
  },
  {
   "cell_type": "code",
   "execution_count": null,
   "metadata": {},
   "outputs": [],
   "source": [
    "merged_tem = tem1.merge(tem2, on=\"PARAMETR\").merge(tem3, on=\"PARAMETR\")"
   ]
  },
  {
   "cell_type": "markdown",
   "metadata": {},
   "source": [
    "Badanie wpływu parametru cooling rate"
   ]
  },
  {
   "cell_type": "code",
   "execution_count": null,
   "metadata": {},
   "outputs": [],
   "source": [
    "# DANE NR 1 \n",
    "results = []\n",
    "for cooling_rate in range(0.8, 0.999,  0.01):\n",
    "    _, best_cost =simulated_annealing(\n",
    "        data1,\n",
    "        initial_temperature= 10000,\n",
    "        cooling_rate=cooling_rate,\n",
    "        max_iterations=10000,\n",
    "        min_temperature=0.00001,\n",
    "        time_limit= None,\n",
    "        move_type= \"two_opt\"\n",
    "    )\n",
    "    results.append({\"PARAMETR\": cooling_rate, \"WYNIK\": best_cost})\n",
    "\n",
    "\n",
    "cool1 = pd.DataFrame(results)\n",
    "\n",
    "\n",
    "# DANE NR 2\n",
    "\n",
    "results = []\n",
    "for cooling_rate in range(0.8, 0.999,  0.01):\n",
    "    _, best_cost =simulated_annealing(\n",
    "        data2,\n",
    "        initial_temperature= 10000,\n",
    "        cooling_rate=cooling_rate,\n",
    "        max_iterations=10000,\n",
    "        min_temperature=0.00001,\n",
    "        time_limit= None,\n",
    "        move_type= \"two_opt\"\n",
    "    )\n",
    "    results.append({\"PARAMETR\": cooling_rate, \"WYNIK\": best_cost})\n",
    "\n",
    "# Tworzenie ramki danych\n",
    "cool2 = pd.DataFrame(results)\n",
    "\n",
    "\n",
    "# DANE NR 3\n",
    "\n",
    "results = []\n",
    "for cooling_rate in range(0.8, 0.999,  0.01):\n",
    "    _, best_cost =simulated_annealing(\n",
    "        data3,\n",
    "        initial_temperature= 10000,\n",
    "        cooling_rate=cooling_rate,\n",
    "        max_iterations=10000,\n",
    "        min_temperature=0.00001,\n",
    "        time_limit= None,\n",
    "        move_type= \"two_opt\"\n",
    "    )\n",
    "    results.append({\"PARAMETR\": cooling_rate, \"WYNIK\": best_cost})\n",
    "\n",
    "# Tworzenie ramki danych\n",
    "cool3 = pd.DataFrame(results)"
   ]
  },
  {
   "cell_type": "code",
   "execution_count": null,
   "metadata": {},
   "outputs": [],
   "source": [
    "merged_cool = cool1.merge(cool2, on=\"PARAMETR\").merge(cool3, on=\"PARAMETR\")"
   ]
  },
  {
   "cell_type": "markdown",
   "metadata": {},
   "source": [
    "Badanie wpływu parametru max iteration"
   ]
  },
  {
   "cell_type": "code",
   "execution_count": null,
   "metadata": {},
   "outputs": [],
   "source": [
    "# DANE NR 1 \n",
    "results = []\n",
    "for max_iterations in range(100, 100000,  200):\n",
    "    _, best_cost =simulated_annealing(\n",
    "        data1,\n",
    "        initial_temperature= 10000,\n",
    "        cooling_rate=0.99,\n",
    "        max_iterations=max_iterations,\n",
    "        min_temperature=0.00001,\n",
    "        time_limit= None,\n",
    "        move_type= \"two_opt\"\n",
    "    )\n",
    "    results.append({\"PARAMETR\": max_iterations, \"WYNIK\": best_cost})\n",
    "\n",
    "\n",
    "max1 = pd.DataFrame(results)\n",
    "\n",
    "\n",
    "# DANE NR 2\n",
    "\n",
    "results = []\n",
    "for max_iterations in range(100, 100000,  200):\n",
    "    _, best_cost =simulated_annealing(\n",
    "        data2,\n",
    "        initial_temperature= 10000,\n",
    "        cooling_rate=0.99,\n",
    "        max_iterations=max_iterations,\n",
    "        min_temperature=0.00001,\n",
    "        time_limit= None,\n",
    "        move_type= \"two_opt\"\n",
    "    )\n",
    "    results.append({\"PARAMETR\": max_iterations, \"WYNIK\": best_cost})\n",
    "\n",
    "# Tworzenie ramki danych\n",
    "max2 = pd.DataFrame(results)\n",
    "\n",
    "\n",
    "# DANE NR 3\n",
    "\n",
    "results = []\n",
    "for max_iterations in range(100, 100000,  200):\n",
    "    _, best_cost =simulated_annealing(\n",
    "        data3,\n",
    "        initial_temperature= 10000,\n",
    "        cooling_rate=0.99,\n",
    "        max_iterations=max_iterations,\n",
    "        min_temperature=0.00001,\n",
    "        time_limit= None,\n",
    "        move_type= \"two_opt\"\n",
    "    )\n",
    "    results.append({\"PARAMETR\": max_iterations, \"WYNIK\": best_cost})\n",
    "\n",
    "# Tworzenie ramki danych\n",
    "max3 = pd.DataFrame(results)"
   ]
  },
  {
   "cell_type": "code",
   "execution_count": null,
   "metadata": {},
   "outputs": [],
   "source": [
    "merged_max = max1.merge(max2, on=\"PARAMETR\").merge(max3, on=\"PARAMETR\")"
   ]
  },
  {
   "cell_type": "markdown",
   "metadata": {},
   "source": [
    "Badanie wpływu parametru min temperature"
   ]
  },
  {
   "cell_type": "code",
   "execution_count": null,
   "metadata": {},
   "outputs": [],
   "source": [
    "# DANE NR 1\n",
    "results = []\n",
    "for min_temperature in np.logspace(-6, -2, num=10):  \n",
    "    _, best_cost = simulated_annealing(\n",
    "        data1,\n",
    "        initial_temperature=10000,\n",
    "        cooling_rate=0.99,\n",
    "        max_iterations=10000, \n",
    "        min_temperature=min_temperature,\n",
    "        time_limit=None,\n",
    "        move_type=\"two_opt\"\n",
    "    )\n",
    "    results.append({\"PARAMETR\": min_temperature, \"WYNIK\": best_cost})\n",
    "\n",
    "min_temp1 = pd.DataFrame(results)\n",
    "\n",
    "# DANE NR 2\n",
    "results = []\n",
    "for min_temperature in np.logspace(-6, -2, num=10):\n",
    "    _, best_cost = simulated_annealing(\n",
    "        data2,\n",
    "        initial_temperature=10000,\n",
    "        cooling_rate=0.99,\n",
    "        max_iterations=10000,\n",
    "        min_temperature=min_temperature,\n",
    "        time_limit=None,\n",
    "        move_type=\"two_opt\"\n",
    "    )\n",
    "    results.append({\"PARAMETR\": min_temperature, \"WYNIK\": best_cost})\n",
    "\n",
    "min_temp2 = pd.DataFrame(results)\n",
    "\n",
    "# DANE NR 3\n",
    "results = []\n",
    "for min_temperature in np.logspace(-6, -2, num=10):\n",
    "    _, best_cost = simulated_annealing(\n",
    "        data3,\n",
    "        initial_temperature=10000,\n",
    "        cooling_rate=0.99,\n",
    "        max_iterations=10000,\n",
    "        min_temperature=min_temperature,\n",
    "        time_limit=None,\n",
    "        move_type=\"two_opt\"\n",
    "    )\n",
    "    results.append({\"PARAMETR\": min_temperature, \"WYNIK\": best_cost})\n",
    "\n",
    "min_temp3 = pd.DataFrame(results)"
   ]
  },
  {
   "cell_type": "code",
   "execution_count": null,
   "metadata": {},
   "outputs": [],
   "source": [
    "merged_min = min_temp1.merge(min_temp2, on=\"PARAMETR\").merge(min_temp3, on=\"PARAMETR\")"
   ]
  },
  {
   "cell_type": "markdown",
   "metadata": {},
   "source": [
    "## Algorytm przeszukiwania Tabu (TS)"
   ]
  },
  {
   "cell_type": "code",
   "execution_count": 7,
   "metadata": {},
   "outputs": [],
   "source": [
    "def tabu_search(distance_matrix, max_iterations=1000, max_no_improve=100, move_type=\"swap\", time_limit=None, tabu_list_length = 5):\n",
    "    n = len(distance_matrix)\n",
    "    best_solution = list(range(n))\n",
    "    best_cost = calculate_path_cost(distance_matrix, best_solution)\n",
    "    current_solution = best_solution[:]\n",
    "    current_cost = best_cost\n",
    " \n",
    "    tabu_list = []\n",
    "    start_time = time.time()\n",
    "    no_improve = 0\n",
    " \n",
    "    move_generators = {\n",
    "        \"swap\": swap_move,\n",
    "        \"two_opt\": two_opt_move,\n",
    "        \"insertion\": insertion_move\n",
    "    }\n",
    " \n",
    "    if move_type not in move_generators:\n",
    "        raise ValueError(f\"Nieznany typ ruchu: {move_type}\")\n",
    " \n",
    "    move_generator = move_generators[move_type]\n",
    " \n",
    "    for iteration in range(max_iterations):\n",
    "        if time_limit and (time.time() - start_time > time_limit):\n",
    "            print(\"Przekroczono limit czasu.\")\n",
    "            break\n",
    "\n",
    "        if no_improve >= max_no_improve:\n",
    "            break\n",
    " \n",
    "        neighborhood = list(move_generator(current_solution))\n",
    "        neighborhood_costs = [calculate_path_cost(distance_matrix, neighbor) for neighbor in neighborhood]\n",
    " \n",
    "        best_neighbor = None\n",
    "        best_neighbor_cost = float('inf')\n",
    " \n",
    "        for neighbor, cost in zip(neighborhood, neighborhood_costs):\n",
    "            if (neighbor not in tabu_list) and (cost < best_neighbor_cost):\n",
    "                best_neighbor = neighbor\n",
    "                best_neighbor_cost = cost\n",
    " \n",
    "        if best_neighbor is None:\n",
    "            break\n",
    " \n",
    "        current_solution = best_neighbor\n",
    "        current_cost = best_neighbor_cost\n",
    " \n",
    "        if current_cost < best_cost:\n",
    "            best_solution = current_solution[:]\n",
    "            best_cost = current_cost\n",
    "            no_improve = 0\n",
    "        else:\n",
    "            no_improve += 1\n",
    "\n",
    "        tabu_list.append(current_solution)\n",
    "        if len(tabu_list) > tabu_list_length:\n",
    "            tabu_list.pop(0)\n",
    " \n",
    "        if iteration % 100 == 0:\n",
    "            print(f\"Iteracja {iteration}, najlepszy koszt: {best_cost}\")\n",
    " \n",
    "    return best_solution, best_cost\n",
    " "
   ]
  },
  {
   "cell_type": "markdown",
   "metadata": {},
   "source": [
    "### Generowanie wyników"
   ]
  },
  {
   "cell_type": "markdown",
   "metadata": {},
   "source": [
    "Za podstawowe dane przyjmujemy :\n",
    "\n",
    "* tabu_list_length = 10,\n",
    "\n",
    "* time_limit = 1000,\n",
    "\n",
    "* max_iterations = 10000,\n",
    "\n",
    "* max_no_improve = 100,\n",
    "\n",
    "Nastepnie badane są wpływy poszczególnych parametrów "
   ]
  },
  {
   "cell_type": "code",
   "execution_count": 8,
   "metadata": {},
   "outputs": [
    {
     "name": "stdout",
     "output_type": "stream",
     "text": [
      "Iteracja 0, najlepszy koszt: 46578\n",
      "Iteracja 100, najlepszy koszt: 16700\n",
      "Iteracja 0, najlepszy koszt: 152969.45304174125\n",
      "Iteracja 100, najlepszy koszt: 146367.82823924345\n",
      "Iteracja 0, najlepszy koszt: 378518.67836770223\n",
      "Iteracja 100, najlepszy koszt: 182862.49889554756\n",
      "Iteracja 200, najlepszy koszt: 175312.9047571377\n",
      "Iteracja 0, najlepszy koszt: 46966\n",
      "Iteracja 100, najlepszy koszt: 11383\n",
      "Iteracja 0, najlepszy koszt: 151079.8631226198\n",
      "Iteracja 100, najlepszy koszt: 121530.65649084667\n",
      "Iteracja 0, najlepszy koszt: 384929.4353538366\n",
      "Iteracja 100, najlepszy koszt: 133901.57442407482\n",
      "Iteracja 200, najlepszy koszt: 133876.23933469376\n",
      "Iteracja 0, najlepszy koszt: 46853\n",
      "Iteracja 100, najlepszy koszt: 12538\n",
      "Iteracja 0, najlepszy koszt: 151079.86312261975\n",
      "Iteracja 100, najlepszy koszt: 119055.68991629759\n",
      "Iteracja 0, najlepszy koszt: 383148.9470075186\n",
      "Iteracja 100, najlepszy koszt: 159183.17458454476\n",
      "Iteracja 200, najlepszy koszt: 153047.81522049094\n",
      "Swap:\n",
      "Data1: Best path: [47, 9, 3, 25, 41, 2, 21, 0, 8, 39, 11, 10, 12, 46, 19, 35, 5, 36, 18, 29, 20, 38, 34, 44, 23, 31, 42, 16, 26, 27, 6, 17, 32, 14, 45, 43, 30, 37, 7, 15, 40, 1, 28, 33, 22, 13, 24, 4], Cost: 16700\n",
      "Data2: Best path: [74, 1, 2, 3, 4, 5, 6, 7, 8, 9, 11, 12, 13, 73, 14, 15, 17, 16, 10, 18, 19, 20, 21, 23, 24, 25, 26, 27, 28, 29, 30, 31, 32, 33, 34, 35, 36, 37, 38, 39, 40, 41, 42, 43, 44, 45, 46, 47, 48, 49, 50, 51, 52, 53, 54, 55, 56, 57, 58, 59, 60, 61, 62, 63, 64, 65, 66, 67, 68, 69, 70, 71, 72, 22, 0, 75], Cost: 146367.82823924345\n",
      "Data3: Best path: [15, 13, 11, 14, 105, 113, 5, 23, 8, 10, 2, 9, 119, 6, 104, 107, 16, 20, 71, 18, 22, 3, 21, 19, 30, 26, 29, 25, 24, 28, 32, 121, 27, 37, 40, 35, 36, 34, 42, 33, 38, 41, 39, 43, 44, 47, 117, 52, 48, 46, 123, 51, 55, 4, 99, 63, 57, 90, 60, 61, 59, 58, 124, 91, 88, 112, 7, 66, 70, 69, 68, 67, 72, 73, 17, 76, 78, 79, 77, 116, 75, 74, 95, 108, 87, 86, 85, 84, 109, 103, 98, 64, 65, 102, 94, 122, 96, 31, 125, 81, 82, 101, 100, 97, 126, 106, 92, 115, 89, 54, 111, 110, 93, 45, 53, 83, 80, 62, 118, 12, 114, 49, 120, 56, 50, 1, 0], Cost: 175312.9047571377\n",
      "\n",
      "Two-Opt:\n",
      "Data1: Best path: [4, 24, 13, 33, 2, 22, 12, 20, 46, 19, 35, 29, 42, 16, 26, 18, 36, 5, 27, 6, 17, 43, 30, 37, 45, 32, 14, 11, 10, 39, 8, 7, 0, 21, 15, 40, 28, 1, 41, 25, 3, 34, 44, 9, 23, 31, 38, 47], Cost: 11383\n",
      "Data2: Best path: [74, 1, 2, 3, 5, 6, 7, 73, 13, 12, 14, 15, 17, 16, 10, 11, 8, 9, 4, 19, 18, 30, 29, 28, 31, 32, 33, 34, 35, 36, 37, 38, 39, 40, 59, 58, 57, 56, 60, 61, 62, 63, 72, 71, 70, 69, 68, 67, 66, 64, 65, 55, 54, 53, 52, 51, 50, 49, 48, 47, 46, 45, 44, 43, 41, 42, 27, 26, 25, 23, 24, 20, 21, 22, 0, 75], Cost: 121530.65649084667\n",
      "Data3: Best path: [92, 94, 102, 44, 93, 106, 110, 111, 45, 117, 47, 52, 48, 46, 53, 43, 34, 36, 35, 40, 42, 39, 41, 37, 38, 33, 29, 25, 26, 30, 11, 13, 104, 14, 105, 5, 107, 19, 16, 20, 17, 71, 7, 18, 21, 3, 22, 23, 8, 10, 89, 115, 59, 58, 61, 60, 90, 57, 63, 99, 2, 9, 114, 12, 119, 113, 6, 0, 15, 1, 49, 50, 56, 120, 55, 4, 51, 123, 54, 65, 112, 64, 98, 91, 88, 124, 103, 84, 85, 86, 87, 95, 108, 109, 70, 69, 68, 67, 66, 72, 73, 76, 78, 79, 77, 75, 74, 118, 62, 101, 100, 82, 81, 125, 80, 83, 116, 31, 28, 24, 32, 121, 27, 122, 96, 97, 126], Cost: 133876.23933469376\n",
      "\n",
      "Insertion:\n",
      "Data1: Best path: [13, 33, 40, 28, 1, 3, 25, 41, 4, 20, 46, 19, 14, 39, 2, 21, 15, 0, 7, 8, 37, 30, 43, 17, 6, 27, 5, 36, 18, 26, 16, 42, 29, 35, 45, 32, 11, 10, 22, 12, 47, 9, 34, 44, 23, 31, 38, 24], Cost: 12538\n",
      "Data2: Best path: [75, 1, 2, 3, 4, 5, 6, 7, 8, 9, 10, 11, 12, 13, 73, 14, 15, 16, 17, 36, 35, 34, 31, 28, 29, 30, 18, 19, 20, 24, 25, 26, 27, 32, 33, 37, 38, 39, 40, 59, 58, 57, 54, 51, 52, 53, 41, 42, 43, 47, 48, 49, 50, 65, 64, 55, 56, 60, 61, 62, 63, 72, 71, 70, 69, 66, 67, 68, 46, 44, 45, 23, 21, 22, 0, 74], Cost: 119055.68991629759\n",
      "Data3: Best path: [80, 116, 79, 11, 13, 15, 0, 6, 104, 105, 5, 107, 3, 21, 20, 16, 30, 26, 25, 32, 121, 27, 31, 28, 24, 37, 38, 41, 33, 42, 35, 36, 40, 29, 39, 34, 1, 50, 120, 55, 4, 99, 60, 61, 59, 58, 70, 108, 95, 118, 62, 68, 69, 109, 86, 87, 85, 84, 103, 90, 9, 12, 49, 56, 53, 43, 44, 102, 92, 94, 122, 96, 97, 126, 106, 110, 111, 64, 98, 91, 88, 124, 112, 63, 57, 2, 10, 8, 23, 22, 18, 7, 71, 17, 76, 75, 81, 101, 100, 82, 125, 74, 67, 73, 72, 66, 115, 89, 51, 123, 48, 45, 93, 47, 117, 52, 46, 54, 65, 114, 119, 113, 14, 19, 78, 77, 83], Cost: 153047.81522049094\n"
     ]
    }
   ],
   "source": [
    "swap_p_1, swap_c_1 = tabu_search(\n",
    "    data1,\n",
    "    tabu_list_length=10,\n",
    "    max_iterations=10000,\n",
    "    max_no_improve=100,\n",
    "    move_type=\"swap\",\n",
    "    time_limit=1000\n",
    ")\n",
    "\n",
    "swap_p_2, swap_c_2 = tabu_search(\n",
    "    data2,\n",
    "    tabu_list_length=10,\n",
    "    max_iterations=10000,\n",
    "    max_no_improve=100,\n",
    "    move_type=\"swap\",\n",
    "    time_limit=1000\n",
    ")\n",
    "\n",
    "swap_p_3, swap_c_3 = tabu_search(\n",
    "    data3,\n",
    "    tabu_list_length=10,\n",
    "    max_iterations=10000,\n",
    "    max_no_improve=100,\n",
    "    move_type=\"swap\",\n",
    "    time_limit=1000\n",
    ")\n",
    "\n",
    "two_opt_p_1, two_opt_c_1 = tabu_search(\n",
    "    data1,\n",
    "    tabu_list_length=10,\n",
    "    max_iterations=10000,\n",
    "    max_no_improve=100,\n",
    "    move_type=\"two_opt\",\n",
    "    time_limit=None\n",
    ")\n",
    "\n",
    "two_opt_p_2, two_opt_c_2 = tabu_search(\n",
    "    data2,\n",
    "    tabu_list_length=10,\n",
    "    max_iterations=10000,\n",
    "    max_no_improve=100,\n",
    "    move_type=\"two_opt\",\n",
    "    time_limit=None\n",
    ")\n",
    "\n",
    "two_opt_p_3, two_opt_c_3 = tabu_search(\n",
    "    data3,\n",
    "    tabu_list_length=10,\n",
    "    max_iterations=10000,\n",
    "    max_no_improve=100,\n",
    "    move_type=\"two_opt\",\n",
    "    time_limit=None\n",
    ")\n",
    "\n",
    "insertion_p_1, insertion_c_1 = tabu_search(\n",
    "    data1,\n",
    "    tabu_list_length=10,\n",
    "    max_iterations=10000,\n",
    "    max_no_improve=100,\n",
    "    move_type=\"insertion\",\n",
    "    time_limit=1000\n",
    ")\n",
    "\n",
    "insertion_p_2, insertion_c_2 = tabu_search(\n",
    "    data2,\n",
    "    tabu_list_length=10,\n",
    "    max_iterations=10000,\n",
    "    max_no_improve=100,\n",
    "    move_type=\"insertion\",\n",
    "    time_limit=1000\n",
    ")\n",
    "\n",
    "insertion_p_3, insertion_c_3 = tabu_search(\n",
    "    data3,\n",
    "    tabu_list_length=10,\n",
    "    max_iterations=10000,\n",
    "    max_no_improve=100,\n",
    "    move_type=\"insertion\",\n",
    "    time_limit=1000\n",
    ")\n",
    "\n",
    "# Zestawienie wyników\n",
    "print(\"Swap:\")\n",
    "print(f\"Data1: Best path: {swap_p_1}, Cost: {swap_c_1}\")\n",
    "print(f\"Data2: Best path: {swap_p_2}, Cost: {swap_c_2}\")\n",
    "print(f\"Data3: Best path: {swap_p_3}, Cost: {swap_c_3}\")\n",
    "\n",
    "print(\"\\nTwo-Opt:\")\n",
    "print(f\"Data1: Best path: {two_opt_p_1}, Cost: {two_opt_c_1}\")\n",
    "print(f\"Data2: Best path: {two_opt_p_2}, Cost: {two_opt_c_2}\")\n",
    "print(f\"Data3: Best path: {two_opt_p_3}, Cost: {two_opt_c_3}\")\n",
    "\n",
    "print(\"\\nInsertion:\")\n",
    "print(f\"Data1: Best path: {insertion_p_1}, Cost: {insertion_c_1}\")\n",
    "print(f\"Data2: Best path: {insertion_p_2}, Cost: {insertion_c_2}\")\n",
    "print(f\"Data3: Best path: {insertion_p_3}, Cost: {insertion_c_3}\")"
   ]
  },
  {
   "cell_type": "markdown",
   "metadata": {},
   "source": [
    "## Algorytm genetyczny"
   ]
  },
  {
   "cell_type": "code",
   "execution_count": 6,
   "metadata": {},
   "outputs": [],
   "source": [
    "def crossover_order(parent1, parent2):\n",
    "    size = len(parent1)\n",
    "    start, end = sorted(random.sample(range(size), 2))\n",
    "    child = [None] * size\n",
    "    child[start:end] = parent1[start:end]\n",
    "\n",
    "    pointer = 0\n",
    "    for gene in parent2:\n",
    "        if gene not in child:\n",
    "            while child[pointer] is not None:\n",
    "                pointer += 1\n",
    "            child[pointer] = gene\n",
    "\n",
    "    return child\n",
    "\n",
    "def crossover_pmx(parent1, parent2):\n",
    "    size = len(parent1)\n",
    "    start, end = 2, 6\n",
    "    child = [None] * size\n",
    "\n",
    "    # Copy segment from parent1 to child\n",
    "    child[start:end] = parent1[start:end]\n",
    "\n",
    "    # Fill remaining positions from parent2\n",
    "    for i in range(size):\n",
    "        if child[i] is None:\n",
    "            gene = parent2[i]\n",
    "            while gene in child:\n",
    "                gene = parent2[parent1.index(gene)]\n",
    "            child[i] = gene\n",
    "\n",
    "    return child\n",
    "\n",
    "def selection_tournament(population, scores, k=3):\n",
    "    selected = random.sample(range(len(population)), k)\n",
    "    selected = sorted(selected, key=lambda x: scores[x])\n",
    "    return population[selected[0]]\n",
    "\n",
    "def selection_roulette(population, scores):\n",
    "    total_score = sum(scores)\n",
    "    \n",
    "    # Calculate probabilities\n",
    "    probabilities = [score / total_score for score in scores]\n",
    "    print(probabilities)\n",
    "    # Calculate cumulative probabilities\n",
    "    cumulative_probabilities = [sum(probabilities[:i+1]) for i in range(len(probabilities))]\n",
    "    print(cumulative_probabilities)\n",
    "    # Pick a random number between 0 and 1\n",
    "    pick = random.uniform(0, 1)\n",
    "    print(pick)\n",
    "    # Select the individual based on the random number\n",
    "    for i, cumulative_probability in enumerate(cumulative_probabilities):\n",
    "        if pick <= cumulative_probability:\n",
    "            return population[i]\n",
    "\n",
    "\n",
    "def mutate_swap(individual):\n",
    "    i, j = random.sample(range(len(individual)), 2)\n",
    "    individual[i], individual[j] = individual[j], individual[i]\n",
    "\n",
    "def mutate_inversion(individual):\n",
    "    i, j = sorted(random.sample(range(len(individual)), 2))\n",
    "    individual[i:j] = reversed(individual[i:j])\n",
    "\n",
    "def mutate_insertion(individual):\n",
    "    i, j = random.sample(range(len(individual)), 2)\n",
    "    gene = individual.pop(i)\n",
    "    individual.insert(j, gene)\n",
    "\n",
    "\n",
    "def genetic_algorithm(distance_matrix, population_size=25, generations=500, crossover_rate=0.7, mutation_rate=0.2, selection_method='tournament', crossover_method='order', mutation_method='swap'):\n",
    "    start_time = time.time()\n",
    "\n",
    "    n = len(distance_matrix)\n",
    "    population = [random.sample(range(n), n) for _ in range(population_size)]\n",
    "    best_solution = None\n",
    "    best_cost = float('inf')\n",
    "\n",
    "    for generation in range(generations):\n",
    "        scores = [calculate_path_cost(distance_matrix, individual) for individual in population]\n",
    "        new_population = []\n",
    "\n",
    "        for _ in range(population_size // 2):\n",
    "            if selection_method == 'tournament':\n",
    "                parent1 = selection_tournament(population, scores)\n",
    "                parent2 = selection_tournament(population, scores)\n",
    "            elif selection_method == 'roulette':\n",
    "                parent1 = selection_roulette(population, scores)\n",
    "                parent2 = selection_roulette(population, scores)\n",
    "\n",
    "            if random.random() < crossover_rate:\n",
    "                if crossover_method == 'order':\n",
    "                    child1 = crossover_order(parent1, parent2)\n",
    "                    child2 = crossover_order(parent2, parent1)\n",
    "                elif crossover_method == 'pmx':\n",
    "                    child1 = crossover_pmx(parent1, parent2)\n",
    "                    child2 = crossover_pmx(parent2, parent1)\n",
    "            else:\n",
    "                child1, child2 = parent1[:], parent2[:]\n",
    "\n",
    "            if random.random() < mutation_rate:\n",
    "                if mutation_method == 'swap':\n",
    "                    mutate_swap(child1)\n",
    "                    mutate_swap(child2)\n",
    "                elif mutation_method == 'inversion':\n",
    "                    mutate_inversion(child1)\n",
    "                    mutate_inversion(child2)\n",
    "                elif mutation_method == 'insertion':\n",
    "                    mutate_insertion(child1)\n",
    "                    mutate_insertion(child2)\n",
    "\n",
    "            new_population.extend([child1, child2])\n",
    "\n",
    "        population = new_population\n",
    "\n",
    "        for individual in population:\n",
    "            cost = calculate_path_cost(distance_matrix, individual)\n",
    "            if cost < best_cost:\n",
    "                best_time = time.time() - start_time\n",
    "                best_solution = individual\n",
    "                best_cost = cost\n",
    "\n",
    "        if generation % 100 == 0:\n",
    "            elapsed_time = time.time() - start_time  # Calculate elapsed time\n",
    "            print(f\"Iteration {generation}, Best Cost: {best_cost}, Elapsed Time: {elapsed_time:.2f} seconds\")\n",
    "\n",
    "    return best_solution, best_cost, best_time"
   ]
  },
  {
   "cell_type": "markdown",
   "metadata": {},
   "source": [
    "### Generowanie wyników"
   ]
  },
  {
   "cell_type": "markdown",
   "metadata": {},
   "source": [
    "Za podstawowe dane przyjmujemy :\n",
    "\n",
    "* population_size = 10 \n",
    "\n",
    "* generations = 5000\n",
    "\n",
    "* crossover_rate = 0.6\n",
    "\n",
    "* mutation_rate = 0.15\n",
    "\n",
    "* selection_method=`tournament`\n",
    "    \n",
    "* crossover_method=`order`\n",
    "    \n",
    "* mutation_method=`swap`"
   ]
  },
  {
   "cell_type": "code",
   "execution_count": 8,
   "metadata": {},
   "outputs": [
    {
     "name": "stdout",
     "output_type": "stream",
     "text": [
      "Iteration 0, Best Cost: 44868, Elapsed Time: 0.00 seconds\n",
      "Iteration 100, Best Cost: 31725, Elapsed Time: 0.05 seconds\n",
      "Iteration 200, Best Cost: 30061, Elapsed Time: 0.08 seconds\n",
      "Iteration 300, Best Cost: 23990, Elapsed Time: 0.12 seconds\n",
      "Iteration 400, Best Cost: 22575, Elapsed Time: 0.15 seconds\n",
      "Iteration 500, Best Cost: 21621, Elapsed Time: 0.19 seconds\n",
      "Iteration 600, Best Cost: 20482, Elapsed Time: 0.23 seconds\n",
      "Iteration 700, Best Cost: 20215, Elapsed Time: 0.26 seconds\n",
      "Iteration 800, Best Cost: 20043, Elapsed Time: 0.30 seconds\n",
      "Iteration 900, Best Cost: 20043, Elapsed Time: 0.34 seconds\n",
      "Iteration 1000, Best Cost: 20043, Elapsed Time: 0.38 seconds\n",
      "Iteration 1100, Best Cost: 19722, Elapsed Time: 0.42 seconds\n",
      "Iteration 1200, Best Cost: 19340, Elapsed Time: 0.47 seconds\n",
      "Iteration 1300, Best Cost: 19177, Elapsed Time: 0.52 seconds\n",
      "Iteration 1400, Best Cost: 18796, Elapsed Time: 0.55 seconds\n",
      "Iteration 1500, Best Cost: 18796, Elapsed Time: 0.59 seconds\n",
      "Iteration 1600, Best Cost: 18726, Elapsed Time: 0.62 seconds\n",
      "Iteration 1700, Best Cost: 18581, Elapsed Time: 0.65 seconds\n",
      "Iteration 1800, Best Cost: 17941, Elapsed Time: 0.68 seconds\n",
      "Iteration 1900, Best Cost: 17941, Elapsed Time: 0.72 seconds\n",
      "Iteration 2000, Best Cost: 17941, Elapsed Time: 0.76 seconds\n",
      "Iteration 2100, Best Cost: 17806, Elapsed Time: 0.82 seconds\n",
      "Iteration 2200, Best Cost: 17806, Elapsed Time: 0.85 seconds\n",
      "Iteration 2300, Best Cost: 17701, Elapsed Time: 0.88 seconds\n",
      "Iteration 2400, Best Cost: 17698, Elapsed Time: 0.91 seconds\n",
      "Iteration 2500, Best Cost: 17698, Elapsed Time: 0.94 seconds\n",
      "Iteration 2600, Best Cost: 17590, Elapsed Time: 0.98 seconds\n",
      "Iteration 2700, Best Cost: 17193, Elapsed Time: 1.01 seconds\n",
      "Iteration 2800, Best Cost: 17193, Elapsed Time: 1.05 seconds\n",
      "Iteration 2900, Best Cost: 17145, Elapsed Time: 1.08 seconds\n",
      "Iteration 3000, Best Cost: 17145, Elapsed Time: 1.15 seconds\n",
      "Iteration 3100, Best Cost: 17145, Elapsed Time: 1.21 seconds\n",
      "Iteration 3200, Best Cost: 17035, Elapsed Time: 1.24 seconds\n",
      "Iteration 3300, Best Cost: 16928, Elapsed Time: 1.28 seconds\n",
      "Iteration 3400, Best Cost: 16928, Elapsed Time: 1.31 seconds\n",
      "Iteration 3500, Best Cost: 16905, Elapsed Time: 1.34 seconds\n",
      "Iteration 3600, Best Cost: 16905, Elapsed Time: 1.38 seconds\n",
      "Iteration 3700, Best Cost: 16500, Elapsed Time: 1.41 seconds\n",
      "Iteration 3800, Best Cost: 16500, Elapsed Time: 1.45 seconds\n",
      "Iteration 3900, Best Cost: 16500, Elapsed Time: 1.48 seconds\n",
      "Iteration 4000, Best Cost: 16500, Elapsed Time: 1.51 seconds\n",
      "Iteration 4100, Best Cost: 16500, Elapsed Time: 1.54 seconds\n",
      "Iteration 4200, Best Cost: 16500, Elapsed Time: 1.57 seconds\n",
      "Iteration 4300, Best Cost: 16500, Elapsed Time: 1.62 seconds\n",
      "Iteration 4400, Best Cost: 16500, Elapsed Time: 1.68 seconds\n",
      "Iteration 4500, Best Cost: 16413, Elapsed Time: 1.71 seconds\n",
      "Iteration 4600, Best Cost: 16327, Elapsed Time: 1.74 seconds\n",
      "Iteration 4700, Best Cost: 16327, Elapsed Time: 1.77 seconds\n",
      "Iteration 4800, Best Cost: 16327, Elapsed Time: 1.80 seconds\n",
      "Iteration 4900, Best Cost: 16327, Elapsed Time: 1.84 seconds\n"
     ]
    }
   ],
   "source": [
    "# Dane_TSP_48\n",
    "best_path, best_cost, best_time = genetic_algorithm(\n",
    "    data1,\n",
    "    population_size=10,\n",
    "    generations=5000,\n",
    "    crossover_rate=0.6,\n",
    "    mutation_rate=0.15,\n",
    "    selection_method='tournament',\n",
    "    crossover_method='order',\n",
    "    mutation_method='swap'\n",
    ")"
   ]
  },
  {
   "cell_type": "markdown",
   "metadata": {},
   "source": [
    "## Algorytm zachłanny"
   ]
  },
  {
   "cell_type": "code",
   "execution_count": 38,
   "metadata": {},
   "outputs": [],
   "source": [
    "## Klasyczny algorytm zachłanny \n",
    "def tsp_greedy(distance_matrix, start=0):\n",
    "    n = len(distance_matrix)\n",
    "    visited = [False] * n\n",
    "    visited[start] = True\n",
    "    path = [start]\n",
    "    total_cost = 0\n",
    "    current_city = start\n",
    "\n",
    "    for _ in range(n - 1):\n",
    "        # Znajdujemy najbliższe miasto którego nie odwiedziliśmy \n",
    "        next_city = min(\n",
    "            (city for city in range(n) if not visited[city]),\n",
    "            key=lambda city: distance_matrix[current_city][city]\n",
    "        )\n",
    "        # Dodajemy odległośc i zaznaczamy ze miasto jest już odwiedzone\n",
    "        total_cost += distance_matrix[current_city][next_city]\n",
    "        visited[next_city] = True\n",
    "        path.append(next_city)\n",
    "        current_city = next_city\n",
    "\n",
    "    # Obliczanie końcowej trasy\n",
    "    total_cost += distance_matrix[current_city][start]\n",
    "    path.append(start)\n",
    "\n",
    "    return path, total_cost\n",
    "\n",
    "## Iteracja algorytmem zachłannym po każdym możliwym punkcie startowym \n",
    "\n",
    "def tsp_greedy_all_starts(distance_matrix):\n",
    "    best_cost = float('inf')\n",
    "    best_path = None\n",
    "\n",
    "    for start in range(len(distance_matrix)):\n",
    "        path, cost = tsp_greedy(distance_matrix, start=start)\n",
    "        if cost < best_cost:\n",
    "            best_cost = cost\n",
    "            best_path = path\n",
    "            point = start\n",
    "\n",
    "    return best_cost, best_path, point"
   ]
  },
  {
   "cell_type": "code",
   "execution_count": 39,
   "metadata": {},
   "outputs": [],
   "source": [
    "\n",
    "## Iteracja algorytmem zachłannym po każdym możliwym punkcie startowym \n",
    "\n",
    "def tsp_greedy_all_starts(distance_matrix):\n",
    "    best_cost = float('inf')\n",
    "    best_path = None\n",
    "\n",
    "    for start in range(len(distance_matrix)):\n",
    "        path, cost = tsp_greedy(distance_matrix, start=start)\n",
    "        if cost < best_cost:\n",
    "            best_cost = cost\n",
    "            best_path = path\n",
    "            point = start\n",
    "\n",
    "    return best_cost, best_path, point"
   ]
  },
  {
   "cell_type": "code",
   "execution_count": 40,
   "metadata": {},
   "outputs": [],
   "source": [
    "\n",
    "## Iteracja algorytmem zachłannym po każdym możliwym punkcie startowym \n",
    "\n",
    "def tsp_greedy_all_starts(distance_matrix):\n",
    "    best_cost = float('inf')\n",
    "    best_path = None\n",
    "\n",
    "    for start in range(len(distance_matrix)):\n",
    "        path, cost = tsp_greedy(distance_matrix, start=start)\n",
    "        if cost < best_cost:\n",
    "            best_cost = cost\n",
    "            best_path = path\n",
    "            point = start\n",
    "\n",
    "    return best_cost, best_path, point"
   ]
  },
  {
   "cell_type": "markdown",
   "metadata": {},
   "source": [
    "## Generowanie rozwiazań"
   ]
  },
  {
   "cell_type": "code",
   "execution_count": 41,
   "metadata": {},
   "outputs": [],
   "source": [
    "# Klasyczny ( od punktu 1 )\n",
    "classic_p_1, classic_c_1 = tsp_greedy(data1)\n",
    "classic_p_2, classic_c_2 = tsp_greedy(data2)\n",
    "classic_p_3, classic_c_3 = tsp_greedy(data3)"
   ]
  },
  {
   "cell_type": "code",
   "execution_count": 42,
   "metadata": {},
   "outputs": [],
   "source": [
    "# Start we wszytskich punktach \n",
    "all_p_1, all_c_1, all_point_1= tsp_greedy_all_starts(data1)\n",
    "all_p_2, all_c_2, all_point_2 = tsp_greedy_all_starts(data2)\n",
    "all_p_3, all_c_3, all_point_3 = tsp_greedy_all_starts(data3)"
   ]
  },
  {
   "cell_type": "markdown",
   "metadata": {},
   "source": [
    "Zebranie wyników oraz zapis w pliku EXCEL "
   ]
  },
  {
   "cell_type": "code",
   "execution_count": null,
   "metadata": {},
   "outputs": [],
   "source": []
  },
  {
   "cell_type": "code",
   "execution_count": null,
   "metadata": {},
   "outputs": [
    {
     "name": "stdout",
     "output_type": "stream",
     "text": [
      "Wyniki zostały zapisane w pliku Zachłanny.xlsx\n"
     ]
    }
   ],
   "source": [
    "W1 =  {\n",
    "    \"Długość ścieżki\": [classic_c_1,classic_c_2,classic_c_3 ]\n",
    "}\n",
    "\n",
    "p1 = pd.DataFrame(data = W1)\n",
    "p1.index = [\"Dane 1\",\"Dane 2\" , \"Dane 3\", ]\n",
    "\n",
    "W2 =  {\n",
    "    \"Długość ścieżki\": [all_p_1, all_p_2, all_p_3],\n",
    "    \"Punkt\": [all_point_1,all_point_2, all_point_3]\n",
    "}\n",
    "\n",
    "p2 = pd.DataFrame(data = W2)\n",
    "p2.index = [\"Dane 1\",\"Dane 2\" , \"Dane 3\"]\n",
    "\n",
    "resu = {\n",
    "    \"Klasyka\": p1,\n",
    "    \"Wszytskie\":p2    \n",
    "}\n",
    "\n",
    "# Ścieżka do pliku Excel\n",
    "file_name = \"Zachłanny.xlsx\"\n",
    "\n",
    "# Zapisujemy dane do Excela\n",
    "with pd.ExcelWriter(file_name) as writer:\n",
    "    for sheet_name, df in resu.items():\n",
    "        df.to_excel(writer, sheet_name=sheet_name, index=False)\n",
    "\n",
    "print(f\"Wyniki zostały zapisane w pliku {file_name}\")"
   ]
  }
 ],
 "metadata": {
  "kernelspec": {
   "display_name": "Python 3",
   "language": "python",
   "name": "python3"
  },
  "language_info": {
   "codemirror_mode": {
    "name": "ipython",
    "version": 3
   },
   "file_extension": ".py",
   "mimetype": "text/x-python",
   "name": "python",
   "nbconvert_exporter": "python",
   "pygments_lexer": "ipython3",
   "version": "3.11.9"
  }
 },
 "nbformat": 4,
 "nbformat_minor": 2
}
