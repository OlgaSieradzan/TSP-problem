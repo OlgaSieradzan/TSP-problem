{
 "cells": [
  {
   "cell_type": "markdown",
   "metadata": {},
   "source": [
    "# Analiza wykorzystania różnych heurystyk przy rozwiązaniu problemu komiwojażera"
   ]
  },
  {
   "cell_type": "markdown",
   "metadata": {},
   "source": [
    "Grupa: Amelia Madej, Justyna Sarkowicz, Olga Sieradzan, Weronika Duda i Aleksandra Węgrzyn"
   ]
  },
  {
   "cell_type": "markdown",
   "metadata": {},
   "source": [
    "## Biblioteki"
   ]
  },
  {
   "cell_type": "code",
   "execution_count": 2,
   "metadata": {},
   "outputs": [],
   "source": [
    "\n",
    "import pandas as pd\n",
    "import numpy as np\n",
    "import matplotlib.pyplot as plt\n",
    "import time\n",
    "import itertools\n",
    " "
   ]
  },
  {
   "cell_type": "markdown",
   "metadata": {},
   "source": [
    "## Pobór danych "
   ]
  },
  {
   "cell_type": "code",
   "execution_count": 3,
   "metadata": {},
   "outputs": [],
   "source": [
    "#file_path1 = \"C:\\Users\\Justyna\\source\\repos\\Projekt_IO\\TSP-problem/Dane_TSP_48.xlsx\"\n",
    "#file_path2 = \"C:/Users/olgas/OneDrive/Documents/GitHub/IO/Projekt I/Dane_TSP_76.xlsx\"\n",
    "#file_path3 = \"C:/Users/olgas/OneDrive/Documents/GitHub/IO/Projekt I/Dane_TSP_127.xlsx\"\n",
    "\n",
    "file_path1 = \"C:/Users/Justyna/source/repos/Projekt_IO/TSP-problem/Dane_TSP_48.xlsx\"\n",
    "file_path2 = \"C:/Users/Justyna/source/repos/Projekt_IO/TSP-problem/Dane_TSP_76.xlsx\"\n",
    "file_path3 = \"C:/Users/Justyna/source/repos/Projekt_IO/TSP-problem/Dane_TSP_127.xlsx\"\n",
    "\n",
    "# index_col=0 zamienia pierwszą kolumne na indeksy wierszy \n",
    "# .to_numpy() zamienia ramkę danych na macierz\n",
    "data1 = pd.read_excel(file_path1, index_col=0).to_numpy()\n",
    "\n",
    "data2 = pd.read_excel(file_path2, index_col=0).to_numpy()\n",
    "\n",
    "data3 = pd.read_excel(file_path3, index_col=0).to_numpy()"
   ]
  },
  {
   "cell_type": "markdown",
   "metadata": {},
   "source": [
    "## Algorytm najbliższego sąsiada NN"
   ]
  },
  {
   "cell_type": "code",
   "execution_count": 4,
   "metadata": {},
   "outputs": [],
   "source": [
    "\n",
    "# Klasyczny algorytm NN\n",
    "\n",
    "def nearest_neighbor(matrix, start_point=0, max_time=60, random_restart=1):\n",
    "    n = len(matrix)\n",
    "    best_path, best_cost = None, float('inf')\n",
    "    start_time = time.time()\n",
    "\n",
    "    for _ in range(random_restart):\n",
    "        # Wybór losowego punktu startowego przy wielu restartach\n",
    "        current_start_point = np.random.randint(0, n) if random_restart > 1 else start_point\n",
    "\n",
    "        # Przygotowanie zmiennych dla algorytmu NN\n",
    "        visited = [False] * n\n",
    "        path = [current_start_point]\n",
    "        visited[current_start_point] = True\n",
    "\n",
    "        # Generowanie ścieżki metodą najbliższego sąsiada\n",
    "        while len(path) < n:\n",
    "            last = path[-1]\n",
    "            next_city = np.argmin([\n",
    "                matrix[last][j] if not visited[j] else np.inf\n",
    "                for j in range(n)\n",
    "            ])\n",
    "            path.append(next_city)\n",
    "            visited[next_city] = True\n",
    "\n",
    "        # Oblicz koszt uzyskanej ścieżki\n",
    "        cost = calculate_path_cost(matrix, path)\n",
    "\n",
    "        # Sprawdź, czy znaleziono lepsze rozwiązanie\n",
    "        if cost < best_cost:\n",
    "            best_path, best_cost = path, cost\n",
    "\n",
    "        # Przerwij, jeśli przekroczono limit czasu\n",
    "        if time.time() - start_time > max_time:\n",
    "            break\n",
    "\n",
    "    return best_path, best_cost\n",
    "\n",
    "\n",
    "\n",
    "# Wybieramy dwie pozycje i zmieniamy je miejscami \n",
    "def swap_move(path):  \n",
    "    for i, j in itertools.combinations(range(len(path)), 2):\n",
    "        new_path = path[:]\n",
    "        new_path[i], new_path[j] = new_path[j], new_path[i]\n",
    "        yield new_path\n",
    " \n",
    "\n",
    "# Odwracamy segment pomiędzy wybranymi wartościami czyli \n",
    "# [a b c d e] -> [a d c b e]\n",
    "def two_opt_move(path):\n",
    "    for i, j in itertools.combinations(range(len(path)), 2):\n",
    "        new_path = path[:i] + path[i:j][::-1] + path[j:]\n",
    "        yield new_path\n",
    " \n",
    "# Wybieramy jeden wierzchołek w ścierzce, usuwamy z jednego miejsca i przerzucamy w inne miejsce\n",
    "def insertion_move(path):\n",
    "    n = len(path)\n",
    "    for i in range(n):\n",
    "        for j in range(n):\n",
    "            if i != j:\n",
    "                new_path = path[:]\n",
    "                node = new_path.pop(i)\n",
    "                new_path.insert(j, node)\n",
    "                yield new_path\n",
    "\n",
    "# Policzenie łącznej odległości między startem a końcem                \n",
    "def calculate_path_cost(matrix, path):\n",
    "    return sum(matrix[path[i - 1]][path[i]] for i in range(len(path))) + matrix[path[-1]][path[0]]\n",
    " \n",
    "# Optymalizacja rozwiązania \n",
    "# Argumenty: matrix odległości / dotychczasowe rozwiązanie / ['swap', '2-opt', 'insertion'] / maksymalna liczba iteracji\n",
    "def local_search(matrix, initial_path, move_generators, max_iterations):\n",
    "    best_path = initial_path\n",
    "    best_cost = calculate_path_cost(matrix, best_path)\n",
    " \n",
    "    iteration = 0\n",
    "    improved = True\n",
    "    while improved and iteration < max_iterations:\n",
    "        improved = False\n",
    "        for move_generator in move_generators:\n",
    "            for new_path in move_generator(best_path):\n",
    "                new_cost = calculate_path_cost(matrix, new_path)\n",
    "                if new_cost < best_cost:\n",
    "                    best_path, best_cost = new_path, new_cost\n",
    "                    improved = True\n",
    "                    break  \n",
    "            if improved:\n",
    "                break\n",
    "        iteration += 1\n",
    " \n",
    "    return best_path, best_cost\n",
    "\n",
    "# Ostateczna funkcja \n",
    "\n",
    "#  Parametry:\n",
    "# file_path (str): Ścieżka do pliku Excel zawierającego macierz odległości.\n",
    "# start_point (int): Miasto początkowe dla algorytmu.\n",
    "# max_time (int): Maksymalny czas dozwolony na obliczenia (w sekundach).\n",
    "# move_types (list): Lista typów ruchów dla wyszukiwania lokalnego (np. ['swap', '2-opt', 'insertion']).\n",
    "# random_restart (int): Liczba losowych restartów w celu wyjścia poza lokalne minima, \n",
    "#                       przy każdej iteracji wybieramy nowy start_point a nie cały czas ten sam co ustawiony, jeżeli  random_restart > 1\n",
    "# max_iterations (int): Maksymalna liczba iteracji dla wyszukiwania lokalnego.\n",
    " \n",
    "# Zwraca:\n",
    "# best_path (list): Znaleziono optymalną ścieżkę.\n",
    "# best_cost (float): Długość optymalnej ścieżki.\n",
    "\n",
    "# Jeżeli move_types=None to używamy wszytskich sposobów do optymalizacji\n",
    "\n",
    "def solve_tsp(matrix, start_point=0, max_time=60, move_types=None, random_restart=1, max_iterations=100):\n",
    "   \n",
    "    \n",
    "    move_generators = []\n",
    "    if move_types is None:\n",
    "        move_types = ['swap', '2-opt', 'insertion']  \n",
    "    if 'swap' in move_types:\n",
    "        move_generators.append(swap_move)\n",
    "    if '2-opt' in move_types:\n",
    "        move_generators.append(two_opt_move)\n",
    "    if 'insertion' in move_types:\n",
    "        move_generators.append(insertion_move)\n",
    " \n",
    "    best_path, best_cost = None, float('inf')\n",
    "    start_time = time.time()\n",
    "\n",
    "    # Iteracje z różnym startem\n",
    "    for _ in range(random_restart):\n",
    "        # wybranie punktu startującego \n",
    "        initial_start_point = np.random.randint(0, len(matrix)) if random_restart > 1 else start_point\n",
    " \n",
    "        # Początkowo generujemy rożwiązanie za pomocą klasycznego NN\n",
    "        initial_path, initial_cost = nearest_neighbor(matrix, start_point=initial_start_point)\n",
    " \n",
    "        #print(f\"Initial NN path (start {initial_start_point}): {initial_path} with cost: {initial_cost}\")\n",
    " \n",
    "        # Potem przeprowadzamy optymalizacje z pomocą innych parametrów\n",
    "        current_path, current_cost = local_search(matrix, initial_path, move_generators, max_iterations)\n",
    " \n",
    "        # Aktualizacja najlepszego wyniku\n",
    "        if current_cost < best_cost:\n",
    "            best_path, best_cost = current_path, current_cost\n",
    "        \n",
    " \n",
    "        # Zabezpieczenie przed przekroczeniem czasu \n",
    "        if time.time() - start_time > max_time:\n",
    "            break\n",
    " \n",
    "    return best_path, best_cost\n",
    " \n",
    "\n",
    "# przykład użycia \n",
    "best_path, best_cost = solve_tsp(\n",
    "    data1, \n",
    "    start_point=0, \n",
    "    max_time=60, \n",
    "    move_types='swap', \n",
    "    random_restart=1, \n",
    "    max_iterations=150\n",
    ")\n"
   ]
  },
  {
   "cell_type": "markdown",
   "metadata": {},
   "source": [
    "## Generowanie rozwiązań "
   ]
  },
  {
   "cell_type": "markdown",
   "metadata": {},
   "source": [
    "Za podstawowe dane przyjmujemy :\n",
    "\n",
    "* start_ point = 0 \n",
    "\n",
    "* max_time = 500\n",
    "\n",
    "* random_restart = 1 \n",
    "\n",
    "* max_itaration = 150 \n",
    "\n",
    "Nastepnie badane są wpływy poszczególnych parametrów na każdą metodę "
   ]
  },
  {
   "cell_type": "code",
   "execution_count": 28,
   "metadata": {},
   "outputs": [],
   "source": [
    "# Klasyczna metoda NN \n",
    "classic_p_1, classic_c_1 = nearest_neighbor(data1, start_point=0 , max_time=500, random_restart=1)\n",
    "classic_p_2, classic_c_2 = nearest_neighbor(data2, start_point=0, max_time=500, random_restart=1)\n",
    "classic_p_3, classic_c_3 = nearest_neighbor(data3, start_point=0, max_time=500, random_restart=1)"
   ]
  },
  {
   "cell_type": "code",
   "execution_count": 29,
   "metadata": {},
   "outputs": [],
   "source": [
    "# Move type = 'swap'\n",
    "\n",
    "swap_p_1, swap_c_1 = solve_tsp(\n",
    "    data1, \n",
    "    start_point=0, \n",
    "    max_time=500, \n",
    "    move_types='swap', \n",
    "    random_restart=1, \n",
    "    max_iterations=150\n",
    ")\n",
    "\n",
    "swap_p_2, swap_c_2 = solve_tsp(\n",
    "    data2, \n",
    "    start_point=0, \n",
    "    max_time=500, \n",
    "    move_types='swap', \n",
    "    random_restart=1, \n",
    "    max_iterations=150\n",
    ")\n",
    "\n",
    "swap_p_3, swap_c_3 = solve_tsp(\n",
    "    data3, \n",
    "    start_point=0, \n",
    "    max_time=500, \n",
    "    move_types='swap', \n",
    "    random_restart=1, \n",
    "    max_iterations=150\n",
    ")"
   ]
  },
  {
   "cell_type": "code",
   "execution_count": 30,
   "metadata": {},
   "outputs": [],
   "source": [
    "# Move typ = \"2 opt\"\n",
    "\n",
    "opt_p_1, opt_c_1 = solve_tsp(\n",
    "    data1, \n",
    "    start_point=0, \n",
    "    max_time=500, \n",
    "    move_types= '2-opt', \n",
    "    random_restart=1, \n",
    "    max_iterations=150\n",
    ")\n",
    "\n",
    "opt_p_2, opt_c_2 = solve_tsp(\n",
    "    data2, \n",
    "    start_point=0, \n",
    "    max_time=500, \n",
    "    move_types= '2-opt', \n",
    "    random_restart=1, \n",
    "    max_iterations=150\n",
    ")\n",
    "\n",
    "opt_p_3, opt_c_3 = solve_tsp(\n",
    "    data3, \n",
    "    start_point=0, \n",
    "    max_time=500, \n",
    "    move_types= '2-opt', \n",
    "    random_restart=1, \n",
    "    max_iterations=150\n",
    ")"
   ]
  },
  {
   "cell_type": "code",
   "execution_count": 31,
   "metadata": {},
   "outputs": [],
   "source": [
    "# Move typ = \"insertion\"\n",
    "\n",
    "ins_p_1, ins_c_1 = solve_tsp(\n",
    "    data1, \n",
    "    start_point=0, \n",
    "    max_time=500, \n",
    "    move_types= 'insertion', \n",
    "    random_restart=1, \n",
    "    max_iterations=150\n",
    ")\n",
    "\n",
    "ins_p_2, ins_c_2 = solve_tsp(\n",
    "    data2, \n",
    "    start_point=0, \n",
    "    max_time=500, \n",
    "    move_types= 'insertion', \n",
    "    random_restart=1, \n",
    "    max_iterations=150\n",
    ")\n",
    "\n",
    "ins_p_3, ins_c_3 = solve_tsp(\n",
    "    data3, \n",
    "    start_point=0, \n",
    "    max_time=500, \n",
    "    move_types= 'insertion', \n",
    "    random_restart=1, \n",
    "    max_iterations=150\n",
    ")"
   ]
  },
  {
   "cell_type": "markdown",
   "metadata": {},
   "source": [
    "Zebranie wyników z podstawowymi parametrami "
   ]
  },
  {
   "cell_type": "code",
   "execution_count": 32,
   "metadata": {},
   "outputs": [],
   "source": [
    "W1 =  {\n",
    "    \"Długość ścieżki\": [classic_c_1, swap_c_1, opt_c_1, ins_c_1]\n",
    "}\n",
    "\n",
    "c1 = pd.DataFrame(data = W1)\n",
    "c1.index = [\"Klasyczna\",\"Swap\" , \"2-opt\", \"Insertion\"]\n",
    "\n",
    "W2 =  {\n",
    "    \"Długość ścieżki\": [classic_c_2, swap_c_2, opt_c_2, ins_c_2]\n",
    "}\n",
    "\n",
    "c2 = pd.DataFrame(data = W2)\n",
    "c2.index = [\"Klasyczna\",\"Swap\" , \"2-opt\", \"Insertion\"]\n",
    "\n",
    "W3 =  {\n",
    "    \"Długość ścieżki\": [classic_c_3, swap_c_3, opt_c_3, ins_c_3]\n",
    "}\n",
    "\n",
    "c3 = pd.DataFrame(data = W3)\n",
    "c3.index = [\"Klasyczna\",\"Swap\" , \"2-opt\", \"Insertion\"]"
   ]
  },
  {
   "cell_type": "markdown",
   "metadata": {},
   "source": [
    "Badanie wpływu parametru MAX ITTERATIONS"
   ]
  },
  {
   "cell_type": "code",
   "execution_count": 33,
   "metadata": {},
   "outputs": [],
   "source": [
    "# Stałe parametry\n",
    "start_point = 0\n",
    "max_time = 500\n",
    "random_restart = 1\n",
    "\n",
    "# DANE NR 1 \n",
    "results = []\n",
    "for max_iterations in range(1, 301):\n",
    "    _, best_cost = solve_tsp(data1, start_point=start_point, max_time=max_time, random_restart=random_restart, max_iterations=max_iterations)\n",
    "    results.append({\"PARAMETR\": max_iterations, \"WYNIK\": best_cost})\n",
    "\n",
    "\n",
    "itterration1 = pd.DataFrame(results)\n",
    "\n",
    "\n",
    "# DANE NR 2\n",
    "results = []\n",
    "for max_iterations in range(1, 301):\n",
    "    _, best_cost = solve_tsp(data2, start_point=start_point, max_time=max_time, random_restart=random_restart, max_iterations=max_iterations)\n",
    "    results.append({\"PARAMETR\": max_iterations, \"WYNIK\": best_cost})\n",
    "\n",
    "# Tworzenie ramki danych\n",
    "itterration2 = pd.DataFrame(results)\n",
    "\n",
    "\n",
    "# DANE NR 3\n",
    "results = []\n",
    "for max_iterations in range(1, 301):\n",
    "    _, best_cost = solve_tsp(data3, start_point=start_point, max_time=max_time, random_restart=random_restart, max_iterations=max_iterations)\n",
    "    results.append({\"PARAMETR\": max_iterations, \"WYNIK\": best_cost})\n",
    "\n",
    "# Tworzenie ramki danych\n",
    "itterration3 = pd.DataFrame(results)"
   ]
  },
  {
   "cell_type": "markdown",
   "metadata": {},
   "source": [
    "Badanie wpływu parametru random restart"
   ]
  },
  {
   "cell_type": "code",
   "execution_count": 34,
   "metadata": {},
   "outputs": [],
   "source": [
    "# Stałe parametry\n",
    "start_point = 0\n",
    "max_time = 500\n",
    "max_iterations = 150\n",
    "\n",
    "# DANE NR 1 \n",
    "results = []\n",
    "for random_restart in range(1, 31):\n",
    "    _, best_cost = solve_tsp(data1, start_point=start_point, max_time=max_time, random_restart=random_restart, max_iterations=max_iterations)\n",
    "    results.append({\"PARAMETR\": random_restart, \"WYNIK\": best_cost})\n",
    "\n",
    "\n",
    "restar1 = pd.DataFrame(results)\n",
    "\n",
    "\n",
    "# DANE NR 2\n",
    "results = []\n",
    "for random_restart in range(1, 31):\n",
    "    _, best_cost = solve_tsp(data2, start_point=start_point, max_time=max_time, random_restart=random_restart, max_iterations=max_iterations)\n",
    "    results.append({\"PARAMETR\": random_restart, \"WYNIK\": best_cost})\n",
    "\n",
    "# Tworzenie ramki danych\n",
    "restart2 = pd.DataFrame(results)\n",
    "\n",
    "\n",
    "# DANE NR 3\n",
    "results = []\n",
    "for random_restart in range(1, 31):\n",
    "    _, best_cost = solve_tsp(data3, start_point=start_point, max_time=max_time, random_restart=random_restart, max_iterations=max_iterations)\n",
    "    results.append({\"PARAMETR\": random_restart, \"WYNIK\": best_cost})\n",
    "\n",
    "# Tworzenie ramki danych\n",
    "restart3 = pd.DataFrame(results)"
   ]
  },
  {
   "cell_type": "markdown",
   "metadata": {},
   "source": [
    "Wystartowanie z 4 różnych losowych puntktów startowych"
   ]
  },
  {
   "cell_type": "code",
   "execution_count": 50,
   "metadata": {},
   "outputs": [],
   "source": [
    "# Stałe parametry\n",
    "start_points = [np.random.randint(0, len(data1)), np.random.randint(0, len(data1)), np.random.randint(0, len(data1)), np.random.randint(0, len(data1))]\n",
    "max_time = 500\n",
    "max_iterations = 150\n",
    "random_restart = 1\n",
    "\n",
    "# DANE NR 1 \n",
    "results = []\n",
    "for start_point in start_points:\n",
    "    _, best_cost = solve_tsp(data1, start_point=start_point, max_time=max_time, random_restart=random_restart, max_iterations=max_iterations)\n",
    "    results.append({\"PARAMETR\": start_point, \"WYNIK\": best_cost})\n",
    "\n",
    "\n",
    "point1 = pd.DataFrame(results)\n",
    "\n",
    "start_points = [np.random.randint(0, len(data2)), np.random.randint(0, len(data2)), np.random.randint(0, len(data2)), np.random.randint(0, len(data2))]\n",
    "\n",
    "# DANE NR 2\n",
    "results = []\n",
    "for start_point in start_points:\n",
    "    _, best_cost = solve_tsp(data2, start_point=start_point, max_time=max_time, random_restart=random_restart, max_iterations=max_iterations)\n",
    "    results.append({\"PARAMETR\": start_point, \"WYNIK\": best_cost})\n",
    "\n",
    "# Tworzenie ramki danych\n",
    "point2 = pd.DataFrame(results)\n",
    "\n",
    "start_points = [np.random.randint(0, len(data3)), np.random.randint(0, len(data3)), np.random.randint(0, len(data3)), np.random.randint(0, len(data3))]\n",
    "# DANE NR 3\n",
    "results = []\n",
    "for start_point in start_points:\n",
    "    _, best_cost = solve_tsp(data3, start_point=start_point, max_time=max_time, random_restart=random_restart, max_iterations=max_iterations)\n",
    "    results.append({\"PARAMETR\": start_point, \"WYNIK\": best_cost})\n",
    "\n",
    "# Tworzenie ramki danych\n",
    "point3 = pd.DataFrame(results)"
   ]
  },
  {
   "cell_type": "markdown",
   "metadata": {},
   "source": [
    "Zapis wyników w pliku EXCEL"
   ]
  },
  {
   "cell_type": "code",
   "execution_count": 51,
   "metadata": {},
   "outputs": [
    {
     "name": "stdout",
     "output_type": "stream",
     "text": [
      "Wyniki zostały zapisane w pliku NN.xlsx\n"
     ]
    }
   ],
   "source": [
    "res = {\n",
    "    \"Porównanie_metod+1\": c1,\n",
    "    \"max_iterations_1\": itterration1,\n",
    "    \"Restart_1\": restar1,\n",
    "    \"Point_1\" : point1,\n",
    "    \"Porównanie_metod_2\": c2,\n",
    "    \"max_iterations_2\": itterration2,\n",
    "    \"Restart_2\": restart2,\n",
    "    \"Point_2\" : point2,\n",
    "    \"Porównanie_metod_3\": c3,\n",
    "    \"max_iterations_3\": itterration3,\n",
    "    \"Restart_3\": restart3,\n",
    "    \"Point_3\" : point3,\n",
    "    \n",
    "}\n",
    "\n",
    "# Ścieżka do pliku Excel\n",
    "file_name = \"NN.xlsx\"\n",
    "\n",
    "# Zapisujemy dane do Excela\n",
    "with pd.ExcelWriter(file_name) as writer:\n",
    "    for sheet_name, df in res.items():\n",
    "        df.to_excel(writer, sheet_name=sheet_name, index=False)\n",
    "\n",
    "print(f\"Wyniki zostały zapisane w pliku {file_name}\")"
   ]
  },
  {
   "cell_type": "markdown",
   "metadata": {},
   "source": [
    "## Algorytm wspinaczki z multistartem (IHC)"
   ]
  },
  {
   "cell_type": "code",
   "execution_count": null,
   "metadata": {},
   "outputs": [],
   "source": []
  },
  {
   "cell_type": "markdown",
   "metadata": {},
   "source": [
    "## Algorytm symulowanego wyżarzania (SA)"
   ]
  },
  {
   "cell_type": "markdown",
   "metadata": {},
   "source": [
    "## Algorytm przeszukiwania Tabu "
   ]
  },
  {
   "cell_type": "markdown",
   "metadata": {},
   "source": [
    "## Algorytm genetyczny"
   ]
  },
  {
   "cell_type": "markdown",
   "metadata": {},
   "source": [
    "## Algorytm zachłanny"
   ]
  },
  {
   "cell_type": "code",
   "execution_count": 42,
   "metadata": {},
   "outputs": [],
   "source": [
    "## Klasyczny algorytm zachłanny \n",
    "def tsp_greedy(distance_matrix, start=0):\n",
    "    n = len(distance_matrix)\n",
    "    visited = [False] * n\n",
    "    visited[start] = True\n",
    "    path = [start]\n",
    "    total_cost = 0\n",
    "    current_city = start\n",
    "\n",
    "    for _ in range(n - 1):\n",
    "        # Znajdujemy najbliższe miasto którego nie odwiedziliśmy \n",
    "        next_city = min(\n",
    "            (city for city in range(n) if not visited[city]),\n",
    "            key=lambda city: distance_matrix[current_city][city]\n",
    "        )\n",
    "        # Dodajemy odległośc i zaznaczamy ze miasto jest już odwiedzone\n",
    "        total_cost += distance_matrix[current_city][next_city]\n",
    "        visited[next_city] = True\n",
    "        path.append(next_city)\n",
    "        current_city = next_city\n",
    "\n",
    "    # Obliczanie końcowej trasy\n",
    "    total_cost += distance_matrix[current_city][start]\n",
    "    path.append(start)\n",
    "\n",
    "    return path, total_cost\n",
    "\n",
    "## Iteracja algorytmem zachłannym po każdym możliwym punkcie startowym \n",
    "\n",
    "def tsp_greedy_all_starts(distance_matrix):\n",
    "    best_cost = float('inf')\n",
    "    best_path = None\n",
    "\n",
    "    for start in range(len(distance_matrix)):\n",
    "        path, cost = tsp_greedy(distance_matrix, start=start)\n",
    "        if cost < best_cost:\n",
    "            best_cost = cost\n",
    "            best_path = path\n",
    "            point = start\n",
    "\n",
    "    return best_cost, best_path, point"
   ]
  },
  {
   "cell_type": "markdown",
   "metadata": {},
   "source": [
    "## Generowanie rozwiazań"
   ]
  },
  {
   "cell_type": "code",
   "execution_count": 43,
   "metadata": {},
   "outputs": [],
   "source": [
    "# Klasyczny ( od punktu 1 )\n",
    "classic_p_1, classic_c_1 = tsp_greedy(data1)\n",
    "classic_p_2, classic_c_2 = tsp_greedy(data2)\n",
    "classic_p_3, classic_c_3 = tsp_greedy(data3)"
   ]
  },
  {
   "cell_type": "code",
   "execution_count": 44,
   "metadata": {},
   "outputs": [],
   "source": [
    "# Start we wszytskich punktach \n",
    "all_p_1, all_c_1, all_point_1= tsp_greedy_all_starts(data1)\n",
    "all_p_2, all_c_2, all_point_2 = tsp_greedy_all_starts(data2)\n",
    "all_p_3, all_c_3, all_point_3 = tsp_greedy_all_starts(data3)"
   ]
  },
  {
   "cell_type": "markdown",
   "metadata": {},
   "source": [
    "Zebranie wyników oraz zapis w pliku EXCEL "
   ]
  },
  {
   "cell_type": "code",
   "execution_count": 52,
   "metadata": {},
   "outputs": [
    {
     "name": "stdout",
     "output_type": "stream",
     "text": [
      "Wyniki zostały zapisane w pliku Zachłanny.xlsx\n"
     ]
    }
   ],
   "source": [
    "W1 =  {\n",
    "    \"Długość ścieżki\": [classic_c_1,classic_c_2,classic_c_3 ]\n",
    "}\n",
    "\n",
    "p1 = pd.DataFrame(data = W1)\n",
    "p1.index = [\"Dane 1\",\"Dane 2\" , \"Dane 3\", ]\n",
    "\n",
    "W2 =  {\n",
    "    \"Długość ścieżki\": [all_p_1, all_p_2, all_p_3],\n",
    "    \"Punkt\": [all_point_1,all_point_2, all_point_3]\n",
    "}\n",
    "\n",
    "p2 = pd.DataFrame(data = W2)\n",
    "p2.index = [\"Dane 1\",\"Dane 2\" , \"Dane 3\"]\n",
    "\n",
    "resu = {\n",
    "    \"Klasyka\": p1,\n",
    "    \"Wszytskie\":p2    \n",
    "}\n",
    "\n",
    "# Ścieżka do pliku Excel\n",
    "file_name = \"Zachłanny.xlsx\"\n",
    "\n",
    "# Zapisujemy dane do Excela\n",
    "with pd.ExcelWriter(file_name) as writer:\n",
    "    for sheet_name, df in resu.items():\n",
    "        df.to_excel(writer, sheet_name=sheet_name, index=False)\n",
    "\n",
    "print(f\"Wyniki zostały zapisane w pliku {file_name}\")"
   ]
  }
 ],
 "metadata": {
  "kernelspec": {
   "display_name": "base",
   "language": "python",
   "name": "python3"
  },
  "language_info": {
   "codemirror_mode": {
    "name": "ipython",
    "version": 3
   },
   "file_extension": ".py",
   "mimetype": "text/x-python",
   "name": "python",
   "nbconvert_exporter": "python",
   "pygments_lexer": "ipython3",
   "version": "3.10.9"
  }
 },
 "nbformat": 4,
 "nbformat_minor": 2
}
