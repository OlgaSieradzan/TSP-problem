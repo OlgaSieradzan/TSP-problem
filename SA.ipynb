{
 "cells": [
  {
   "cell_type": "markdown",
   "metadata": {},
   "source": [
    "# Algorytm symulowanego wyżarzania (SA)"
   ]
  },
  {
   "cell_type": "markdown",
   "metadata": {},
   "source": [
    "Grupa: Amelia Madej, Justyna Sarkowicz, Olga Sieradzan, Weronika Duda i Aleksandra Węgrzyn"
   ]
  },
  {
   "cell_type": "markdown",
   "metadata": {},
   "source": [
    "## Biblioteki"
   ]
  },
  {
   "cell_type": "code",
   "execution_count": null,
   "metadata": {},
   "outputs": [],
   "source": [
    "import pandas as pd\n",
    "import numpy as np\n",
    "import matplotlib.pyplot as plt\n",
    "import time\n",
    "import itertools\n",
    "import random\n",
    "import math\n",
    "from collections import deque\n",
    "from openpyxl import load_workbook"
   ]
  },
  {
   "cell_type": "markdown",
   "metadata": {},
   "source": [
    "## Pobór danych"
   ]
  },
  {
   "cell_type": "code",
   "execution_count": null,
   "metadata": {},
   "outputs": [],
   "source": [
    "file_path1 = \"./Dane_TSP_48.xlsx\"\n",
    "file_path2 = \"./Dane_TSP_76.xlsx\"\n",
    "file_path3 = \"./Dane_TSP_127.xlsx\"\n",
    "\n",
    "# index_col=0 zamienia pierwszą kolumne na indeksy wierszy \n",
    "# .to_numpy() zamienia ramkę danych na macierz\n",
    "data1 = pd.read_excel(file_path1, index_col=0).to_numpy()\n",
    "data2 = pd.read_excel(file_path2, index_col=0).to_numpy()\n",
    "data3 = pd.read_excel(file_path3, index_col=0).to_numpy()"
   ]
  },
  {
   "cell_type": "markdown",
   "metadata": {},
   "source": [
    "## Rodzaj ruchów"
   ]
  },
  {
   "cell_type": "markdown",
   "metadata": {},
   "source": [
    "Poniżej znajduje się implementacja trzech rodzajów ruchów (generowania rozwiązań sąsiednich)"
   ]
  },
  {
   "cell_type": "code",
   "execution_count": null,
   "metadata": {},
   "outputs": [],
   "source": [
    "# Wybieramy dwie pozycje i zmieniamy je miejscami \n",
    "def swap_move(path):  \n",
    "    for i, j in itertools.combinations(range(len(path)), 2):\n",
    "        new_path = path[:]\n",
    "        new_path[i], new_path[j] = new_path[j], new_path[i]\n",
    "        yield new_path\n",
    " \n",
    "\n",
    "# Odwracamy segment pomiędzy wybranymi wartościami czyli \n",
    "# [a b c d e] -> [a d c b e]\n",
    "def two_opt_move(path):\n",
    "    for i, j in itertools.combinations(range(len(path)), 2):\n",
    "        new_path = path[:i] + path[i:j][::-1] + path[j:]\n",
    "        yield new_path\n",
    " \n",
    "# Wybieramy jeden wierzchołek w ścieżce, usuwamy z jednego miejsca i przerzucamy w inne miejsce\n",
    "def insertion_move(path):\n",
    "    n = len(path)\n",
    "    for i in range(n):\n",
    "        for j in range(n):\n",
    "            if i != j:\n",
    "                new_path = path[:]\n",
    "                node = new_path.pop(i)\n",
    "                new_path.insert(j, node)\n",
    "                yield new_path\n"
   ]
  },
  {
   "cell_type": "markdown",
   "metadata": {},
   "source": [
    "## Długość ścieżki"
   ]
  },
  {
   "cell_type": "code",
   "execution_count": null,
   "metadata": {},
   "outputs": [],
   "source": [
    "# Funkcja obliczająca całkowity koszt ścieżki\n",
    "# Suma odległości pomiędzy kolejnymi miastami oraz powrót do miasta początkowego\n",
    "\n",
    "def calculate_path_cost(matrix, path):\n",
    "    return sum(matrix[path[i - 1]][path[i]] for i in range(len(path))) + matrix[path[-1]][path[0]]"
   ]
  },
  {
   "cell_type": "markdown",
   "metadata": {},
   "source": [
    "## Implementacja algorytmu"
   ]
  },
  {
   "cell_type": "code",
   "execution_count": null,
   "metadata": {},
   "outputs": [],
   "source": [
    "def simulated_annealing(\n",
    "    distance_matrix,\n",
    "    initial_temperature=1000,\n",
    "    cooling_rate=0.99,\n",
    "    max_iterations=10000,\n",
    "    min_temperature=0.00001,\n",
    "    time_limit=None,\n",
    "    move_type=\"two_opt\"  \n",
    "):\n",
    "    start_time = time.time()\n",
    "    n = len(distance_matrix)\n",
    "\n",
    "    # Losowe wygenerowanie początkowej trasy\n",
    "    initial_route = list(range(n))\n",
    "    random.shuffle(initial_route)\n",
    "    \n",
    "    # Mapowanie typu ruchu na odpowiednią funkcję generatora sąsiadów\n",
    "    move_generators = {\n",
    "        \"swap\": swap_move,\n",
    "        \"two_opt\": two_opt_move,\n",
    "        \"insertion\": insertion_move\n",
    "    }\n",
    "\n",
    "    if move_type not in move_generators:\n",
    "        raise ValueError(f\"Nieznany typ ruchu: {move_type}\")\n",
    "\n",
    "    move_generator = move_generators[move_type]\n",
    "\n",
    "    # Inicjalizacja bieżącego i najlepszego rozwiązania\n",
    "    current_solution = initial_route\n",
    "    current_cost = calculate_path_cost(distance_matrix, current_solution)\n",
    "    best_solution = current_solution[:]\n",
    "    best_cost = current_cost\n",
    "\n",
    "    # Ustawienie początkowej temperatury\n",
    "    temperature = initial_temperature\n",
    "\n",
    "    for iteration in range(max_iterations):\n",
    "        if time_limit and (time.time() - start_time > time_limit):\n",
    "            print(\"Przekroczono limit czasu.\")\n",
    "            break\n",
    "        \n",
    "        # Sprawdzenie, czy temperatura osiągnęła wartość minimalną\n",
    "        if temperature < min_temperature:\n",
    "            print(\"Temperatura osiągnęła wartość minimalną.\")\n",
    "            break\n",
    "\n",
    "        # Generowanie sąsiada na podstawie wybranego typu ruchu\n",
    "        neighbors = list(move_generator(current_solution))\n",
    "        neighbor = random.choice(neighbors)\n",
    "        neighbor_cost = calculate_path_cost(distance_matrix, neighbor)\n",
    "\n",
    "        \n",
    "        # Różnica w kosztach między bieżącym a sąsiednim rozwiązaniem\n",
    "        delta = neighbor_cost - current_cost\n",
    "\n",
    "        if delta < 0:\n",
    "            current_solution = neighbor\n",
    "            current_cost = neighbor_cost\n",
    "        else:\n",
    "            # Akceptacja gorszego rozwiązania z prawdopodobieństwem zależnym od temperatury\n",
    "            acceptance_probability = math.exp(-delta / temperature)\n",
    "            if random.random() < acceptance_probability:\n",
    "                current_solution = neighbor\n",
    "                current_cost = neighbor_cost\n",
    "\n",
    "\n",
    "        # Aktualizacja najlepszego rozwiązania, jeśli obecne jest lepsze\n",
    "        if current_cost < best_cost:\n",
    "            best_solution = current_solution[:]\n",
    "            best_cost = current_cost\n",
    "\n",
    "        # Schładzanie temperatury\n",
    "        temperature *= cooling_rate\n",
    "\n",
    "        if iteration % 100 == 0:\n",
    "            print(f\"Iteracja {iteration}, najlepszy koszt: {best_cost}, temperatura: {temperature:.2f}\")\n",
    "\n",
    "        total_time = time.time() - start_time\n",
    "\n",
    "    return best_solution, best_cost, total_time"
   ]
  },
  {
   "cell_type": "markdown",
   "metadata": {},
   "source": [
    "## Generowanie rozwiązań"
   ]
  },
  {
   "cell_type": "markdown",
   "metadata": {},
   "source": [
    "Poniżej znajduje się zestawienie wyników z uwzględnieniem wpływu na wyniki różnych wartości parametrów algorytmu"
   ]
  },
  {
   "cell_type": "markdown",
   "metadata": {},
   "source": [
    "Za podstawowe dane przyjmujemy :\n",
    "\n",
    "* initial_temperature = 10000\n",
    "\n",
    "* cooling_rate = 0.99\n",
    "\n",
    "* max_iterations = 10000\n",
    "\n",
    "* min_temperature = 0.00001\n",
    "\n",
    "* time_limit = `None`\n",
    "\n",
    "* move_type = `two_opt`\n"
   ]
  },
  {
   "cell_type": "code",
   "execution_count": null,
   "metadata": {},
   "outputs": [],
   "source": [
    "def run_multiple_tests(data, dataset_name, num_tests=10):\n",
    "    results = []\n",
    "    for _ in range(num_tests):\n",
    "        best_path, best_cost, best_time = simulated_annealing(data)\n",
    "        results.append({\n",
    "            \"WYNIK\": best_cost,\n",
    "            \"ŚCIEŻKA\": best_path,\n",
    "            \"CZAS\": best_time,\n",
    "            \"DATASET\": dataset_name\n",
    "        })\n",
    "    return results"
   ]
  },
  {
   "cell_type": "code",
   "execution_count": null,
   "metadata": {},
   "outputs": [],
   "source": [
    "all_results = []\n",
    "all_results.extend(run_multiple_tests(data1, \"DATA1\"))\n",
    "all_results.extend(run_multiple_tests(data2, \"DATA2\"))\n",
    "all_results.extend(run_multiple_tests(data3, \"DATA3\"))\n",
    "\n",
    "basic = pd.DataFrame(data = all_results)\n",
    "\n",
    "with pd.ExcelWriter('SA.xlsx', engine='openpyxl', mode='w') as writer:\n",
    "    basic.to_excel(writer, sheet_name = \"Basic\", index=False)"
   ]
  },
  {
   "cell_type": "markdown",
   "metadata": {},
   "source": [
    "Badanie wpływu parametru *move_type*"
   ]
  },
  {
   "cell_type": "code",
   "execution_count": null,
   "metadata": {},
   "outputs": [],
   "source": [
    "def test_move_type(data, dataset_name, num_repeats=10):\n",
    "    results = []\n",
    "    move_types = [\"swap\", \"two_opt\", \"insertion\"]\n",
    "    for move_type in move_types:\n",
    "        for _ in range(num_repeats):\n",
    "            best_path, best_cost, best_time = simulated_annealing(data, move_type=move_type)\n",
    "            results.append({\"PARAMETR\": move_type, \"WYNIK_1\": best_cost, \"Ścieżka\": best_path, \"CZAS\": best_time})\n",
    "    df_results = pd.DataFrame(results)\n",
    "    df_results[\"DATASET\"] = dataset_name\n",
    "    return df_results\n",
    "\n",
    "# Dla 3 zestawów danych\n",
    "df_move_type_1 = test_move_type(data1, \"DATA1\")\n",
    "df_move_type_2 = test_move_type(data2, \"DATA2\")\n",
    "df_move_type_3 = test_move_type(data3, \"DATA3\")\n",
    "\n",
    "# Łączenie wyników w jeden DataFrame\n",
    "neighborhood_type_results = pd.concat([df_move_type_1, df_move_type_2, df_move_type_3], ignore_index=True)\n",
    "with pd.ExcelWriter('SA.xlsx', engine='openpyxl', mode='a') as writer:\n",
    "    neighborhood_type_results.to_excel(writer, sheet_name=\"move_type\", index=False)"
   ]
  },
  {
   "cell_type": "markdown",
   "metadata": {},
   "source": [
    "Badanie wpływu zmian wartości parametru *initial_temperature*"
   ]
  },
  {
   "cell_type": "code",
   "execution_count": null,
   "metadata": {},
   "outputs": [],
   "source": [
    "def test_initial_temperature(data, dataset_name, num_repeats=10):\n",
    "    results = []\n",
    "    initial_temperatures = [1000, 3000, 5000, 10000, 30000, 50000, 100000]\n",
    "    for initial_temperature in initial_temperatures:\n",
    "        for _ in range(num_repeats):\n",
    "            best_path, best_cost, best_time = simulated_annealing(data, initial_temperature=initial_temperature)\n",
    "            results.append({\"PARAMETR\": num_starts, \"WYNIK_1\": best_cost, \"Ścieżka\": best_path, \"CZAS\": best_time})\n",
    "    df_results = pd.DataFrame(results)\n",
    "    df_results[\"DATASET\"] = dataset_name\n",
    "    return df_results\n",
    "\n",
    "# Dla 3 zestawów danych\n",
    "df_initial_temperature_1 = test_initial_temperature(data1, \"DATA1\")\n",
    "df_initial_temperature_2 = test_initial_temperature(data2, \"DATA2\")\n",
    "df_initial_temperature_3 = test_initial_temperature(data3, \"DATA3\")\n",
    "\n",
    "# Łączenie wyników w jeden DataFrame\n",
    "num_starts = pd.concat([df_initial_temperature_1, df_initial_temperature_2, df_initial_temperature_3], ignore_index=True)\n",
    "with pd.ExcelWriter('SA.xlsx', engine='openpyxl', mode='a') as writer:\n",
    "    num_starts.to_excel(writer, sheet_name = \"initial_temperature\", index=False)"
   ]
  },
  {
   "cell_type": "markdown",
   "metadata": {},
   "source": [
    "Badanie wpływu zmian wartości parametru *cooling_rate*"
   ]
  },
  {
   "cell_type": "code",
   "execution_count": null,
   "metadata": {},
   "outputs": [],
   "source": [
    "def test_cooling_rate(data, dataset_name, num_repeats=10):\n",
    "    results = []\n",
    "    for cooling_rate in np.arange(0.8, 0.99, 0.01):\n",
    "        for _ in range(num_repeats):\n",
    "            best_path, best_cost, best_time = simulated_annealing(data, cooling_rate=cooling_rate)\n",
    "            results.append({\"PARAMETR\": num_starts, \"WYNIK_1\": best_cost, \"Ścieżka\": best_path, \"CZAS\": best_time})\n",
    "    df_results = pd.DataFrame(results)\n",
    "    df_results[\"DATASET\"] = dataset_name\n",
    "    return df_results\n",
    "\n",
    "# Dla 3 zestawów danych\n",
    "df_cooling_rate_1 = test_cooling_rate(data1, \"DATA1\")\n",
    "df_cooling_rate_2 = test_cooling_rate(data2, \"DATA2\")\n",
    "df_cooling_rate_3 = test_cooling_rate(data3, \"DATA3\")\n",
    "\n",
    "# Łączenie wyników w jeden DataFrame\n",
    "num_starts = pd.concat([df_cooling_rate_1, df_cooling_rate_2, df_cooling_rate_3], ignore_index=True)\n",
    "with pd.ExcelWriter('SA.xlsx', engine='openpyxl', mode='a') as writer:\n",
    "    num_starts.to_excel(writer, sheet_name = \"cooling_rate\", index=False)"
   ]
  },
  {
   "cell_type": "markdown",
   "metadata": {},
   "source": [
    "Badanie wpływu zmian wartości parametru *max_iterations*"
   ]
  },
  {
   "cell_type": "code",
   "execution_count": null,
   "metadata": {},
   "outputs": [],
   "source": [
    "def test_max_iterations(data, dataset_name, num_repeats=10):\n",
    "    results = []\n",
    "    for max_iteration in range(50, 500, 50):\n",
    "        for _ in range(num_repeats):\n",
    "            best_path, best_cost, best_time = simulated_annealing(data, max_iteration=max_iteration)\n",
    "            results.append({\"PARAMETR\": num_starts, \"WYNIK_1\": best_cost, \"Ścieżka\": best_path, \"CZAS\": best_time})\n",
    "    df_results = pd.DataFrame(results)\n",
    "    df_results[\"DATASET\"] = dataset_name\n",
    "    return df_results\n",
    "\n",
    "# Dla 3 zestawów danych\n",
    "df_max_iterations_1 = test_max_iterations(data1, \"DATA1\")\n",
    "df_max_iterations_2 = test_max_iterations(data2, \"DATA2\")\n",
    "df_max_iterations_3 = test_max_iterations(data3, \"DATA3\")\n",
    "\n",
    "# Łączenie wyników w jeden DataFrame\n",
    "num_starts = pd.concat([df_max_iterations_1, df_max_iterations_2, df_max_iterations_3], ignore_index=True)\n",
    "with pd.ExcelWriter('SA.xlsx', engine='openpyxl', mode='a') as writer:\n",
    "    num_starts.to_excel(writer, sheet_name = \"max_iterations\", index=False)"
   ]
  },
  {
   "cell_type": "markdown",
   "metadata": {},
   "source": [
    "Badanie wpływu zmian wartości parametru *min_temperature*"
   ]
  },
  {
   "cell_type": "code",
   "execution_count": null,
   "metadata": {},
   "outputs": [],
   "source": [
    "def test_min_temperature(data, dataset_name, num_repeats=10):\n",
    "    results = []\n",
    "    for min_temperature in np.logspace(-6, -2, num=10):\n",
    "        for _ in range(num_repeats):\n",
    "            best_path, best_cost, best_time = simulated_annealing(data, min_temperature=min_temperature)\n",
    "            results.append({\"PARAMETR\": num_starts, \"WYNIK_1\": best_cost, \"Ścieżka\": best_path, \"CZAS\": best_time})\n",
    "    df_results = pd.DataFrame(results)\n",
    "    df_results[\"DATASET\"] = dataset_name\n",
    "    return df_results\n",
    "\n",
    "# Dla 3 zestawów danych\n",
    "df_min_temperature_1 = test_min_temperature(data1, \"DATA1\")\n",
    "df_min_temperature_2 = test_min_temperature(data2, \"DATA2\")\n",
    "df_min_temperature_3 = test_min_temperature(data3, \"DATA3\")\n",
    "\n",
    "# Łączenie wyników w jeden DataFrame\n",
    "num_starts = pd.concat([df_min_temperature_1, df_min_temperature_2, df_min_temperature_3], ignore_index=True)\n",
    "with pd.ExcelWriter('SA.xlsx', engine='openpyxl', mode='a') as writer:\n",
    "    num_starts.to_excel(writer, sheet_name = \"min_temperature\", index=False)"
   ]
  }
 ],
 "metadata": {
  "kernelspec": {
   "display_name": "base",
   "language": "python",
   "name": "python3"
  },
  "language_info": {
   "codemirror_mode": {
    "name": "ipython",
    "version": 3
   },
   "file_extension": ".py",
   "mimetype": "text/x-python",
   "name": "python",
   "nbconvert_exporter": "python",
   "pygments_lexer": "ipython3",
   "version": "3.10.9"
  }
 },
 "nbformat": 4,
 "nbformat_minor": 2
}
