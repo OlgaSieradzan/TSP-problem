{
 "cells": [
  {
   "cell_type": "markdown",
   "metadata": {},
   "source": [
    "# Algorytm symulowanego wyżarzania (SA)"
   ]
  },
  {
   "cell_type": "markdown",
   "metadata": {},
   "source": [
    "Grupa: Amelia Madej, Justyna Sarkowicz, Olga Sieradzan, Weronika Duda i Aleksandra Węgrzyn"
   ]
  },
  {
   "cell_type": "markdown",
   "metadata": {},
   "source": [
    "## Biblioteki"
   ]
  },
  {
   "cell_type": "code",
   "execution_count": null,
   "metadata": {},
   "outputs": [],
   "source": [
    "import pandas as pd\n",
    "import numpy as np\n",
    "import matplotlib.pyplot as plt\n",
    "import time\n",
    "import itertools\n",
    "import random\n",
    "import math\n",
    "from collections import deque\n",
    "from openpyxl import load_workbook"
   ]
  },
  {
   "cell_type": "markdown",
   "metadata": {},
   "source": [
    "## Pobór danych"
   ]
  },
  {
   "cell_type": "code",
   "execution_count": null,
   "metadata": {},
   "outputs": [],
   "source": [
    "file_path1 = \"./Dane_TSP_48.xlsx\"\n",
    "file_path2 = \"./Dane_TSP_76.xlsx\"\n",
    "file_path3 = \"./Dane_TSP_127.xlsx\"\n",
    "\n",
    "# index_col=0 zamienia pierwszą kolumne na indeksy wierszy \n",
    "# .to_numpy() zamienia ramkę danych na macierz\n",
    "data1 = pd.read_excel(file_path1, index_col=0).to_numpy()\n",
    "data2 = pd.read_excel(file_path2, index_col=0).to_numpy()\n",
    "data3 = pd.read_excel(file_path3, index_col=0).to_numpy()"
   ]
  },
  {
   "cell_type": "markdown",
   "metadata": {},
   "source": [
    "## Rodzaj ruchów"
   ]
  },
  {
   "cell_type": "markdown",
   "metadata": {},
   "source": [
    "Poniżej znajduje się implementacja trzech rodzajów ruchów (generowania rozwiązań sąsiednich)"
   ]
  },
  {
   "cell_type": "code",
   "execution_count": null,
   "metadata": {},
   "outputs": [],
   "source": [
    "# Wybieramy dwie pozycje i zmieniamy je miejscami \n",
    "def swap_move(path):  \n",
    "    for i, j in itertools.combinations(range(len(path)), 2):\n",
    "        new_path = path[:]\n",
    "        new_path[i], new_path[j] = new_path[j], new_path[i]\n",
    "        yield new_path\n",
    " \n",
    "\n",
    "# Odwracamy segment pomiędzy wybranymi wartościami czyli \n",
    "# [a b c d e] -> [a d c b e]\n",
    "def two_opt_move(path):\n",
    "    for i, j in itertools.combinations(range(len(path)), 2):\n",
    "        new_path = path[:i] + path[i:j][::-1] + path[j:]\n",
    "        yield new_path\n",
    " \n",
    "# Wybieramy jeden wierzchołek w ścieżce, usuwamy z jednego miejsca i przerzucamy w inne miejsce\n",
    "def insertion_move(path):\n",
    "    n = len(path)\n",
    "    for i in range(n):\n",
    "        for j in range(n):\n",
    "            if i != j:\n",
    "                new_path = path[:]\n",
    "                node = new_path.pop(i)\n",
    "                new_path.insert(j, node)\n",
    "                yield new_path\n"
   ]
  },
  {
   "cell_type": "markdown",
   "metadata": {},
   "source": [
    "## Długość ścieżki"
   ]
  },
  {
   "cell_type": "code",
   "execution_count": null,
   "metadata": {},
   "outputs": [],
   "source": [
    "# Funkcja obliczająca całkowity koszt ścieżki\n",
    "# Suma odległości pomiędzy kolejnymi miastami oraz powrót do miasta początkowego\n",
    "\n",
    "def calculate_path_cost(matrix, path):\n",
    "    return sum(matrix[path[i - 1]][path[i]] for i in range(len(path))) + matrix[path[-1]][path[0]]"
   ]
  },
  {
   "cell_type": "markdown",
   "metadata": {},
   "source": [
    "## Implementacja algorytmu"
   ]
  },
  {
   "cell_type": "code",
   "execution_count": null,
   "metadata": {},
   "outputs": [],
   "source": [
    "def simulated_annealing(\n",
    "    distance_matrix,\n",
    "    initial_temperature=1000,\n",
    "    cooling_rate=0.95,\n",
    "    max_iterations=1000,\n",
    "    min_temperature=1e-3,\n",
    "    time_limit=None,\n",
    "    move_type=\"swap\"  \n",
    "):\n",
    "    start_time = time.time()\n",
    "    n = len(distance_matrix)\n",
    "\n",
    "    # Losowe wygenerowanie początkowej trasy\n",
    "    initial_route = list(range(n))\n",
    "    random.shuffle(initial_route)\n",
    "    \n",
    "    # Mapowanie typu ruchu na odpowiednią funkcję generatora sąsiadów\n",
    "    move_generators = {\n",
    "        \"swap\": swap_move,\n",
    "        \"two_opt\": two_opt_move,\n",
    "        \"insertion\": insertion_move\n",
    "    }\n",
    "\n",
    "    if move_type not in move_generators:\n",
    "        raise ValueError(f\"Nieznany typ ruchu: {move_type}\")\n",
    "\n",
    "    move_generator = move_generators[move_type]\n",
    "\n",
    "    # Inicjalizacja bieżącego i najlepszego rozwiązania\n",
    "    current_solution = initial_route\n",
    "    current_cost = calculate_path_cost(distance_matrix, current_solution)\n",
    "    best_solution = current_solution[:]\n",
    "    best_cost = current_cost\n",
    "\n",
    "    # Ustawienie początkowej temperatury\n",
    "    temperature = initial_temperature\n",
    "\n",
    "    for iteration in range(max_iterations):\n",
    "        if time_limit and (time.time() - start_time > time_limit):\n",
    "            print(\"Przekroczono limit czasu.\")\n",
    "            break\n",
    "        \n",
    "        # Sprawdzenie, czy temperatura osiągnęła wartość minimalną\n",
    "        if temperature < min_temperature:\n",
    "            print(\"Temperatura osiągnęła wartość minimalną.\")\n",
    "            break\n",
    "\n",
    "        # Generowanie sąsiada na podstawie wybranego typu ruchu\n",
    "        neighbors = list(move_generator(current_solution))\n",
    "        neighbor = random.choice(neighbors)\n",
    "        neighbor_cost = calculate_path_cost(distance_matrix, neighbor)\n",
    "\n",
    "        \n",
    "        # Różnica w kosztach między bieżącym a sąsiednim rozwiązaniem\n",
    "        delta = neighbor_cost - current_cost\n",
    "\n",
    "        if delta < 0:\n",
    "            current_solution = neighbor\n",
    "            current_cost = neighbor_cost\n",
    "        else:\n",
    "            # Akceptacja gorszego rozwiązania z prawdopodobieństwem zależnym od temperatury\n",
    "            acceptance_probability = math.exp(-delta / temperature)\n",
    "            if random.random() < acceptance_probability:\n",
    "                current_solution = neighbor\n",
    "                current_cost = neighbor_cost\n",
    "\n",
    "\n",
    "        # Aktualizacja najlepszego rozwiązania, jeśli obecne jest lepsze\n",
    "        if current_cost < best_cost:\n",
    "            best_solution = current_solution[:]\n",
    "            best_cost = current_cost\n",
    "\n",
    "        # Schładzanie temperatury\n",
    "        temperature *= cooling_rate\n",
    "\n",
    "        if iteration % 100 == 0:\n",
    "            print(f\"Iteracja {iteration}, najlepszy koszt: {best_cost}, temperatura: {temperature:.2f}\")\n",
    "\n",
    "        total_time = time.time() - start_time\n",
    "\n",
    "    return best_solution, best_cost, total_time"
   ]
  },
  {
   "cell_type": "markdown",
   "metadata": {},
   "source": [
    "## Generowanie rozwiązań"
   ]
  },
  {
   "cell_type": "markdown",
   "metadata": {},
   "source": [
    "Poniżej znajduje się zestawienie wyników z uwzględnieniem wpływu na wyniki różnych wartości parametrów algorytmu"
   ]
  },
  {
   "cell_type": "markdown",
   "metadata": {},
   "source": [
    "Za podstawowe dane przyjmujemy :\n",
    "\n",
    "* initial_temperature = 10000\n",
    "\n",
    "* cooling_rate = 0.99\n",
    "\n",
    "* max_iterations = 10000\n",
    "\n",
    "* min_temperature = 0.00001\n",
    "\n",
    "* time_limit = `None`\n",
    "\n",
    "* move_type = `two_opt`\n",
    "\n",
    "Następnie badane są wpływy zmian wartości poszczególnych parametrów "
   ]
  },
  {
   "cell_type": "markdown",
   "metadata": {},
   "source": [
    "### Metoda `swap`"
   ]
  },
  {
   "cell_type": "code",
   "execution_count": null,
   "metadata": {},
   "outputs": [
    {
     "name": "stdout",
     "output_type": "stream",
     "text": [
      "Przekroczono limit czasu (1000 s).\n"
     ]
    }
   ],
   "source": [
    "swap_p_1, swap_c_1, swap_t_1 = simulated_annealing(\n",
    "        data1,\n",
    "        initial_temperature= 10000,\n",
    "        cooling_rate=0.99,\n",
    "        max_iterations=10000,\n",
    "        min_temperature=0.00001,\n",
    "        time_limit= None,\n",
    "        move_type= \"swap\"\n",
    "    )\n",
    "\n",
    "swap_p_2, swap_c_2, swap_t_2 = simulated_annealing(\n",
    "        data2,\n",
    "        initial_temperature= 10000,\n",
    "        cooling_rate=0.99,\n",
    "        max_iterations=10000,\n",
    "        min_temperature=0.00001,\n",
    "        time_limit= None,\n",
    "        move_type= \"swap\"\n",
    "    )\n",
    "\n",
    "swap_p_3, swap_c_3, swap_t_3 = simulated_annealing(\n",
    "        data3,\n",
    "        initial_temperature= 10000,\n",
    "        cooling_rate=0.99,\n",
    "        max_iterations=10000,\n",
    "        min_temperature=0.00001,\n",
    "        time_limit= None,\n",
    "        move_type= \"swap\"\n",
    "    )"
   ]
  },
  {
   "cell_type": "markdown",
   "metadata": {},
   "source": [
    "### Metoda `two_opt`"
   ]
  },
  {
   "cell_type": "code",
   "execution_count": null,
   "metadata": {},
   "outputs": [
    {
     "name": "stdout",
     "output_type": "stream",
     "text": [
      "Przekroczono limit czasu (1000 s).\n",
      "Przekroczono limit czasu (1000 s).\n"
     ]
    }
   ],
   "source": [
    "opt_p_1, opt_c_1, opt_t_1 = simulated_annealing(\n",
    "        data1,\n",
    "        initial_temperature= 10000,\n",
    "        cooling_rate=0.99,\n",
    "        max_iterations=10000,\n",
    "        min_temperature=0.00001,\n",
    "        time_limit= None,\n",
    "        move_type= \"two_opt\"\n",
    "    )\n",
    "\n",
    "opt_p_2, opt_c_2, opt_t_2 = simulated_annealing(\n",
    "        data2,\n",
    "        initial_temperature= 10000,\n",
    "        cooling_rate=0.99,\n",
    "        max_iterations=10000,\n",
    "        min_temperature=0.00001,\n",
    "        time_limit= None,\n",
    "        move_type= \"two_opt\"\n",
    "    )\n",
    "\n",
    "opt_p_3, opt_c_3, opt_t_3 = simulated_annealing(\n",
    "        data3,\n",
    "        initial_temperature= 10000,\n",
    "        cooling_rate=0.99,\n",
    "        max_iterations=10000,\n",
    "        min_temperature=0.00001,\n",
    "        time_limit= None,\n",
    "        move_type= \"two_opt\"\n",
    "    )"
   ]
  },
  {
   "cell_type": "markdown",
   "metadata": {},
   "source": [
    "### Metoda `insertion`"
   ]
  },
  {
   "cell_type": "code",
   "execution_count": null,
   "metadata": {},
   "outputs": [],
   "source": [
    "ins_p_1, ins_c_1, ins_t_1 = simulated_annealing(\n",
    "        data1,\n",
    "        initial_temperature= 10000,\n",
    "        cooling_rate=0.99,\n",
    "        max_iterations=10000,\n",
    "        min_temperature=0.00001,\n",
    "        time_limit= None,\n",
    "        move_type= \"insertion\"\n",
    "    )\n",
    "\n",
    "ins_p_2, ins_c_2, ins_t_2 = simulated_annealing(\n",
    "        data2,\n",
    "        initial_temperature= 10000,\n",
    "        cooling_rate=0.99,\n",
    "        max_iterations=10000,\n",
    "        min_temperature=0.00001,\n",
    "        time_limit= None,\n",
    "        move_type= \"insertion\"\n",
    "    )\n",
    "\n",
    "ins_p_3, ins_c_3, ins_t_3 = simulated_annealing(\n",
    "        data3,\n",
    "        initial_temperature= 10000,\n",
    "        cooling_rate=0.99,\n",
    "        max_iterations=10000,\n",
    "        min_temperature=0.00001,\n",
    "        time_limit= None,\n",
    "        move_type= \"insertion\"\n",
    "    )"
   ]
  },
  {
   "cell_type": "markdown",
   "metadata": {},
   "source": [
    "Układ w ramce danych"
   ]
  },
  {
   "cell_type": "code",
   "execution_count": null,
   "metadata": {},
   "outputs": [],
   "source": [
    "W8 =  {\n",
    "    \"Długość ścieżki\": [swap_c_1, opt_c_1, ins_c_1],\n",
    "    \"Ścieżka\": [swap_p_1, opt_p_1, ins_p_1],\n",
    "    \"Czas\": [swap_t_1, opt_t_1, ins_t_1]\n",
    "}\n",
    "\n",
    "sa1 = pd.DataFrame(data = W8)\n",
    "sa1.index = [\"Swap\" , \"2-opt\", \"Insertion\"]\n",
    "\n",
    "W9 =  {\n",
    "    \"Długość ścieżki\": [swap_c_2, opt_c_2, ins_c_2],\n",
    "    \"Ścieżka\": [swap_p_2, opt_p_2, ins_p_2],\n",
    "    \"Czas\": [swap_t_2, opt_t_2, ins_t_2]\n",
    "}\n",
    "\n",
    "sa2 = pd.DataFrame(data = W9)\n",
    "sa2.index = [\"Swap\" , \"2-opt\", \"Insertion\"]\n",
    "\n",
    "W10 =  {\n",
    "    \"Długość ścieżki\": [swap_c_3, opt_c_3, ins_c_3],\n",
    "    \"Ścieżka\": [swap_p_3, opt_p_3, ins_p_3],\n",
    "    \"Czas\": [swap_t_3, opt_t_3, ins_t_3]\n",
    "}\n",
    "\n",
    "sa3 = pd.DataFrame(data = W10)\n",
    "sa3.index = [\"Swap\" , \"2-opt\", \"Insertion\"]"
   ]
  },
  {
   "cell_type": "markdown",
   "metadata": {},
   "source": [
    "### Badanie wpływu zmian wartości parametru `initial_temperature`"
   ]
  },
  {
   "cell_type": "code",
   "execution_count": null,
   "metadata": {},
   "outputs": [],
   "source": [
    "# DANE NR 1 \n",
    "results = []\n",
    "for initial_temperature in range(1000, 100000,  2000):\n",
    "    best_path, best_cost, best_time = simulated_annealing(\n",
    "        data1,\n",
    "        initial_temperature= initial_temperature,\n",
    "        cooling_rate=0.99,\n",
    "        max_iterations=10000,\n",
    "        min_temperature=0.00001,\n",
    "        time_limit= None,\n",
    "        move_type= \"two_opt\"\n",
    "    )\n",
    "    results.append({\"PARAMETR\": initial_temperature, \"WYNIK\": best_cost, \"Ścieżka\" : best_path, \"CZAS\": best_time})\n",
    "\n",
    "# Konwersja wyników do DataFrame\n",
    "tem1 = pd.DataFrame(results)\n",
    "\n",
    "# DANE NR 2\n",
    "results = []\n",
    "for initial_temperature in range(1000, 100000,  2000):\n",
    "    best_path, best_cost, best_time = simulated_annealing(\n",
    "        data2,\n",
    "        initial_temperature= initial_temperature,\n",
    "        cooling_rate=0.99,\n",
    "        max_iterations=10000,\n",
    "        min_temperature=0.00001,\n",
    "        time_limit= None,\n",
    "        move_type= \"two_opt\"\n",
    "    )\n",
    "    results.append({\"PARAMETR\": initial_temperature, \"WYNIK\": best_cost, \"Ścieżka\" : best_path, \"CZAS\": best_time})\n",
    "\n",
    "# Konwersja wyników do DataFrame\n",
    "tem2 = pd.DataFrame(results)\n",
    "\n",
    "\n",
    "# DANE NR 3\n",
    "results = []\n",
    "for initial_temperature in range(1000, 100000,  2000):\n",
    "    best_path, best_cost, best_time = simulated_annealing(\n",
    "        data3,\n",
    "        initial_temperature= initial_temperature,\n",
    "        cooling_rate=0.99,\n",
    "        max_iterations=10000,\n",
    "        min_temperature=0.00001,\n",
    "        time_limit= None,\n",
    "        move_type= \"two_opt\"\n",
    "    )\n",
    "    results.append({\"PARAMETR\": initial_temperature, \"WYNIK\": best_cost, \"Ścieżka\" : best_path, \"CZAS\": best_time})\n",
    "\n",
    "# Konwersja wyników do DataFrame\n",
    "tem3 = pd.DataFrame(results)"
   ]
  },
  {
   "cell_type": "code",
   "execution_count": null,
   "metadata": {},
   "outputs": [],
   "source": [
    "# Połączenie wyników z trzech zbiorów danych w jeden DataFrame\n",
    "merged_tem = tem1.merge(tem2, on=\"PARAMETR\").merge(tem3, on=\"PARAMETR\")"
   ]
  },
  {
   "cell_type": "markdown",
   "metadata": {},
   "source": [
    "### Badanie wpływu zmian wartości parametru `cooling_rate`"
   ]
  },
  {
   "cell_type": "code",
   "execution_count": null,
   "metadata": {},
   "outputs": [],
   "source": [
    "# DANE NR 1 \n",
    "results = []\n",
    "for cooling_rate in range(0.8, 0.999,  0.01):\n",
    "    best_path, best_cost, best_time = simulated_annealing(\n",
    "        data1,\n",
    "        initial_temperature= 10000,\n",
    "        cooling_rate=cooling_rate,\n",
    "        max_iterations=10000,\n",
    "        min_temperature=0.00001,\n",
    "        time_limit= None,\n",
    "        move_type= \"two_opt\"\n",
    "    )\n",
    "    results.append({\"PARAMETR\": cooling_rate, \"WYNIK\": best_cost, \"Ścieżka\" : best_path, \"CZAS\": best_time})\n",
    "\n",
    "\n",
    "cool1 = pd.DataFrame(results)\n",
    "\n",
    "\n",
    "# DANE NR 2\n",
    "results = []\n",
    "for cooling_rate in range(0.8, 0.999,  0.01):\n",
    "    best_path, best_cost, best_time = simulated_annealing(\n",
    "        data2,\n",
    "        initial_temperature= 10000,\n",
    "        cooling_rate=cooling_rate,\n",
    "        max_iterations=10000,\n",
    "        min_temperature=0.00001,\n",
    "        time_limit= None,\n",
    "        move_type= \"two_opt\"\n",
    "    )\n",
    "    results.append({\"PARAMETR\": cooling_rate, \"WYNIK\": best_cost, \"Ścieżka\" : best_path, \"CZAS\": best_time})\n",
    "\n",
    "# Tworzenie ramki danych\n",
    "cool2 = pd.DataFrame(results)\n",
    "\n",
    "\n",
    "# DANE NR 3\n",
    "results = []\n",
    "for cooling_rate in range(0.8, 0.999,  0.01):\n",
    "    best_path, best_cost, best_time = simulated_annealing(\n",
    "        data3,\n",
    "        initial_temperature= 10000,\n",
    "        cooling_rate=cooling_rate,\n",
    "        max_iterations=10000,\n",
    "        min_temperature=0.00001,\n",
    "        time_limit= None,\n",
    "        move_type= \"two_opt\"\n",
    "    )\n",
    "    results.append({\"PARAMETR\": cooling_rate, \"WYNIK\": best_cost, \"Ścieżka\" : best_path, \"CZAS\": best_time})\n",
    "\n",
    "# Tworzenie ramki danych\n",
    "cool3 = pd.DataFrame(results)"
   ]
  },
  {
   "cell_type": "code",
   "execution_count": null,
   "metadata": {},
   "outputs": [],
   "source": [
    "merged_cool = cool1.merge(cool2, on=\"PARAMETR\").merge(cool3, on=\"PARAMETR\")"
   ]
  },
  {
   "cell_type": "markdown",
   "metadata": {},
   "source": [
    "### Badanie wpływu zmian wartości parametru `max_iterations`"
   ]
  },
  {
   "cell_type": "code",
   "execution_count": null,
   "metadata": {},
   "outputs": [],
   "source": [
    "# DANE NR 1 \n",
    "results = []\n",
    "for max_iterations in range(100, 100000,  200):\n",
    "    best_path, best_cost, best_timet = simulated_annealing(\n",
    "        data1,\n",
    "        initial_temperature= 10000,\n",
    "        cooling_rate=0.99,\n",
    "        max_iterations=max_iterations,\n",
    "        min_temperature=0.00001,\n",
    "        time_limit= None,\n",
    "        move_type= \"two_opt\"\n",
    "    )\n",
    "    results.append({\"PARAMETR\": max_iterations, \"WYNIK\": best_cost, \"Ścieżka\" : best_path, \"CZAS\": best_time})\n",
    "\n",
    "\n",
    "max1 = pd.DataFrame(results)\n",
    "\n",
    "\n",
    "# DANE NR 2\n",
    "results = []\n",
    "for max_iterations in range(100, 100000,  200):\n",
    "    best_path, best_cost, best_timet = simulated_annealing(\n",
    "        data2,\n",
    "        initial_temperature= 10000,\n",
    "        cooling_rate=0.99,\n",
    "        max_iterations=max_iterations,\n",
    "        min_temperature=0.00001,\n",
    "        time_limit= None,\n",
    "        move_type= \"two_opt\"\n",
    "    )\n",
    "    results.append({\"PARAMETR\": max_iterations, \"WYNIK\": best_cost, \"Ścieżka\" : best_path, \"CZAS\": best_time})\n",
    "\n",
    "# Tworzenie ramki danych\n",
    "max2 = pd.DataFrame(results)\n",
    "\n",
    "\n",
    "# DANE NR 3\n",
    "results = []\n",
    "for max_iterations in range(100, 100000,  200):\n",
    "    best_path, best_cost, best_timet = simulated_annealing(\n",
    "        data3,\n",
    "        initial_temperature= 10000,\n",
    "        cooling_rate=0.99,\n",
    "        max_iterations=max_iterations,\n",
    "        min_temperature=0.00001,\n",
    "        time_limit= None,\n",
    "        move_type= \"two_opt\"\n",
    "    )\n",
    "    results.append({\"PARAMETR\": max_iterations, \"WYNIK\": best_cost, \"Ścieżka\" : best_path, \"CZAS\": best_time})\n",
    "\n",
    "# Tworzenie ramki danych\n",
    "max3 = pd.DataFrame(results)"
   ]
  },
  {
   "cell_type": "code",
   "execution_count": null,
   "metadata": {},
   "outputs": [],
   "source": [
    "merged_max = max1.merge(max2, on=\"PARAMETR\").merge(max3, on=\"PARAMETR\")"
   ]
  },
  {
   "cell_type": "markdown",
   "metadata": {},
   "source": [
    "### Badanie wpływu zmian wartości parametru `min_temperature`"
   ]
  },
  {
   "cell_type": "code",
   "execution_count": null,
   "metadata": {},
   "outputs": [],
   "source": [
    "# DANE NR 1\n",
    "results = []\n",
    "for min_temperature in np.logspace(-6, -2, num=10):  \n",
    "    best_path, best_cost, best_timet = simulated_annealing(\n",
    "        data1,\n",
    "        initial_temperature=10000,\n",
    "        cooling_rate=0.99,\n",
    "        max_iterations=10000, \n",
    "        min_temperature=min_temperature,\n",
    "        time_limit=None,\n",
    "        move_type=\"two_opt\"\n",
    "    )\n",
    "    results.append({\"PARAMETR\": min_temperature, \"WYNIK\": best_cost,  \"Ścieżka\" : best_path, \"CZAS\": best_time})\n",
    "\n",
    "min_temp1 = pd.DataFrame(results)\n",
    "\n",
    "# DANE NR 2\n",
    "results = []\n",
    "for min_temperature in np.logspace(-6, -2, num=10):\n",
    "    best_path, best_cost, best_timet = simulated_annealing(\n",
    "        data2,\n",
    "        initial_temperature=10000,\n",
    "        cooling_rate=0.99,\n",
    "        max_iterations=10000, \n",
    "        min_temperature=min_temperature,\n",
    "        time_limit=None,\n",
    "        move_type=\"two_opt\"\n",
    "    )\n",
    "    results.append({\"PARAMETR\": min_temperature, \"WYNIK\": best_cost,  \"Ścieżka\" : best_path, \"CZAS\": best_time})\n",
    "\n",
    "min_temp2 = pd.DataFrame(results)\n",
    "\n",
    "# DANE NR 3\n",
    "results = []\n",
    "for min_temperature in np.logspace(-6, -2, num=10):\n",
    "    best_path, best_cost, best_timet = simulated_annealing(\n",
    "        data3,\n",
    "        initial_temperature=10000,\n",
    "        cooling_rate=0.99,\n",
    "        max_iterations=10000, \n",
    "        min_temperature=min_temperature,\n",
    "        time_limit=None,\n",
    "        move_type=\"two_opt\"\n",
    "    )\n",
    "    results.append({\"PARAMETR\": min_temperature, \"WYNIK\": best_cost,  \"Ścieżka\" : best_path, \"CZAS\": best_time})\n",
    "\n",
    "min_temp3 = pd.DataFrame(results)"
   ]
  },
  {
   "cell_type": "code",
   "execution_count": null,
   "metadata": {},
   "outputs": [],
   "source": [
    "merged_min = min_temp1.merge(min_temp2, on=\"PARAMETR\").merge(min_temp3, on=\"PARAMETR\")"
   ]
  },
  {
   "cell_type": "markdown",
   "metadata": {},
   "source": [
    "Zapis do pliku"
   ]
  },
  {
   "cell_type": "code",
   "execution_count": null,
   "metadata": {},
   "outputs": [],
   "source": [
    "result = {\n",
    "    \"Porównanie_metod_1\": sa1,\n",
    "    \"Porównanie_metod_2\": sa2,\n",
    "    \"Porównanie_metod_3\": sa3,\n",
    "    \"max_iterations\": merged_max,\n",
    "    \"min_temp\":  merged_min,\n",
    "    \"cooling_rate\": merged_cool,\n",
    "    \"initial_temp\": merged_tem\n",
    "}\n",
    "\n",
    "# Ścieżka do pliku Excel\n",
    "file_name = \"SA.xlsx\"\n",
    "\n",
    "# Zapisujemy dane do Excela\n",
    "with pd.ExcelWriter(file_name) as writer:\n",
    "    for sheet_name, df in result.items():\n",
    "        df.to_excel(writer, sheet_name=sheet_name, index=False)\n",
    "\n",
    "print(f\"Wyniki zostały zapisane w pliku {file_name}\")"
   ]
  }
 ],
 "metadata": {
  "kernelspec": {
   "display_name": "Python 3",
   "language": "python",
   "name": "python3"
  },
  "language_info": {
   "codemirror_mode": {
    "name": "ipython",
    "version": 3
   },
   "file_extension": ".py",
   "mimetype": "text/x-python",
   "name": "python",
   "nbconvert_exporter": "python",
   "pygments_lexer": "ipython3",
   "version": "3.12.6"
  }
 },
 "nbformat": 4,
 "nbformat_minor": 2
}
