{
 "cells": [
  {
   "cell_type": "markdown",
   "metadata": {},
   "source": [
    "# Algorytm wspinaczki z multistartem (iteracyjna wspinaczka - IHC) "
   ]
  },
  {
   "cell_type": "markdown",
   "metadata": {},
   "source": [
    "Grupa: Amelia Madej, Justyna Sarkowicz, Olga Sieradzan, Weronika Duda i Aleksandra Węgrzyn"
   ]
  },
  {
   "cell_type": "markdown",
   "metadata": {},
   "source": [
    "## Biblioteki"
   ]
  },
  {
   "cell_type": "code",
   "execution_count": 2,
   "metadata": {},
   "outputs": [],
   "source": [
    "import pandas as pd\n",
    "import numpy as np\n",
    "import matplotlib.pyplot as plt\n",
    "import time\n",
    "import itertools\n",
    "import random\n",
    "import math\n",
    "from collections import deque\n",
    "from openpyxl import load_workbook"
   ]
  },
  {
   "cell_type": "markdown",
   "metadata": {},
   "source": [
    "## Pobór danych"
   ]
  },
  {
   "cell_type": "code",
   "execution_count": null,
   "metadata": {},
   "outputs": [],
   "source": [
    "file_path1 = \"./Dane_TSP_48.xlsx\"\n",
    "file_path2 = \"./Dane_TSP_76.xlsx\"\n",
    "file_path3 = \"./Dane_TSP_127.xlsx\"\n",
    "\n",
    "# index_col=0 zamienia pierwszą kolumne na indeksy wierszy \n",
    "# .to_numpy() zamienia ramkę danych na macierz\n",
    "data1 = pd.read_excel(file_path1, index_col=0).to_numpy()\n",
    "data2 = pd.read_excel(file_path2, index_col=0).to_numpy()\n",
    "data3 = pd.read_excel(file_path3, index_col=0).to_numpy()"
   ]
  },
  {
   "cell_type": "markdown",
   "metadata": {},
   "source": [
    "## Rodzaj ruchów"
   ]
  },
  {
   "cell_type": "markdown",
   "metadata": {},
   "source": [
    "Poniżej znajduje się implementacja trzech rodzajów ruchów (generowania rozwiązań sąsiednich)"
   ]
  },
  {
   "cell_type": "code",
   "execution_count": 3,
   "metadata": {},
   "outputs": [],
   "source": [
    "# Wybieramy dwie pozycje i zmieniamy je miejscami \n",
    "def swap_move(path):  \n",
    "    for i, j in itertools.combinations(range(len(path)), 2):\n",
    "        new_path = path[:]\n",
    "        new_path[i], new_path[j] = new_path[j], new_path[i]\n",
    "        yield new_path\n",
    " \n",
    "\n",
    "# Odwracamy segment pomiędzy wybranymi wartościami czyli \n",
    "# [a b c d e] -> [a d c b e]\n",
    "def two_opt_move(path):\n",
    "    for i, j in itertools.combinations(range(len(path)), 2):\n",
    "        new_path = path[:i] + path[i:j][::-1] + path[j:]\n",
    "        yield new_path\n",
    " \n",
    "# Wybieramy jeden wierzchołek w ścieżce, usuwamy z jednego miejsca i przerzucamy w inne miejsce\n",
    "def insertion_move(path):\n",
    "    n = len(path)\n",
    "    for i in range(n):\n",
    "        for j in range(n):\n",
    "            if i != j:\n",
    "                new_path = path[:]\n",
    "                node = new_path.pop(i)\n",
    "                new_path.insert(j, node)\n",
    "                yield new_path\n"
   ]
  },
  {
   "cell_type": "markdown",
   "metadata": {},
   "source": [
    "## Długość ścieżki"
   ]
  },
  {
   "cell_type": "code",
   "execution_count": 4,
   "metadata": {},
   "outputs": [],
   "source": [
    "def calculate_path_cost(matrix, path):\n",
    "    return sum(matrix[path[i - 1]][path[i]] for i in range(len(path))) + matrix[path[-1]][path[0]]"
   ]
  },
  {
   "cell_type": "markdown",
   "metadata": {},
   "source": [
    "## Implementacja algorytmu"
   ]
  },
  {
   "cell_type": "code",
   "execution_count": 6,
   "metadata": {},
   "outputs": [],
   "source": [
    "# Mapowanie typów sąsiedztwa na funkcje\n",
    "neighborhood_functions = {\n",
    "    \"swap\": swap_move,\n",
    "    \"two_opt\": two_opt_move,\n",
    "    \"insertion\": insertion_move\n",
    "}\n",
    "\n",
    "def hill_climbing(distance_matrix, initial_route, neighborhood_type, max_iterations_without_improvement, max_hill_climbing_iterations):\n",
    "    current_route = initial_route\n",
    "    current_distance = calculate_path_cost(distance_matrix, current_route)\n",
    "    \n",
    "    # Wybierz funkcję sąsiedztwa na podstawie typu\n",
    "    neighbor_func = neighborhood_functions[neighborhood_type]\n",
    "    iterations_without_improvement = 0\n",
    "    total_iterations = 0\n",
    "\n",
    "    while iterations_without_improvement < max_iterations_without_improvement and total_iterations < max_hill_climbing_iterations:\n",
    "        improved = False\n",
    "        # Przeglądaj sąsiedztwa\n",
    "        for neighbor in neighbor_func(current_route):\n",
    "            new_distance = calculate_path_cost(distance_matrix, neighbor)\n",
    "            if new_distance < current_distance:\n",
    "                current_route = neighbor\n",
    "                current_distance = new_distance\n",
    "                improved = True\n",
    "                iterations_without_improvement = 0\n",
    "                break  # Skok do następnego sąsiedztwa\n",
    "\n",
    "        if not improved:\n",
    "            # Jeśli nie znaleziono lepszego rozwiązania, zwiększ licznik iteracji bez poprawy\n",
    "            iterations_without_improvement += 1\n",
    "        \n",
    "        # Zwiększ licznik iteracji\n",
    "        total_iterations += 1\n",
    "\n",
    "    return current_route, current_distance\n",
    "\n",
    "def iterated_hill_climbing(distance_matrix, num_starts=100, neighborhood_type=\"two_opt\", time_limit=500, max_iterations_without_improvement=100, max_hill_climbing_iterations=1000):\n",
    "    start_time = time.time()  # Czas rozpoczęcia\n",
    "\n",
    "    n = len(distance_matrix)\n",
    "    best_route = None\n",
    "    best_distance = float('inf')\n",
    "    best_time = float('inf')\n",
    "\n",
    "    for start in range(num_starts):\n",
    "        # Sprawdzenie limitu czasu\n",
    "        if time_limit and (time.time() - start_time > time_limit):\n",
    "            print(f\"Przekroczono limit czasu ({time_limit} s).\")\n",
    "            break\n",
    "\n",
    "        # Losowe rozwiązanie początkowe\n",
    "        initial_route = list(range(n))\n",
    "        random.shuffle(initial_route)\n",
    "\n",
    "        # Wspinaczka\n",
    "        hill_climbing_start_time = time.time()\n",
    "        current_route, current_distance = hill_climbing(distance_matrix, initial_route, neighborhood_type, max_iterations_without_improvement, max_hill_climbing_iterations)\n",
    "        hill_climbing_time = time.time() - hill_climbing_start_time\n",
    "\n",
    "        # Aktualizacja najlepszego rozwiązania\n",
    "        if current_distance < best_distance:\n",
    "            best_route = current_route\n",
    "            best_distance = current_distance\n",
    "            best_time = hill_climbing_time\n",
    "\n",
    "    best_route = [x + 1 for x in best_route]  # Zmień indeksy na numery miast\n",
    "    return best_route, best_distance, best_time"
   ]
  },
  {
   "cell_type": "markdown",
   "metadata": {},
   "source": [
    "## Generowanie wyników"
   ]
  },
  {
   "cell_type": "markdown",
   "metadata": {},
   "source": [
    "Poniżej znajduje się zestawienie wyników z uwzględnieniem wpływu na wyniki różnych wartości parametrów algorytmu"
   ]
  },
  {
   "cell_type": "markdown",
   "metadata": {},
   "source": [
    "Za podstawowe dane przyjmujemy:\n",
    "\n",
    "* num_starts = 100\n",
    "\n",
    "* neighborhood_type = `two_opt`\n",
    "\n",
    "* time_limit = 500\n",
    "\n",
    "* max_iterations_without_improvement = 100\n",
    "\n",
    "* max_hill_climbing_iterations = 1000\n",
    "\n",
    "Następnie badane są wpływy zmian wartości poszczególnych parametrów "
   ]
  },
  {
   "cell_type": "code",
   "execution_count": 11,
   "metadata": {},
   "outputs": [],
   "source": [
    "def run_multiple_tests(data, dataset_name, num_tests=10):\n",
    "    results = []\n",
    "    for _ in range(num_tests):\n",
    "        best_path, best_cost, best_time = iterated_hill_climbing(data)\n",
    "        results.append({\n",
    "            \"WYNIK\": best_cost,\n",
    "            \"ŚCIEŻKA\": best_path,\n",
    "            \"CZAS\": best_time,\n",
    "            \"DATASET\": dataset_name\n",
    "        })\n",
    "    return results"
   ]
  },
  {
   "cell_type": "code",
   "execution_count": 12,
   "metadata": {},
   "outputs": [
    {
     "name": "stdout",
     "output_type": "stream",
     "text": [
      "Przekroczono limit czasu (500 s).\n",
      "Przekroczono limit czasu (500 s).\n",
      "Przekroczono limit czasu (500 s).\n",
      "Przekroczono limit czasu (500 s).\n",
      "Przekroczono limit czasu (500 s).\n",
      "Przekroczono limit czasu (500 s).\n",
      "Przekroczono limit czasu (500 s).\n",
      "Przekroczono limit czasu (500 s).\n",
      "Przekroczono limit czasu (500 s).\n",
      "Przekroczono limit czasu (500 s).\n",
      "Przekroczono limit czasu (500 s).\n",
      "Przekroczono limit czasu (500 s).\n",
      "Przekroczono limit czasu (500 s).\n",
      "Przekroczono limit czasu (500 s).\n",
      "Przekroczono limit czasu (500 s).\n",
      "Przekroczono limit czasu (500 s).\n",
      "Przekroczono limit czasu (500 s).\n",
      "Przekroczono limit czasu (500 s).\n",
      "Przekroczono limit czasu (500 s).\n",
      "Przekroczono limit czasu (500 s).\n"
     ]
    }
   ],
   "source": [
    "all_results = []\n",
    "all_results.extend(run_multiple_tests(data1, \"DATA1\"))\n",
    "all_results.extend(run_multiple_tests(data2, \"DATA2\"))\n",
    "all_results.extend(run_multiple_tests(data3, \"DATA3\"))\n",
    "\n",
    "basic = pd.DataFrame(data = all_results)\n",
    "\n",
    "with pd.ExcelWriter('IHC.xlsx', engine='openpyxl', mode='w') as writer:\n",
    "    basic.to_excel(writer, sheet_name = \"Basic\", index=False)"
   ]
  },
  {
   "cell_type": "markdown",
   "metadata": {},
   "source": [
    "### Badanie wpływu zmian wartości parametru `num_starts`"
   ]
  },
  {
   "cell_type": "code",
   "execution_count": 10,
   "metadata": {},
   "outputs": [
    {
     "name": "stdout",
     "output_type": "stream",
     "text": [
      "Przekroczono limit czasu (1000 s).\n",
      "Przekroczono limit czasu (1000 s).\n",
      "Przekroczono limit czasu (1000 s).\n",
      "Przekroczono limit czasu (1000 s).\n",
      "Przekroczono limit czasu (1000 s).\n",
      "Przekroczono limit czasu (1000 s).\n",
      "Przekroczono limit czasu (1000 s).\n",
      "Przekroczono limit czasu (1000 s).\n",
      "Przekroczono limit czasu (1000 s).\n",
      "Przekroczono limit czasu (1000 s).\n",
      "Przekroczono limit czasu (1000 s).\n",
      "Przekroczono limit czasu (1000 s).\n",
      "Przekroczono limit czasu (1000 s).\n",
      "Przekroczono limit czasu (1000 s).\n",
      "Przekroczono limit czasu (1000 s).\n",
      "Przekroczono limit czasu (1000 s).\n",
      "Przekroczono limit czasu (1000 s).\n",
      "Przekroczono limit czasu (1000 s).\n",
      "Przekroczono limit czasu (1000 s).\n",
      "Przekroczono limit czasu (1000 s).\n",
      "Przekroczono limit czasu (1000 s).\n",
      "Przekroczono limit czasu (1000 s).\n",
      "Przekroczono limit czasu (1000 s).\n",
      "Przekroczono limit czasu (1000 s).\n",
      "Przekroczono limit czasu (1000 s).\n",
      "Przekroczono limit czasu (1000 s).\n",
      "Przekroczono limit czasu (1000 s).\n",
      "Przekroczono limit czasu (1000 s).\n",
      "Przekroczono limit czasu (1000 s).\n",
      "Przekroczono limit czasu (1000 s).\n",
      "Przekroczono limit czasu (1000 s).\n",
      "Przekroczono limit czasu (1000 s).\n",
      "Przekroczono limit czasu (1000 s).\n",
      "Przekroczono limit czasu (1000 s).\n",
      "Przekroczono limit czasu (1000 s).\n",
      "Przekroczono limit czasu (1000 s).\n",
      "Przekroczono limit czasu (1000 s).\n",
      "Przekroczono limit czasu (1000 s).\n",
      "Przekroczono limit czasu (1000 s).\n",
      "Przekroczono limit czasu (1000 s).\n",
      "Przekroczono limit czasu (1000 s).\n",
      "Przekroczono limit czasu (1000 s).\n",
      "Przekroczono limit czasu (1000 s).\n",
      "Przekroczono limit czasu (1000 s).\n",
      "Przekroczono limit czasu (1000 s).\n",
      "Przekroczono limit czasu (1000 s).\n",
      "Przekroczono limit czasu (1000 s).\n",
      "Przekroczono limit czasu (1000 s).\n",
      "Przekroczono limit czasu (1000 s).\n",
      "Przekroczono limit czasu (1000 s).\n",
      "Przekroczono limit czasu (1000 s).\n",
      "Przekroczono limit czasu (1000 s).\n",
      "Przekroczono limit czasu (1000 s).\n",
      "Przekroczono limit czasu (1000 s).\n",
      "Przekroczono limit czasu (1000 s).\n",
      "Przekroczono limit czasu (1000 s).\n",
      "Przekroczono limit czasu (1000 s).\n",
      "Przekroczono limit czasu (1000 s).\n",
      "Przekroczono limit czasu (1000 s).\n",
      "Przekroczono limit czasu (1000 s).\n",
      "Przekroczono limit czasu (1000 s).\n",
      "Przekroczono limit czasu (1000 s).\n"
     ]
    }
   ],
   "source": [
    "def test_num_starts(data, dataset_name, num_repeats=10):\n",
    "    results = []\n",
    "    num_starts_values = [50, 75, 100, 125, 150]\n",
    "    for num_starts in num_starts_values:\n",
    "        for _ in range(num_repeats):\n",
    "            best_path, best_cost, best_time = iterated_hill_climbing(data, num_starts=num_starts)\n",
    "            results.append({\"PARAMETR\": num_starts, \"WYNIK_1\": best_cost, \"Ścieżka\": best_path, \"CZAS\": best_time})\n",
    "    df_results = pd.DataFrame(results)\n",
    "    df_results[\"DATASET\"] = dataset_name\n",
    "    return df_results\n",
    "\n",
    "# Dla 3 zestawów danych\n",
    "df_num_starts_1 = test_num_starts(data1, \"DATA1\")\n",
    "df_num_starts_2 = test_num_starts(data2, \"DATA2\")\n",
    "df_num_starts_3 = test_num_starts(data3, \"DATA3\")\n",
    "\n",
    "# Łączenie wyników w jeden DataFrame\n",
    "num_starts = pd.concat([df_num_starts_1, df_num_starts_2, df_num_starts_3], ignore_index=True)\n",
    "with pd.ExcelWriter('IHC.xlsx', engine='openpyxl', mode='a') as writer:\n",
    "    num_starts.to_excel(writer, sheet_name = \"num_starts\", index=False)"
   ]
  },
  {
   "cell_type": "markdown",
   "metadata": {},
   "source": [
    "### Badanie wpływu zmian wartości parametru `neighborhood_type`"
   ]
  },
  {
   "cell_type": "code",
   "execution_count": 11,
   "metadata": {},
   "outputs": [
    {
     "name": "stdout",
     "output_type": "stream",
     "text": [
      "Przekroczono limit czasu (1000 s).\n",
      "Przekroczono limit czasu (1000 s).\n",
      "Przekroczono limit czasu (1000 s).\n",
      "Przekroczono limit czasu (1000 s).\n",
      "Przekroczono limit czasu (1000 s).\n",
      "Przekroczono limit czasu (1000 s).\n",
      "Przekroczono limit czasu (1000 s).\n",
      "Przekroczono limit czasu (1000 s).\n",
      "Przekroczono limit czasu (1000 s).\n",
      "Przekroczono limit czasu (1000 s).\n",
      "Przekroczono limit czasu (1000 s).\n",
      "Przekroczono limit czasu (1000 s).\n",
      "Przekroczono limit czasu (1000 s).\n",
      "Przekroczono limit czasu (1000 s).\n",
      "Przekroczono limit czasu (1000 s).\n",
      "Przekroczono limit czasu (1000 s).\n",
      "Przekroczono limit czasu (1000 s).\n",
      "Przekroczono limit czasu (1000 s).\n",
      "Przekroczono limit czasu (1000 s).\n",
      "Przekroczono limit czasu (1000 s).\n",
      "Przekroczono limit czasu (1000 s).\n",
      "Przekroczono limit czasu (1000 s).\n",
      "Przekroczono limit czasu (1000 s).\n",
      "Przekroczono limit czasu (1000 s).\n",
      "Przekroczono limit czasu (1000 s).\n",
      "Przekroczono limit czasu (1000 s).\n",
      "Przekroczono limit czasu (1000 s).\n",
      "Przekroczono limit czasu (1000 s).\n",
      "Przekroczono limit czasu (1000 s).\n",
      "Przekroczono limit czasu (1000 s).\n",
      "Przekroczono limit czasu (1000 s).\n",
      "Przekroczono limit czasu (1000 s).\n",
      "Przekroczono limit czasu (1000 s).\n",
      "Przekroczono limit czasu (1000 s).\n",
      "Przekroczono limit czasu (1000 s).\n",
      "Przekroczono limit czasu (1000 s).\n",
      "Przekroczono limit czasu (1000 s).\n",
      "Przekroczono limit czasu (1000 s).\n",
      "Przekroczono limit czasu (1000 s).\n",
      "Przekroczono limit czasu (1000 s).\n",
      "Przekroczono limit czasu (1000 s).\n",
      "Przekroczono limit czasu (1000 s).\n",
      "Przekroczono limit czasu (1000 s).\n",
      "Przekroczono limit czasu (1000 s).\n",
      "Przekroczono limit czasu (1000 s).\n",
      "Przekroczono limit czasu (1000 s).\n",
      "Przekroczono limit czasu (1000 s).\n",
      "Przekroczono limit czasu (1000 s).\n",
      "Przekroczono limit czasu (1000 s).\n",
      "Przekroczono limit czasu (1000 s).\n",
      "Przekroczono limit czasu (1000 s).\n",
      "Przekroczono limit czasu (1000 s).\n",
      "Przekroczono limit czasu (1000 s).\n",
      "Przekroczono limit czasu (1000 s).\n",
      "Przekroczono limit czasu (1000 s).\n",
      "Przekroczono limit czasu (1000 s).\n",
      "Przekroczono limit czasu (1000 s).\n",
      "Przekroczono limit czasu (1000 s).\n",
      "Przekroczono limit czasu (1000 s).\n",
      "Przekroczono limit czasu (1000 s).\n"
     ]
    }
   ],
   "source": [
    "def test_neighborhood_type(data, dataset_name, num_repeats=10):\n",
    "    results = []\n",
    "    neighborhood_types = [\"swap\", \"two_opt\", \"insertion\"]\n",
    "    for neighborhood_type in neighborhood_types:\n",
    "        for _ in range(num_repeats):\n",
    "            best_path, best_cost, best_time = iterated_hill_climbing(data, neighborhood_type=neighborhood_type)\n",
    "            results.append({\"PARAMETR\": neighborhood_type, \"WYNIK_1\": best_cost, \"Ścieżka\": best_path, \"CZAS\": best_time})\n",
    "    df_results = pd.DataFrame(results)\n",
    "    df_results[\"DATASET\"] = dataset_name\n",
    "    return df_results\n",
    "\n",
    "# Dla 3 zestawów danych\n",
    "df_neighborhood_type_1 = test_neighborhood_type(data1, \"DATA1\")\n",
    "df_neighborhood_type_2 = test_neighborhood_type(data2, \"DATA2\")\n",
    "df_neighborhood_type_3 = test_neighborhood_type(data3, \"DATA3\")\n",
    "\n",
    "# Łączenie wyników w jeden DataFrame\n",
    "neighborhood_type_results = pd.concat([df_neighborhood_type_1, df_neighborhood_type_2, df_neighborhood_type_3], ignore_index=True)\n",
    "with pd.ExcelWriter('IHC.xlsx', engine='openpyxl', mode='a') as writer:\n",
    "    neighborhood_type_results.to_excel(writer, sheet_name=\"neighborhood_type\", index=False)"
   ]
  },
  {
   "cell_type": "markdown",
   "metadata": {},
   "source": [
    "### Badanie wpływu zmian wartości parametru `time_limit`"
   ]
  },
  {
   "cell_type": "code",
   "execution_count": null,
   "metadata": {},
   "outputs": [],
   "source": [
    "def test_time_limit(data, dataset_name, num_repeats=10):\n",
    "    results = []\n",
    "    time_limits = [200, 600, 1000, 1400]\n",
    "    for time_limit in time_limits:\n",
    "        for _ in range(num_repeats):\n",
    "            best_path, best_cost, best_time = iterated_hill_climbing(data, time_limit=time_limit)\n",
    "            results.append({\"PARAMETR\": time_limit, \"WYNIK_1\": best_cost, \"Ścieżka\": best_path, \"CZAS\": best_time})\n",
    "    df_results = pd.DataFrame(results)\n",
    "    df_results[\"DATASET\"] = dataset_name\n",
    "    return df_results\n",
    "\n",
    "# Dla 3 zestawów danych\n",
    "df_time_limit_1 = test_time_limit(data1, \"DATA1\")\n",
    "df_time_limit_2 = test_time_limit(data2, \"DATA2\")\n",
    "df_time_limit_3 = test_time_limit(data3, \"DATA3\")\n",
    "\n",
    "# Łączenie wyników w jeden DataFrame\n",
    "time_limit_results = pd.concat([df_time_limit_1, df_time_limit_2, df_time_limit_3], ignore_index=True)\n",
    "with pd.ExcelWriter('IHC.xlsx', engine='openpyxl', mode='a') as writer:\n",
    "    time_limit_results.to_excel(writer, sheet_name=\"time_limit\", index=False)"
   ]
  },
  {
   "cell_type": "markdown",
   "metadata": {},
   "source": [
    "### Badanie wpływu zmian wartości parametru `max_iterations_without_improvement`"
   ]
  },
  {
   "cell_type": "code",
   "execution_count": null,
   "metadata": {},
   "outputs": [],
   "source": [
    "def test_max_iterations_without_improvement(data, dataset_name, num_repeats=10):\n",
    "    results = []\n",
    "    max_iterations_values = [50, 75, 100, 125, 150]\n",
    "    for max_iterations in max_iterations_values:\n",
    "        for _ in range(num_repeats):\n",
    "            best_path, best_cost, best_time = iterated_hill_climbing(data, max_iterations_without_improvement=max_iterations)\n",
    "            results.append({\"PARAMETR\": max_iterations, \"WYNIK_1\": best_cost, \"Ścieżka\": best_path, \"CZAS\": best_time})\n",
    "    df_results = pd.DataFrame(results)\n",
    "    df_results[\"DATASET\"] = dataset_name\n",
    "    return df_results\n",
    "\n",
    "# Dla 3 zestawów danych\n",
    "df_max_iterations_1 = test_max_iterations_without_improvement(data1, \"DATA1\")\n",
    "df_max_iterations_2 = test_max_iterations_without_improvement(data2, \"DATA2\")\n",
    "df_max_iterations_3 = test_max_iterations_without_improvement(data3, \"DATA3\")\n",
    "\n",
    "# Łączenie wyników w jeden DataFrame\n",
    "max_iterations_results = pd.concat([df_max_iterations_1, df_max_iterations_2, df_max_iterations_3], ignore_index=True)\n",
    "with pd.ExcelWriter('IHC.xlsx', engine='openpyxl', mode='a') as writer:\n",
    "    max_iterations_results.to_excel(writer, sheet_name=\"max_iterations_without_improvement\", index=False)"
   ]
  },
  {
   "cell_type": "markdown",
   "metadata": {},
   "source": [
    "### Badanie wpływu zmian wartości parametru `max_hill_climbing_iterations`"
   ]
  },
  {
   "cell_type": "code",
   "execution_count": null,
   "metadata": {},
   "outputs": [
    {
     "name": "stdout",
     "output_type": "stream",
     "text": [
      "Przekroczono limit czasu (500 s).\n",
      "Gotowe 250 dla DATA1\n",
      "Gotowe 500 dla DATA1\n",
      "Przekroczono limit czasu (500 s).\n",
      "Gotowe 750 dla DATA1\n",
      "Przekroczono limit czasu (500 s).\n",
      "Gotowe 1000 dla DATA1\n",
      "Przekroczono limit czasu (500 s).\n",
      "Przekroczono limit czasu (500 s).\n",
      "Przekroczono limit czasu (500 s).\n",
      "Przekroczono limit czasu (500 s).\n",
      "Przekroczono limit czasu (500 s).\n",
      "Przekroczono limit czasu (500 s).\n",
      "Przekroczono limit czasu (500 s).\n",
      "Przekroczono limit czasu (500 s).\n",
      "Przekroczono limit czasu (500 s).\n",
      "Przekroczono limit czasu (500 s).\n",
      "Gotowe 250 dla DATA2\n",
      "Przekroczono limit czasu (500 s).\n",
      "Przekroczono limit czasu (500 s).\n",
      "Przekroczono limit czasu (500 s).\n",
      "Przekroczono limit czasu (500 s).\n",
      "Przekroczono limit czasu (500 s).\n",
      "Przekroczono limit czasu (500 s).\n",
      "Przekroczono limit czasu (500 s).\n",
      "Przekroczono limit czasu (500 s).\n",
      "Przekroczono limit czasu (500 s).\n",
      "Przekroczono limit czasu (500 s).\n",
      "Gotowe 500 dla DATA2\n",
      "Przekroczono limit czasu (500 s).\n",
      "Przekroczono limit czasu (500 s).\n"
     ]
    }
   ],
   "source": [
    "def test_max_hill_climbing_iterations(data, dataset_name, num_repeats=10):\n",
    "    results = []\n",
    "    max_hill_climbing_iterations_values = [250, 500, 750, 1000]\n",
    "    for max_iterations in max_hill_climbing_iterations_values:\n",
    "        for _ in range(num_repeats):\n",
    "            best_path, best_cost, best_time = iterated_hill_climbing(data, max_hill_climbing_iterations=max_iterations)\n",
    "            results.append({\"PARAMETR\": max_iterations, \"WYNIK_1\": best_cost, \"Ścieżka\": best_path, \"CZAS\": best_time})\n",
    "        print(f\"Gotowe {max_iterations} dla {dataset_name}\")\n",
    "    df_results = pd.DataFrame(results)\n",
    "    df_results[\"DATASET\"] = dataset_name\n",
    "    return df_results\n",
    "\n",
    "# Dla 3 zestawów danych\n",
    "df_max_hill_climbing_1 = test_max_hill_climbing_iterations(data1, \"DATA1\")\n",
    "df_max_hill_climbing_2 = test_max_hill_climbing_iterations(data2, \"DATA2\")\n",
    "df_max_hill_climbing_3 = test_max_hill_climbing_iterations(data3, \"DATA3\")\n",
    "\n",
    "# Łączenie wyników w jeden DataFrame\n",
    "max_hill_climbing_results = pd.concat([df_max_hill_climbing_1, df_max_hill_climbing_2, df_max_hill_climbing_3], ignore_index=True)\n",
    "with pd.ExcelWriter('IHC.xlsx', engine='openpyxl', mode='a') as writer:\n",
    "    max_hill_climbing_results.to_excel(writer, sheet_name=\"max_hill_climbing_iterations\", index=False)"
   ]
  }
 ],
 "metadata": {
  "kernelspec": {
   "display_name": "Python 3",
   "language": "python",
   "name": "python3"
  },
  "language_info": {
   "codemirror_mode": {
    "name": "ipython",
    "version": 3
   },
   "file_extension": ".py",
   "mimetype": "text/x-python",
   "name": "python",
   "nbconvert_exporter": "python",
   "pygments_lexer": "ipython3",
   "version": "3.12.6"
  }
 },
 "nbformat": 4,
 "nbformat_minor": 2
}
