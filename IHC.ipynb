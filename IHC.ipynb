{
 "cells": [
  {
   "cell_type": "markdown",
   "metadata": {},
   "source": [
    "Biblioteki"
   ]
  },
  {
   "cell_type": "code",
   "execution_count": 1,
   "metadata": {},
   "outputs": [],
   "source": [
    "import pandas as pd\n",
    "import numpy as np\n",
    "import matplotlib.pyplot as plt\n",
    "import time\n",
    "import itertools\n",
    "import random\n",
    "import math\n",
    "from collections import deque\n",
    "from openpyxl import load_workbook"
   ]
  },
  {
   "cell_type": "markdown",
   "metadata": {},
   "source": [
    "Rodzaj ruchów"
   ]
  },
  {
   "cell_type": "code",
   "execution_count": 6,
   "metadata": {},
   "outputs": [],
   "source": [
    "# Wybieramy dwie pozycje i zmieniamy je miejscami \n",
    "def swap_move(path):  \n",
    "    for i, j in itertools.combinations(range(len(path)), 2):\n",
    "        new_path = path[:]\n",
    "        new_path[i], new_path[j] = new_path[j], new_path[i]\n",
    "        yield new_path\n",
    " \n",
    "\n",
    "# Odwracamy segment pomiędzy wybranymi wartościami czyli \n",
    "# [a b c d e] -> [a d c b e]\n",
    "def two_opt_move(path):\n",
    "    for i, j in itertools.combinations(range(len(path)), 2):\n",
    "        new_path = path[:i] + path[i:j][::-1] + path[j:]\n",
    "        yield new_path\n",
    " \n",
    "# Wybieramy jeden wierzchołek w ścieżce, usuwamy z jednego miejsca i przerzucamy w inne miejsce\n",
    "def insertion_move(path):\n",
    "    n = len(path)\n",
    "    for i in range(n):\n",
    "        for j in range(n):\n",
    "            if i != j:\n",
    "                new_path = path[:]\n",
    "                node = new_path.pop(i)\n",
    "                new_path.insert(j, node)\n",
    "                yield new_path\n"
   ]
  },
  {
   "cell_type": "markdown",
   "metadata": {},
   "source": [
    "Koszt"
   ]
  },
  {
   "cell_type": "code",
   "execution_count": 7,
   "metadata": {},
   "outputs": [],
   "source": [
    "def calculate_path_cost(matrix, path):\n",
    "    return sum(matrix[path[i - 1]][path[i]] for i in range(len(path))) + matrix[path[-1]][path[0]]"
   ]
  },
  {
   "cell_type": "markdown",
   "metadata": {},
   "source": [
    "Pobór danych"
   ]
  },
  {
   "cell_type": "code",
   "execution_count": 8,
   "metadata": {},
   "outputs": [],
   "source": [
    "# file_path1 = \"C:/Users/olgas/OneDrive/Documents/GitHub/TSP-problem/Dane_TSP_48.xlsx\"\n",
    "# file_path2 = \"C:/Users/olgas/OneDrive/Documents/GitHub/TSP-problem/Dane_TSP_76.xlsx\"\n",
    "# file_path3 = \"C:/Users/olgas/OneDrive/Documents/GitHub/TSP-problem/Dane_TSP_127.xlsx\"\n",
    "\n",
    "# file_path1 = \"C:/Users/Justyna/source/repos/Projekt_IO/TSP-problem/Dane_TSP_48.xlsx\"\n",
    "# file_path2 = \"C:/Users/Justyna/source/repos/Projekt_IO/TSP-problem/Dane_TSP_76.xlsx\"\n",
    "# file_path3 = \"C:/Users/Justyna/source/repos/Projekt_IO/TSP-problem/Dane_TSP_127.xlsx\"\n",
    "\n",
    "file_path1 = \"C:/Users/ameli/OneDrive/Documents/GitHub/TSP-problem/Dane_TSP_48.xlsx\"\n",
    "file_path2 = \"C:/Users/ameli/OneDrive/Documents/GitHub/TSP-problem/Dane_TSP_76.xlsx\"\n",
    "file_path3 = \"C:/Users/ameli/OneDrive/Documents/GitHub/TSP-problem/Dane_TSP_127.xlsx\"\n",
    "\n",
    "# file_path1 = \"C:/Users/wera6/Downloads/Dane_TSP_48.xlsx\"\n",
    "# file_path2 = \"C:/Users/wera6/Downloads/Dane_TSP_76.xlsx\"\n",
    "# file_path3 = \"C:/Users/wera6/Downloads/Dane_TSP_127.xlsx\"\n",
    "\n",
    "# index_col=0 zamienia pierwszą kolumne na indeksy wierszy \n",
    "# .to_numpy() zamienia ramkę danych na macierz\n",
    "data1 = pd.read_excel(file_path1, index_col=0).to_numpy()\n",
    "\n",
    "data2 = pd.read_excel(file_path2, index_col=0).to_numpy()\n",
    "\n",
    "data3 = pd.read_excel(file_path3, index_col=0).to_numpy()"
   ]
  },
  {
   "cell_type": "markdown",
   "metadata": {},
   "source": [
    "Algorytm IHC"
   ]
  },
  {
   "cell_type": "code",
   "execution_count": 11,
   "metadata": {},
   "outputs": [],
   "source": [
    "# Mapowanie typów sąsiedztwa na funkcje\n",
    "neighborhood_functions = {\n",
    "    \"swap\": swap_move,\n",
    "    \"two_opt\": two_opt_move,\n",
    "    \"insertion\": insertion_move\n",
    "}\n",
    "\n",
    "def hill_climbing(distance_matrix, initial_route, neighborhood_type, max_iterations_without_improvement, max_hill_climbing_iterations):\n",
    "    current_route = initial_route\n",
    "    current_distance = calculate_path_cost(distance_matrix, current_route)\n",
    "    \n",
    "    neighbor_func = neighborhood_functions[neighborhood_type]\n",
    "    iterations_without_improvement = 0\n",
    "    total_iterations = 0\n",
    "\n",
    "    while iterations_without_improvement < max_iterations_without_improvement and total_iterations < max_hill_climbing_iterations:\n",
    "        improved = False\n",
    "        for neighbor in neighbor_func(current_route):\n",
    "            new_distance = calculate_path_cost(distance_matrix, neighbor)\n",
    "            if new_distance < current_distance:\n",
    "                current_route = neighbor\n",
    "                current_distance = new_distance\n",
    "                improved = True\n",
    "                iterations_without_improvement = 0\n",
    "                break  # Skok do następnego sąsiedztwa\n",
    "\n",
    "        if not improved:\n",
    "            iterations_without_improvement += 1\n",
    "        \n",
    "        total_iterations += 1\n",
    "\n",
    "    return current_route, current_distance\n",
    "\n",
    "def iterated_hill_climbing(distance_matrix, num_starts=100, neighborhood_type=\"swap\", time_limit=None, max_iterations_without_improvement=100, max_hill_climbing_iterations=1000):\n",
    "    start_time = time.time()  # Zapisz czas rozpoczęcia\n",
    "\n",
    "    n = len(distance_matrix)\n",
    "    best_route = None\n",
    "    best_distance = float('inf')\n",
    "    best_time = float('inf')\n",
    "\n",
    "    for start in range(num_starts):\n",
    "        # Sprawdzenie limitu czasu\n",
    "        if time_limit and (time.time() - start_time > time_limit):\n",
    "            print(f\"Przekroczono limit czasu ({time_limit} s).\")\n",
    "            break\n",
    "\n",
    "        # Losowe rozwiązanie początkowe\n",
    "        initial_route = list(range(n))\n",
    "        random.shuffle(initial_route)\n",
    "\n",
    "        # Wspinaczka\n",
    "        hill_climbing_start_time = time.time()\n",
    "        current_route, current_distance = hill_climbing(distance_matrix, initial_route, neighborhood_type, max_iterations_without_improvement, max_hill_climbing_iterations)\n",
    "        hill_climbing_time = time.time() - hill_climbing_start_time\n",
    "\n",
    "        # Aktualizacja najlepszego rozwiązania\n",
    "        if current_distance < best_distance:\n",
    "            best_route = current_route\n",
    "            best_distance = current_distance\n",
    "            best_time = hill_climbing_time\n",
    "\n",
    "    return best_route, best_distance, best_time"
   ]
  },
  {
   "cell_type": "markdown",
   "metadata": {},
   "source": [
    "Generowanie rozwiązań"
   ]
  },
  {
   "cell_type": "code",
   "execution_count": 12,
   "metadata": {},
   "outputs": [
    {
     "name": "stdout",
     "output_type": "stream",
     "text": [
      "Przekroczono limit czasu (1000 s).\n"
     ]
    }
   ],
   "source": [
    "# Metoda SWAP\n",
    "swap_p_1, swap_c_1, swap_t_1= iterated_hill_climbing(data1, num_starts=150,neighborhood_type= \"swap\", time_limit=1000)\n",
    "swap_p_2, swap_c_2, swap_t_2= iterated_hill_climbing(data2, num_starts=150,neighborhood_type= \"swap\", time_limit=1000)\n",
    "swap_p_3, swap_c_3, swap_t_3= iterated_hill_climbing(data3, num_starts=150,neighborhood_type= \"swap\", time_limit=1000)"
   ]
  },
  {
   "cell_type": "code",
   "execution_count": 13,
   "metadata": {},
   "outputs": [
    {
     "name": "stdout",
     "output_type": "stream",
     "text": [
      "Przekroczono limit czasu (1000 s).\n",
      "Przekroczono limit czasu (1000 s).\n"
     ]
    }
   ],
   "source": [
    "# Metoda TWO OPT\n",
    "opt_p_1, opt_c_1, opt_t_1= iterated_hill_climbing(data1, num_starts=150,neighborhood_type= \"two_opt\", time_limit=1000)\n",
    "opt_p_2, opt_c_2, opt_t_2= iterated_hill_climbing(data2, num_starts=150,neighborhood_type= \"two_opt\", time_limit=1000)\n",
    "opt_p_3, opt_c_3, opt_t_3= iterated_hill_climbing(data3, num_starts=150,neighborhood_type= \"two_opt\", time_limit=1000)"
   ]
  },
  {
   "cell_type": "code",
   "execution_count": null,
   "metadata": {},
   "outputs": [],
   "source": [
    "# Metoda INSERTION\n",
    "ins_p_1, ins_c_1, ins_t_1= iterated_hill_climbing(data1, num_starts=150,neighborhood_type= \"insertion\", time_limit=1000)\n",
    "ins_p_2, ins_c_2, ins_t_2= iterated_hill_climbing(data2, num_starts=150,neighborhood_type= \"insertion\", time_limit=1000)\n",
    "ins_p_3, ins_c_3, ins_t_3= iterated_hill_climbing(data3, num_starts=150,neighborhood_type= \"insertion\", time_limit=1000)"
   ]
  },
  {
   "cell_type": "markdown",
   "metadata": {},
   "source": [
    "Układ w DF"
   ]
  },
  {
   "cell_type": "code",
   "execution_count": null,
   "metadata": {},
   "outputs": [],
   "source": [
    "W4 =  {\n",
    "    \"Długość ścieżki\": [swap_c_1, opt_c_1, ins_c_1],\n",
    "    \"Ścieżka\": [swap_p_1, opt_p_1, ins_p_1],\n",
    "    \"Czas\": [swap_t_1, opt_t_1, ins_t_1]\n",
    "}\n",
    "\n",
    "i1 = pd.DataFrame(data = W4)\n",
    "i1.index = [\"Klasyczna\",\"Swap\" , \"2-opt\", \"Insertion\"]\n",
    "\n",
    "W5 =  {\n",
    "    \"Długość ścieżki\": [swap_c_2, opt_c_2, ins_c_2],\n",
    "    \"Ścieżka\": [swap_p_2, opt_p_2, ins_p_2],\n",
    "    \"Czas\": [swap_t_2, opt_t_2, ins_t_2]\n",
    "}\n",
    "\n",
    "i2 = pd.DataFrame(data = W5)\n",
    "i2.index = [\"Klasyczna\",\"Swap\" , \"2-opt\", \"Insertion\"]\n",
    "\n",
    "W6 =  {\n",
    "    \"Długość ścieżki\": [swap_c_3, opt_c_3, ins_c_3],\n",
    "    \"Ścieżka\": [swap_p_3, opt_p_3, ins_p_3],\n",
    "    \"Czas\": [swap_t_3, opt_t_3, ins_t_3]\n",
    "}\n",
    "\n",
    "i3 = pd.DataFrame(data = W6)\n",
    "i3.index = [\"Klasyczna\",\"Swap\" , \"2-opt\", \"Insertion\"]"
   ]
  },
  {
   "cell_type": "markdown",
   "metadata": {},
   "source": [
    "Badanie wpływu parametru num_starts"
   ]
  },
  {
   "cell_type": "code",
   "execution_count": null,
   "metadata": {},
   "outputs": [],
   "source": [
    "# Stałe parametry\n",
    "time_limit = 1000\n",
    "\n",
    "# DANE NR 1 \n",
    "results = []\n",
    "for num_starts in range(1, 200,  20):\n",
    "    best_path, best_cost, best_time = iterated_hill_climbing(data1, num_starts=num_starts ,neighborhood_type= \"two_opt\", time_limit=time_limit)\n",
    "    results.append({\"PARAMETR\": num_starts, \"WYNIK_1\": best_cost, \"Ścieżka\" : best_path, \"CZAS\": best_time})\n",
    "\n",
    "\n",
    "itterration1 = pd.DataFrame(results)\n",
    "\n",
    "\n",
    "\n",
    "# DANE NR 2\n",
    "\n",
    "results = []\n",
    "for num_starts in range(1, 200,  20):\n",
    "    best_path, best_cost, best_time = iterated_hill_climbing(data2, num_starts=num_starts ,neighborhood_type= \"two_opt\", time_limit=time_limit)\n",
    "    results.append({\"PARAMETR\": num_starts, \"WYNIK_2\": best_cost, \"Ścieżka\" : best_path, \"CZAS\": best_time})\n",
    "\n",
    "# Tworzenie ramki danych\n",
    "itterration2 = pd.DataFrame(results)\n",
    "\n",
    "\n",
    "# DANE NR 3\n",
    "\n",
    "results = []\n",
    "for num_starts in range(1, 200,  20):\n",
    "    best_path, best_cost, best_time = iterated_hill_climbing(data3, num_starts=num_starts ,neighborhood_type= \"two_opt\", time_limit=time_limit)\n",
    "    results.append({\"PARAMETR\": num_starts, \"WYNIK_3\": best_cost, \"Ścieżka\" : best_path, \"CZAS\": best_time})\n",
    "\n",
    "# Tworzenie ramki danych\n",
    "itterration3 = pd.DataFrame(results)"
   ]
  },
  {
   "cell_type": "code",
   "execution_count": null,
   "metadata": {},
   "outputs": [],
   "source": [
    "merged_itt = itterration1.merge(itterration2, on=\"PARAMETR\").merge(itterration3, on=\"PARAMETR\")"
   ]
  },
  {
   "cell_type": "markdown",
   "metadata": {},
   "source": [
    "Zapis do pliku"
   ]
  },
  {
   "cell_type": "code",
   "execution_count": null,
   "metadata": {},
   "outputs": [],
   "source": [
    "resu = {\n",
    "    \"Porównanie_metod_1\": i1,\n",
    "    \"Porównanie_metod_2\": i2,\n",
    "    \"Porównanie_metod_3\": i3,\n",
    "    \"max_iterations\": merged_itt   \n",
    "}\n",
    "\n",
    "# Ścieżka do pliku Excel\n",
    "file_name = \"IHC.xlsx\"\n",
    "\n",
    "# Zapisujemy dane do Excela\n",
    "with pd.ExcelWriter(file_name) as writer:\n",
    "    for sheet_name, df in resu.items():\n",
    "        df.to_excel(writer, sheet_name=sheet_name, index=False)\n",
    "\n",
    "print(f\"Wyniki zostały zapisane w pliku {file_name}\")"
   ]
  }
 ],
 "metadata": {
  "kernelspec": {
   "display_name": "Python 3",
   "language": "python",
   "name": "python3"
  },
  "language_info": {
   "codemirror_mode": {
    "name": "ipython",
    "version": 3
   },
   "file_extension": ".py",
   "mimetype": "text/x-python",
   "name": "python",
   "nbconvert_exporter": "python",
   "pygments_lexer": "ipython3",
   "version": "3.11.9"
  }
 },
 "nbformat": 4,
 "nbformat_minor": 2
}
